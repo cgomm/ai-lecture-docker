{
 "cells": [
  {
   "cell_type": "code",
   "execution_count": null,
   "metadata": {},
   "outputs": [],
   "source": [
    "from IPython.core.display import HTML\n",
    "with open('../style.css') as f:\n",
    "    css = f.read()\n",
    "HTML(css)"
   ]
  },
  {
   "cell_type": "markdown",
   "metadata": {},
   "source": [
    "# Local Search"
   ]
  },
  {
   "cell_type": "markdown",
   "metadata": {},
   "source": [
    "## Utility Functions"
   ]
  },
  {
   "cell_type": "markdown",
   "metadata": {},
   "source": [
    "The module `extractVariables` implements the function $\\texttt{extractVars}(e)$ that takes a *Python* expression $e$ as its argument and returns the set of all variables and function names occurring in $e$."
   ]
  },
  {
   "cell_type": "code",
   "execution_count": null,
   "metadata": {},
   "outputs": [],
   "source": [
    "import extractVariables as ev"
   ]
  },
  {
   "cell_type": "markdown",
   "metadata": {},
   "source": [
    "The function `collect_variables(expr)` takes a string `expr` that can be interpreted as a Python expression as input and collects all variables occurring in `expr`.  It takes care to eliminate the function symbols from the names returned by `extract_variables`."
   ]
  },
  {
   "cell_type": "code",
   "execution_count": null,
   "metadata": {},
   "outputs": [],
   "source": [
    "def collect_variables(expr):\n",
    "    return frozenset(var for var in ev.extractVars(expr)\n",
    "                         if  var not in dir(__builtins__)\n",
    "                    )"
   ]
  },
  {
   "cell_type": "markdown",
   "metadata": {},
   "source": [
    "The function `arb(S)` takes a set `S` as input and returns an arbitrary element from \n",
    "this set."
   ]
  },
  {
   "cell_type": "code",
   "execution_count": null,
   "metadata": {},
   "outputs": [],
   "source": [
    "def arb(S):\n",
    "    for x in S:\n",
    "        return x"
   ]
  },
  {
   "cell_type": "markdown",
   "metadata": {},
   "source": [
    "We need the function `choice` from the module `random`.  Given a list `L`, `random.choice(L)` returns a random element from `L`.  In order to have reproducible results, we have to set the seed for the random number generator."
   ]
  },
  {
   "cell_type": "code",
   "execution_count": null,
   "metadata": {},
   "outputs": [],
   "source": [
    "import random\n",
    "random.seed(42)"
   ]
  },
  {
   "cell_type": "markdown",
   "metadata": {},
   "source": [
    "Given a dictionary `A`, the function `extend(A)` returns a dictionary `B` such that `B[key] = value` and `B[x] = A[x]` for all `x` that are different from `key`."
   ]
  },
  {
   "cell_type": "code",
   "execution_count": null,
   "metadata": {},
   "outputs": [],
   "source": [
    "def extend(A, key, value):\n",
    "    B = A.copy()\n",
    "    B[key] = value\n",
    "    return B"
   ]
  },
  {
   "cell_type": "markdown",
   "metadata": {},
   "source": [
    "The module `Set` implements <em style=\"color:blue;\">sets</em> as \n",
    "<a href=\"https://en.wikipedia.org/wiki/AVL_tree\">AVL trees</a>.\n",
    "The API provided by `Set` offers the following functions and methods:\n",
    "- `Set()` creates an empty set.\n",
    "- `S.isEmpty()` checks whether the set `S`is empty.\n",
    "- `S.member(x)` checks whether `x` is an element of the set `S`.\n",
    "- `S.insert(x)` inserts `x` into the set `S`.\n",
    "  This does not return a new set but rather modifies the set `S`.\n",
    "- `S.delete(x)` deletes `x` from the set `S`.\n",
    "  This does not return a new set but rather modifies the set `S`.\n",
    "- `S.pop()` returns the smallest element of the set `S`.\n",
    "  Furthermore, this element is removed from `S`.\n",
    "- `S.pop_last()` returns the biggest element of the set `S`.\n",
    "  Furthermore, this element is removed from `S`.\n",
    "- `S.first()` returns the smallest element of the set `S`.\n",
    "- `S.last()` returns the biggest element of the set `S`.\n",
    "\n",
    "Since sets are implemented as <em style=\"color:blue;\">ordered binary trees</em>, the elements of a set need to be <em style=\"color:blue;\">comparable</em>, i.e. if `x` and `y` are inserted into a set, then the \n",
    "expression `x < y` must return a Boolean value and `<` has to define a \n",
    "<em style=\"color:blue;\">linear order</em>.\n",
    "\n",
    "The module `Set` can be used to implement a priority queue that supports the removal of elements."
   ]
  },
  {
   "cell_type": "code",
   "execution_count": null,
   "metadata": {},
   "outputs": [],
   "source": [
    "import sys\n",
    "sys.path.append('..')\n",
    "import Set"
   ]
  },
  {
   "cell_type": "markdown",
   "metadata": {},
   "source": [
    "The function `cast_to_set(L)` returns a `Set` object containing all elements from the iterable `L`. "
   ]
  },
  {
   "cell_type": "code",
   "execution_count": null,
   "metadata": {},
   "outputs": [],
   "source": [
    "def cast_to_Set(L):\n",
    "    Result = Set.Set()\n",
    "    for x in L:\n",
    "        Result.insert(x)\n",
    "    return Result"
   ]
  },
  {
   "cell_type": "markdown",
   "metadata": {},
   "source": [
    "Given a list of sets `L`, the function `union(L)` returns the set of all elements occurring in some set $S$ that is itself a member of the list `L`, i.e. we have\n",
    "$$ \\texttt{union}(L) = \\{ x \\mid \\exists S \\in L : x \\in L \\}. $$ "
   ]
  },
  {
   "cell_type": "code",
   "execution_count": null,
   "metadata": {},
   "outputs": [],
   "source": [
    "def union(L):\n",
    "    return { x for S in L\n",
    "               for x in S\n",
    "           }"
   ]
  },
  {
   "cell_type": "markdown",
   "metadata": {},
   "source": [
    "We define the class `Failure` of exceptions so that we can distinguish `Failure` exceptions from other exceptions.  This is done by creating a new, empty class that is derived from the class `Exception`.  "
   ]
  },
  {
   "cell_type": "code",
   "execution_count": null,
   "metadata": {},
   "outputs": [],
   "source": [
    "class Failure(Exception):\n",
    "    pass"
   ]
  },
  {
   "cell_type": "markdown",
   "metadata": {},
   "source": [
    "## A Constraint Propagation Solver Using Local Search"
   ]
  },
  {
   "cell_type": "markdown",
   "metadata": {},
   "source": [
    "The procedure `solve(P, consistency)` takes a *constraint satisfaction problem* \n",
    "`P` and a flag `consistency` as input.  Here `P` is a triple of the form \n",
    "$$ \\mathcal{P} = \\langle \\mathtt{Variables}, \\mathtt{Values}, \\mathtt{Constraints} \\rangle $$\n",
    "where \n",
    "- $\\mathtt{Variables}$ is a set of strings which serve as *variables*,\n",
    "- $\\mathtt{Values}$ is a set of *values* that can be assigned \n",
    "  to the variables in the set $\\mathtt{Variables}$.\n",
    "- $\\mathtt{Constraints}$ is a set of *formulas* from first order logic.  \n",
    "  Each of these formulas is  called a *constraint* of $\\mathcal{P}$.\n",
    "  \n",
    "The CSP `P` is solved using *local search*.  If `consistency` is `True`, *consistency checking* is used as a \n",
    "preprocessing step. "
   ]
  },
  {
   "cell_type": "code",
   "execution_count": null,
   "metadata": {},
   "outputs": [],
   "source": [
    "def solve(P, consistency=True):\n",
    "    Variables, Values, Constraints = P\n",
    "    VarsInConstrs  = union([ collect_variables(f) for f in Constraints ])\n",
    "    MisspelledVars = (VarsInConstrs - Variables) | (Variables - VarsInConstrs)\n",
    "    if len(MisspelledVars) > 0:\n",
    "        print(\"Did you misspell any of the following Variables?\")\n",
    "        for v in MisspelledVars:\n",
    "            print(v)\n",
    "    ValuesPerVar = { x: Values for x in Variables }\n",
    "    Annotated    = { f: collect_variables(f) for f in Constraints }\n",
    "    if consistency:\n",
    "        Connected    = {}\n",
    "        Var2Formulas = variables_2_formulas(Annotated)\n",
    "        for x in Variables:\n",
    "            Connected[x] = union([ V for f, V in Annotated.items() if x in V ]) - { x }\n",
    "        try:\n",
    "            enforce_consistency(ValuesPerVar, Var2Formulas, Annotated, Connected)\n",
    "            for x, Values in ValuesPerVar.items():\n",
    "                print(f'{x}: {Values}')\n",
    "        except Failure:\n",
    "            return None\n",
    "    return local_search(Variables, ValuesPerVar, Annotated)"
   ]
  },
  {
   "cell_type": "markdown",
   "metadata": {},
   "source": [
    "The function `local_search` takes three parameter.  \n",
    "* `Variables` is the set of all variables occurring in the given *CSP*.\n",
    "* `ValuesPerVar` is a dictionary.  For every variable `x`, `ValuesPerVar[x]` is\n",
    "   the set of values that can be used to instantiate `x`.\n",
    "* `Annotated` is a dictionary.  For every constraint $f$, $\\texttt{Annotated}[f]$ is the set\n",
    "   of variables occurring in $f$.\n",
    "\n",
    "If the computation is successful, `local_search` returns a dictionary that encodes a solution of the\n",
    "given *CSP* by mapping variables to values.  The algorithm applied works as follows:\n",
    "* Initialize the values of the variables in $\\texttt{Variables}$ randomly.  \n",
    "* $\\texttt{Constraints}$ are satisfied, return the solution.\n",
    "* For every  $x \\in \\texttt{Variables}$, count the number of *unsatisfied* constraints that involve the\n",
    "  variable $x$. \n",
    "* Set $\\texttt{maxNum}$ to be the maximum of these numbers, i.e. $\\texttt{maxNum}$ is the maximal number of\n",
    "  unsatisfied constraints for any variable.\n",
    "* Compute the set $\\texttt{maxVars}$ of those variables that have $\\texttt{maxNum}$ unsatisfied constraints.\n",
    "* Randomly choose a variable $x$ from the set $\\texttt{maxVars}$.\n",
    "* Find a value $d \\in \\texttt{Values}$ such that by assigning $d$ to the variable $x$, the number of\n",
    "  unsatisfied constraints for the variable $x$ is minimized.  \n",
    "  If there is more than one value $d$ with this property, choose the value $d$ randomly from those values\n",
    "  that minimize the number of unsatisfied constraints.\n",
    "* Rinse and repeat until a solution is found."
   ]
  },
  {
   "cell_type": "code",
   "execution_count": null,
   "metadata": {},
   "outputs": [],
   "source": [
    "def local_search(Variables, ValuesPerVar, Annotated):\n",
    "    Variables = list(Variables)  # convert to list for random.choice(Variables) to work \n",
    "    Assign    = { x: random.choice(list(ValuesPerVar[x])) for x in Variables }\n",
    "    iteration = 0\n",
    "    lastVar   = arb(Variables)\n",
    "    while True:\n",
    "        Conflicts = [ (numConflicts(x, Assign, Annotated), x) for x in Variables\n",
    "                                                              if  x != lastVar\n",
    "                    ]\n",
    "        maxNum, _ = Set.last(cast_to_Set(Conflicts))\n",
    "        if maxNum == 0 and numConflicts(lastVar, Assign, Annotated) == 0:      \n",
    "            print(f'Number of iterations: {iteration}')\n",
    "            return Assign\n",
    "        if iteration % 11 == 0:    # avoid infinite loop\n",
    "            x = random.choice(Variables)\n",
    "        else:     # choose var with max number of conflicts\n",
    "            FaultyVars = [ var for (num, var) in Conflicts if  num == maxNum ]\n",
    "            x = random.choice(FaultyVars)\n",
    "        if iteration % 13 == 0:       # avoid infinite loop\n",
    "            newVal = random.choice(list(ValuesPerVar[x])) \n",
    "        else:\n",
    "            Conflicts  = [ (numConflicts(x, extend(Assign, x, val), Annotated), val) \n",
    "                            for val in ValuesPerVar[x] \n",
    "                         ]\n",
    "            minNum, _  = Set.first(cast_to_Set(Conflicts))\n",
    "            ValuesForX = [ val for (n, val) in Conflicts if n == minNum ]\n",
    "            newVal     = random.choice(ValuesForX)\n",
    "        Assign[x]  = newVal\n",
    "        lastVar    = x\n",
    "        iteration += 1"
   ]
  },
  {
   "cell_type": "markdown",
   "metadata": {},
   "source": [
    "The function `variables_2_formulas` takes the set of annotated constraints as input.  It returns\n",
    "a dictionary that attaches to every variable `x` the set of those constraints `f` such that `x` occurs in `f`."
   ]
  },
  {
   "cell_type": "code",
   "execution_count": null,
   "metadata": {},
   "outputs": [],
   "source": [
    "def variables_2_formulas(Annotated):\n",
    "    Dictionary = {};\n",
    "    for f, Vars in Annotated.items():\n",
    "        for x in Vars: \n",
    "            if x in Dictionary:\n",
    "                Dictionary[x] |= { f }\n",
    "            else:\n",
    "                Dictionary[x]  = { f }\n",
    "    return Dictionary"
   ]
  },
  {
   "cell_type": "markdown",
   "metadata": {},
   "source": [
    "The function `enforce_consistency` takes 4 arguments:\n",
    "- `ValuesPerVar` is a dictionary.  For every variable `x` we have that `ValuesPerVar[x]` is the set of values that can be substituted for `x`.\n",
    "- `Var2Formulas`is a dictionary.  For every variable `x` we have that `Var2Formulas[x]` is the set of those formulas that mention the variable `x`.\n",
    "- `Annotated` is a dictionary.  For every constraint `f`, `Annotated[f]` is the set of variables occurring in `f`.\n",
    "- `Connected` is a dictionary.  For every variable `x` we have that `Connected[x]` is the set of those variables `y` that are *directly connected* with the variable `x`.  Two variables `x` and `y` are *directly connected* if there is a constraint `F` such that both `x` and `y` occur in `F`.  In this case, `F` is *connecting* `x` and `y`.\n",
    "\n",
    "The function `enforce_consistency`shrinks the sets `ValuesPerVar[x]` such that the values in `ValuesPerVar[x]` are consistent for `x` for all constraints."
   ]
  },
  {
   "cell_type": "code",
   "execution_count": null,
   "metadata": {},
   "outputs": [],
   "source": [
    "def enforce_consistency(ValuesPerVar, Var2Formulas, Annotated, Connected):\n",
    "    UncheckedVars = set(Var2Formulas.keys())\n",
    "    while len(UncheckedVars) > 0:\n",
    "        variable    = UncheckedVars.pop()\n",
    "        Constraints = Var2Formulas[variable]\n",
    "        Values      = ValuesPerVar[variable]\n",
    "        RemovedVals = set()\n",
    "        for f in Constraints:\n",
    "            OtherVars = Annotated[f] - { variable }\n",
    "            for value in Values:\n",
    "                if not exists_values(variable, value, f, OtherVars, ValuesPerVar):\n",
    "                    RemovedVals   |= { value }\n",
    "                    UncheckedVars |= Connected[variable]\n",
    "        Remaining = Values - RemovedVals\n",
    "        if len(Remaining) == 0:\n",
    "            raise Failure()\n",
    "        ValuesPerVar[variable] = Remaining"
   ]
  },
  {
   "cell_type": "markdown",
   "metadata": {},
   "source": [
    "The procedure `exists_values` takes five arguments:\n",
    "- `var` is a variable, \n",
    "- `val` is a value val, \n",
    "- `f`   is a constraint,\n",
    "- `Vars` is the set Vars of those variables in f that are different from `var`, and\n",
    "- `ValuesPerVar` is a dictionary.  For every variable `x` we have that `ValuesPerVar[x]` is the set of those values that still may be tried for `x`.\n",
    "\n",
    "The function checks whether there is a value for `var` such that the other variables occurring in the constraint `f` can be set to values such that the constraint `f` is satisfied."
   ]
  },
  {
   "cell_type": "code",
   "execution_count": null,
   "metadata": {},
   "outputs": [],
   "source": [
    "def exists_values(var, val, f, Vars, ValuesPerVar):\n",
    "    Assignments = all_assignments(Vars, ValuesPerVar)\n",
    "    return any(eval(f, extend(A, var, val)) for A in Assignments)"
   ]
  },
  {
   "cell_type": "markdown",
   "metadata": {},
   "source": [
    "The function `all_assignments` returns the list of all possible assignments for the variables in the set Vars.\n",
    "For every variable `x`, the values for `x` are taken from `ValuesPerVar[x]`."
   ]
  },
  {
   "cell_type": "code",
   "execution_count": null,
   "metadata": {},
   "outputs": [],
   "source": [
    "def all_assignments(Variables, ValuesPerVar):\n",
    "    Variables = set(Variables) # turn frozenset into a set\n",
    "    if len(Variables) == 0:\n",
    "        return [ {} ]  # list containing empty assignment\n",
    "    var         = Variables.pop()\n",
    "    Values      = ValuesPerVar[var]\n",
    "    Assignments = all_assignments(Variables, ValuesPerVar)\n",
    "    return [ extend(A, var, val) for A in Assignments \n",
    "                                 for val in ValuesPerVar[var]\n",
    "           ]"
   ]
  },
  {
   "cell_type": "markdown",
   "metadata": {},
   "source": [
    "The function `numConflicts` takes three arguments:\n",
    "- `x` is a variable,\n",
    "- `Assign` is a dictionary mapping variables to values,\n",
    "- `Annotated` is a set of pairs of the form `(f, V)` where `f` is a constraint and `V` is the set of variables occurring in `f`.\n",
    "        \n",
    "The function returns the number of constraints `f` such that `x` occurs in `f` but `f` is not satisfied."
   ]
  },
  {
   "cell_type": "code",
   "execution_count": null,
   "metadata": {},
   "outputs": [],
   "source": [
    "def numConflicts(x, Assign, Annotated):\n",
    "    NewAssign = Assign.copy()\n",
    "    return len([ (f, V) for (f, V) in Annotated.items() \n",
    "                        if  x in V and not eval(f, NewAssign) \n",
    "               ])"
   ]
  },
  {
   "cell_type": "markdown",
   "metadata": {},
   "source": [
    "## Solving the *Eight-Queens-Puzzle*"
   ]
  },
  {
   "cell_type": "code",
   "execution_count": null,
   "metadata": {},
   "outputs": [],
   "source": [
    "%run N-Queens-Problem-CSP.ipynb"
   ]
  },
  {
   "cell_type": "code",
   "execution_count": null,
   "metadata": {},
   "outputs": [],
   "source": [
    "P = create_csp(8)"
   ]
  },
  {
   "cell_type": "markdown",
   "metadata": {},
   "source": [
    "As the *N queens problem* is not very difficult, we will not use *consistency checking*.\n",
    "Local search takes 62 milliseconds on my desktop to solve the eight queens puzzle.  "
   ]
  },
  {
   "cell_type": "code",
   "execution_count": null,
   "metadata": {
    "scrolled": false
   },
   "outputs": [],
   "source": [
    "%%time\n",
    "Solution = solve(P, False)\n",
    "print(f'Solution = {Solution}')"
   ]
  },
  {
   "cell_type": "code",
   "execution_count": null,
   "metadata": {},
   "outputs": [],
   "source": [
    "show_solution(Solution)"
   ]
  },
  {
   "cell_type": "markdown",
   "metadata": {},
   "source": [
    "The 100 queens problem can be solved in 37 seconds."
   ]
  },
  {
   "cell_type": "code",
   "execution_count": null,
   "metadata": {},
   "outputs": [],
   "source": [
    "P = create_csp(100)"
   ]
  },
  {
   "cell_type": "code",
   "execution_count": null,
   "metadata": {},
   "outputs": [],
   "source": [
    "%%time\n",
    "Solution = solve(P, False)"
   ]
  },
  {
   "cell_type": "markdown",
   "metadata": {},
   "source": [
    "## Solving the *Zebra Puzzle*"
   ]
  },
  {
   "cell_type": "code",
   "execution_count": null,
   "metadata": {},
   "outputs": [],
   "source": [
    "%run Zebra.ipynb"
   ]
  },
  {
   "cell_type": "code",
   "execution_count": null,
   "metadata": {},
   "outputs": [],
   "source": [
    "zebra = zebra_csp()"
   ]
  },
  {
   "cell_type": "code",
   "execution_count": null,
   "metadata": {
    "scrolled": true
   },
   "outputs": [],
   "source": [
    "%%time\n",
    "Solution = solve(zebra, False)"
   ]
  },
  {
   "cell_type": "markdown",
   "metadata": {},
   "source": [
    "Solving the *Zebra Puzzle* takes 618 milliseconds."
   ]
  },
  {
   "cell_type": "code",
   "execution_count": null,
   "metadata": {},
   "outputs": [],
   "source": [
    "show_solution(Solution)"
   ]
  },
  {
   "cell_type": "markdown",
   "metadata": {},
   "source": [
    "## Solving a Sudoku Puzzle"
   ]
  },
  {
   "cell_type": "code",
   "execution_count": null,
   "metadata": {},
   "outputs": [],
   "source": [
    "%run Sudoku.ipynb"
   ]
  },
  {
   "cell_type": "code",
   "execution_count": null,
   "metadata": {
    "scrolled": true
   },
   "outputs": [],
   "source": [
    "csp = sudoku_csp(Sudoku)\n",
    "csp"
   ]
  },
  {
   "cell_type": "markdown",
   "metadata": {},
   "source": [
    "Solving the given Sudoku puzzle takes about 25 minutes."
   ]
  },
  {
   "cell_type": "code",
   "execution_count": null,
   "metadata": {
    "scrolled": true
   },
   "outputs": [],
   "source": [
    "%%time\n",
    "Solution = solve(csp)"
   ]
  },
  {
   "cell_type": "code",
   "execution_count": null,
   "metadata": {
    "scrolled": false
   },
   "outputs": [],
   "source": [
    "show_solution(Solution)"
   ]
  },
  {
   "cell_type": "markdown",
   "metadata": {},
   "source": [
    "## Solving a Crypto-Arithmetic Puzzle"
   ]
  },
  {
   "cell_type": "code",
   "execution_count": null,
   "metadata": {},
   "outputs": [],
   "source": [
    "%run Crypto-Arithmetic.ipynb"
   ]
  },
  {
   "cell_type": "code",
   "execution_count": null,
   "metadata": {},
   "outputs": [],
   "source": [
    "csp = crypto_csp()"
   ]
  },
  {
   "cell_type": "markdown",
   "metadata": {},
   "source": [
    "Solving the crypto-arithmetic puzzle took 2.7 seconds."
   ]
  },
  {
   "cell_type": "code",
   "execution_count": null,
   "metadata": {},
   "outputs": [],
   "source": [
    "%%time\n",
    "Solution = solve(csp, True)"
   ]
  },
  {
   "cell_type": "code",
   "execution_count": null,
   "metadata": {},
   "outputs": [],
   "source": [
    "show_solution(Solution)"
   ]
  },
  {
   "cell_type": "code",
   "execution_count": null,
   "metadata": {},
   "outputs": [],
   "source": []
  }
 ],
 "metadata": {
  "kernelspec": {
   "display_name": "Python 3",
   "language": "python",
   "name": "python3"
  },
  "language_info": {
   "codemirror_mode": {
    "name": "ipython",
    "version": 3
   },
   "file_extension": ".py",
   "mimetype": "text/x-python",
   "name": "python",
   "nbconvert_exporter": "python",
   "pygments_lexer": "ipython3",
   "version": "3.7.9"
  },
  "toc": {
   "base_numbering": 1,
   "nav_menu": {},
   "number_sections": true,
   "sideBar": true,
   "skip_h1_title": false,
   "title_cell": "Table of Contents",
   "title_sidebar": "Contents",
   "toc_cell": false,
   "toc_position": {},
   "toc_section_display": true,
   "toc_window_display": false
  },
  "varInspector": {
   "cols": {
    "lenName": 16,
    "lenType": 16,
    "lenVar": 40
   },
   "kernels_config": {
    "python": {
     "delete_cmd_postfix": "",
     "delete_cmd_prefix": "del ",
     "library": "var_list.py",
     "varRefreshCmd": "print(var_dic_list())"
    },
    "r": {
     "delete_cmd_postfix": ") ",
     "delete_cmd_prefix": "rm(",
     "library": "var_list.r",
     "varRefreshCmd": "cat(var_dic_list()) "
    }
   },
   "types_to_exclude": [
    "module",
    "function",
    "builtin_function_or_method",
    "instance",
    "_Feature"
   ],
   "window_display": false
  }
 },
 "nbformat": 4,
 "nbformat_minor": 2
}
