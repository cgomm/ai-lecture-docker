{
 "cells": [
  {
   "cell_type": "code",
   "execution_count": null,
   "metadata": {},
   "outputs": [],
   "source": [
    "from IPython.core.display import HTML\n",
    "with open('../style.css') as f:\n",
    "    css = f.read()\n",
    "HTML(css)"
   ]
  },
  {
   "cell_type": "markdown",
   "metadata": {},
   "source": [
    "# A Crypto-Arithmetic Puzzle"
   ]
  },
  {
   "cell_type": "markdown",
   "metadata": {},
   "source": [
    "In this notebook we formulate the crypto-arithmetic puzzle shown in the picture below as a constraint satisfaction problem.\n",
    "<img src=\"send-more-money.png\">"
   ]
  },
  {
   "cell_type": "markdown",
   "metadata": {},
   "source": [
    "The idea is that the letters \n",
    "\"$\\texttt{S}$\", \"$\\texttt{E}$\", \"$\\texttt{N}$\", \"$\\texttt{D}$\", \"$\\texttt{M}$\", \"$\\texttt{O}$\", \"$\\texttt{R}$\", \"$\\texttt{Y}$\" occurring in this puzzle\n",
    "are interpreted as variables ranging over the set of decimal digits, i.e. these variables can take values in\n",
    "the set $\\{0,1,2,3,4,5,6,7,8,9\\}$.  Then, the string \"$\\texttt{SEND}$\" is interpreted as a decimal number,\n",
    "i.e. it is interpreted as the number\n",
    "$$\\texttt{S} \\cdot 10^3 + \\texttt{E} \\cdot 10^2 + \\texttt{N} \\cdot 10^1 + \\texttt{D} \\cdot 10^0.$$\n",
    "The strings \"$\\texttt{MORE}$ and \"$\\texttt{MONEY}$\" are interpreted similarly. To make the problem\n",
    "interesting, the assumption is that *different variables have different* values.  \n",
    "Furthermore, the digits at the beginning of a number should be *different from $0$*.  Then, we have to find values such that the formula\n",
    "$$   (\\texttt{S} \\cdot 10^3 + \\texttt{E} \\cdot 10^2 + \\texttt{N} \\cdot 10 + \\texttt{D}) \n",
    "  + (\\texttt{M} \\cdot 10^3 + \\texttt{O} \\cdot 10^2 + \\texttt{R} \\cdot 10 + \\texttt{E})\n",
    "  = \\texttt{M} \\cdot 10^4 + \\texttt{O} \\cdot 10^3 + \\texttt{N} \\cdot 10^2 + \\texttt{E} \\cdot 10 + \\texttt{Y}.\n",
    "$$\n",
    "is true.  The problem with this constraint is that it involves far too many variables.  As this constraint can only be\n",
    "checked when all the variables have values assigned to them, the backtracking search would essentially\n",
    "boil down to a mere brute force search.  We would have 8 variables and hence we would have to test $10^{8}$\n",
    "possible assignments. In order to do better, we have to perform the addition in the figure shown above\n",
    "column by column, just as it is taught in elementary school.  To be able to do this, we have to introduce <em>carry digits</em> \"$\\texttt{C1}$\", \"$\\texttt{C2}$\", \"$\\texttt{C3}$\" where $\\texttt{C1}$ is the carry produced by adding \n",
    "$\\texttt{D}$ and $\\texttt{E}$, $\\texttt{C2}$ is the carry produced by adding \n",
    "$\\texttt{N}$, $\\texttt{R}$ and $\\texttt{C1}$, and $\\texttt{C3}$ is the carry produced by adding \n",
    "$\\texttt{E}$, $\\texttt{O}$ and $\\texttt{C2}$. "
   ]
  },
  {
   "cell_type": "markdown",
   "metadata": {},
   "source": [
    "For a set $V$ of variables, the function $\\texttt{allDifferent}(V)$ generates a set of formulas that express that all the variables of $V$ are different. "
   ]
  },
  {
   "cell_type": "code",
   "execution_count": null,
   "metadata": {},
   "outputs": [],
   "source": [
    "def allDifferent(Variables):\n",
    "    return { f'{x} != {y}' for x in Variables\n",
    "                           for y in Variables \n",
    "                           if x < y \n",
    "           }"
   ]
  },
  {
   "cell_type": "markdown",
   "metadata": {},
   "source": [
    "The function `crypto_csp` computes a constraint satisfaction problem that encodes the crypto-arithmetic puzzle shown above."
   ]
  },
  {
   "cell_type": "code",
   "execution_count": null,
   "metadata": {},
   "outputs": [],
   "source": [
    "def crypto_csp():\n",
    "    Digits       = { 'S', 'E', 'N', 'D', 'M', 'O', 'R', 'Y' }\n",
    "    Variables    = Digits | { 'C1', 'C2', 'C3' }\n",
    "    Values       = { 0, 1, 2, 3, 4, 5, 6, 7, 8, 9 }\n",
    "    Constraints  = allDifferent(Digits)\n",
    "    Constraints |= { '(D + E)      % 10 == Y', '(D + E)      // 10 == C1',\n",
    "                     '(N + R + C1) % 10 == E', '(N + R + C1) // 10 == C2',\n",
    "                     '(E + O + C2) % 10 == N', '(E + O + C2) // 10 == C3',\n",
    "                     '(S + M + C3) % 10 == O', '(S + M + C3) // 10 == M'\n",
    "                   }\n",
    "    Constraints |= { 'S != 0', 'M != 0' }\n",
    "    # Constraints |= { 'C1 < 2', 'C2 < 2', 'C3 < 2' }\n",
    "    return Variables, Values, Constraints"
   ]
  },
  {
   "cell_type": "code",
   "execution_count": null,
   "metadata": {},
   "outputs": [],
   "source": [
    "puzzle = crypto_csp()\n",
    "puzzle"
   ]
  },
  {
   "cell_type": "code",
   "execution_count": null,
   "metadata": {},
   "outputs": [],
   "source": [
    "def show_solution(A):\n",
    "    if A == None:\n",
    "        print(\"no solution found\")\n",
    "        return\n",
    "    for v in { \"S\", \"E\", \"N\", \"D\", \"M\", \"O\", \"R\", \"Y\" }:\n",
    "        print(f\"{v} = {A[v]}\")\n",
    "    print(\"\\nThe solution of\\n\")\n",
    "    print(\"    S E N D\")\n",
    "    print(\"  + M O R E\")\n",
    "    print(\"  ---------\")\n",
    "    print(\"  M O N E Y\")\n",
    "    print(\"\\nis as follows\\n\")\n",
    "    print(f\"    {A['S']} {A['E']} {A['N']} {A['D']}\")\n",
    "    print(f\"  + {A['M']} {A['O']} {A['R']} {A['E']}\")\n",
    "    print(f\"  ==========\")\n",
    "    print(f\"  {A['M']} {A['O']} {A['N']} {A['E']} {A['Y']}\")"
   ]
  },
  {
   "cell_type": "code",
   "execution_count": null,
   "metadata": {},
   "outputs": [],
   "source": []
  }
 ],
 "metadata": {
  "hide_input": false,
  "kernelspec": {
   "display_name": "Python 3",
   "language": "python",
   "name": "python3"
  },
  "language_info": {
   "codemirror_mode": {
    "name": "ipython",
    "version": 3
   },
   "file_extension": ".py",
   "mimetype": "text/x-python",
   "name": "python",
   "nbconvert_exporter": "python",
   "pygments_lexer": "ipython3",
   "version": "3.7.9"
  },
  "toc": {
   "base_numbering": 1,
   "nav_menu": {},
   "number_sections": true,
   "sideBar": true,
   "skip_h1_title": false,
   "title_cell": "Table of Contents",
   "title_sidebar": "Contents",
   "toc_cell": false,
   "toc_position": {},
   "toc_section_display": true,
   "toc_window_display": false
  },
  "varInspector": {
   "cols": {
    "lenName": 16,
    "lenType": 16,
    "lenVar": 40
   },
   "kernels_config": {
    "python": {
     "delete_cmd_postfix": "",
     "delete_cmd_prefix": "del ",
     "library": "var_list.py",
     "varRefreshCmd": "print(var_dic_list())"
    },
    "r": {
     "delete_cmd_postfix": ") ",
     "delete_cmd_prefix": "rm(",
     "library": "var_list.r",
     "varRefreshCmd": "cat(var_dic_list()) "
    }
   },
   "types_to_exclude": [
    "module",
    "function",
    "builtin_function_or_method",
    "instance",
    "_Feature"
   ],
   "window_display": false
  }
 },
 "nbformat": 4,
 "nbformat_minor": 2
}
