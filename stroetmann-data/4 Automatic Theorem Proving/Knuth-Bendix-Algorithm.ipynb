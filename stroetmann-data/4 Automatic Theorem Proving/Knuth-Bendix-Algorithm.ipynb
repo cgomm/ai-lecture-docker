{
 "cells": [
  {
   "cell_type": "code",
   "execution_count": null,
   "metadata": {},
   "outputs": [],
   "source": [
    "from IPython.core.display import HTML\n",
    "with open (\"../style.css\", \"r\") as file:\n",
    "    css = file.read()\n",
    "HTML(css)"
   ]
  },
  {
   "cell_type": "markdown",
   "metadata": {},
   "source": [
    "# The Knuth-Bendix Completion Algorithm"
   ]
  },
  {
   "cell_type": "markdown",
   "metadata": {},
   "source": [
    "This notebook presents the [Knuth-Bendix completion algorithm](https://en.wikipedia.org/wiki/Knuth%E2%80%93Bendix_completion_algorithm) for transforming a set of equations into a *confluent* term rewriting system.  This notebook is divided into seven sections.\n",
    "- [Parsing](#Parsing)\n",
    "- [Matching](#Matching)\n",
    "- [Term Rewriting](#Term-Rewriting)\n",
    "- [Unification](#Unification)\n",
    "- [The Lexicographic Path Ordering](#The-Lexicographic-Path-Ordering)\n",
    "- [Critical Pairs](#Critical-Pairs)\n",
    "- [The Completion Algorithm](#The-Completion-Algorithm)"
   ]
  },
  {
   "cell_type": "markdown",
   "metadata": {},
   "source": [
    "## Parsing"
   ]
  },
  {
   "cell_type": "markdown",
   "metadata": {},
   "source": [
    "To begin, we need a parser that is capable of parsing terms and equations. This parser is implemented in `Parser.ipynb` and can parse equations of terms and supports the binary operators `+`, `-`, `*`, `/`, `%`, and `^` (exponentiation) with the usual precedences.  Furthermore, function symbols are supported.  It also provides the function `to_str` for turning terms or equations into strings.  All together, it provides the following functions:\n",
    "- `parse_file(file_name)` parses a file containing equations between terms.\n",
    "- `parse_equation(s)` converts the string `s` into an equation.\n",
    "- `parse_term(s)` converts the string `s` into a term.\n",
    "- `to_str(o)` converts an object `o` into a string.  The object `o` either is\n",
    "  * a term,\n",
    "  * an equation,\n",
    "  * a list of equations,\n",
    "  * a set of equations, or\n",
    "  * a dictionary representing a *substitution*.\n",
    "\n",
    "Terms and equations are represented as nested tuples.  The parser is implemented using the parser generator [Ply](https://www.dabeaz.com/ply/ply.html)."
   ]
  },
  {
   "cell_type": "code",
   "execution_count": null,
   "metadata": {},
   "outputs": [],
   "source": [
    "%run Parser.ipynb"
   ]
  },
  {
   "cell_type": "code",
   "execution_count": null,
   "metadata": {},
   "outputs": [],
   "source": [
    "t = parse_term('x * y * z')\n",
    "t"
   ]
  },
  {
   "cell_type": "code",
   "execution_count": null,
   "metadata": {},
   "outputs": [],
   "source": [
    "to_str(t)"
   ]
  },
  {
   "cell_type": "code",
   "execution_count": null,
   "metadata": {},
   "outputs": [],
   "source": [
    "eq = parse_equation('i(x) * x = 1')\n",
    "eq"
   ]
  },
  {
   "cell_type": "code",
   "execution_count": null,
   "metadata": {},
   "outputs": [],
   "source": [
    "to_str(parse_file('Examples/group-theory-1.eqn'))"
   ]
  },
  {
   "cell_type": "markdown",
   "metadata": {},
   "source": [
    "[Back to top](#The-Knuth-Bendix-Completion-Algorithm)"
   ]
  },
  {
   "cell_type": "markdown",
   "metadata": {},
   "source": [
    "## Matching"
   ]
  },
  {
   "cell_type": "markdown",
   "metadata": {},
   "source": [
    "The function `is_var(t)` checks whether the term `t`is a variable. Variables are represented as nested tuples of the form `($var, name)`, where `name`is the name of the variable."
   ]
  },
  {
   "cell_type": "code",
   "execution_count": null,
   "metadata": {},
   "outputs": [],
   "source": [
    "def is_var(t):\n",
    "    return t[0] == '$var'"
   ]
  },
  {
   "cell_type": "markdown",
   "metadata": {},
   "source": [
    "Given a variable name `x`, the function `make_var(x)` creates a variable with name `x`."
   ]
  },
  {
   "cell_type": "code",
   "execution_count": null,
   "metadata": {},
   "outputs": [],
   "source": [
    "def make_var(x):\n",
    "    return ('$var', x)"
   ]
  },
  {
   "cell_type": "markdown",
   "metadata": {},
   "source": [
    "Given a term `p`, a term `t`,  and a substitution `σ`, the function `match(p, t, σ)` tries to extend the\n",
    "substitution `σ` so that the equation\n",
    "$$ p \\sigma = t $$\n",
    "is satisfied.  If this is possible, the function returns `True` and updates the substitution `σ` so that\n",
    "$p \\sigma = t$ holds.  Otherwise, the function returns `False`."
   ]
  },
  {
   "cell_type": "code",
   "execution_count": null,
   "metadata": {},
   "outputs": [],
   "source": [
    "def match(pattern, term, σ):\n",
    "    if is_var(pattern):\n",
    "        _, var = pattern\n",
    "        if var in σ:\n",
    "            return σ[var] == term\n",
    "        else:\n",
    "            σ[var] = term           # extend σ\n",
    "            return True\n",
    "    if pattern[0] == term[0] and len(pattern) == len(term):\n",
    "        return all(match(pattern[i], term[i], σ) for i in range(1, len(pattern)))"
   ]
  },
  {
   "cell_type": "code",
   "execution_count": null,
   "metadata": {},
   "outputs": [],
   "source": [
    "p = parse_term('i(x) * z')\n",
    "t = parse_term('i(i(y)) * i(y)')\n",
    "σ = {}\n",
    "match(p, t, σ)\n",
    "to_str(σ)"
   ]
  },
  {
   "cell_type": "markdown",
   "metadata": {},
   "source": [
    "Given a term `t` (or a set of terms), the function `find_variables(t)` computes the set of all variables occurring in `t`."
   ]
  },
  {
   "cell_type": "code",
   "execution_count": null,
   "metadata": {},
   "outputs": [],
   "source": [
    "def find_variables(t):\n",
    "    if isinstance(t, set):\n",
    "        return { var for term in t\n",
    "                     for var  in find_variables(term)\n",
    "               }\n",
    "    if is_var(t):\n",
    "        _, var = t\n",
    "        return { var }\n",
    "    _, *L = t\n",
    "    return find_variables_list(L)"
   ]
  },
  {
   "cell_type": "markdown",
   "metadata": {},
   "source": [
    "Given a list of terms `L` the function `find_variables(L)` computes the set of all variables occurring in `L`."
   ]
  },
  {
   "cell_type": "code",
   "execution_count": null,
   "metadata": {},
   "outputs": [],
   "source": [
    "def find_variables_list(L):\n",
    "    if L == []:\n",
    "        return set()\n",
    "    return { x for t in L\n",
    "               for x in find_variables(t)\n",
    "           }"
   ]
  },
  {
   "cell_type": "code",
   "execution_count": null,
   "metadata": {},
   "outputs": [],
   "source": [
    "eq = parse_equation('(x * y) * z = x * (y * z)')\n",
    "find_variables(eq)"
   ]
  },
  {
   "cell_type": "markdown",
   "metadata": {},
   "source": [
    "Given a term `t` and a substitution `σ` that is represented as a dictionary of the form\n",
    "$$ \\sigma = \\{ x_1: s_1, \\cdots, x_n:s_n \\}, $$\n",
    "the function `apply(t, σ)` computes the term that results from replacing the variables $x_i$ with the terms $s_i$ in `t` for all $i=1,\\cdots,n$.  This term is written as $t\\sigma$ and if $\\sigma = \\{ x_1: s_1, \\cdots, x_n:s_n \\}$, then $t\\sigma$ is defined by induction on `t` as follows:\n",
    "- $x_i\\sigma := s_i$,\n",
    "- $v\\sigma := v$ if $v$ is a variable and $v \\not\\in \\{x_1,\\cdots,x_n\\}$,\n",
    "- $f(t_1,\\cdots,t_n)\\sigma := f(t_1\\sigma, \\cdots, t_n\\sigma)$."
   ]
  },
  {
   "cell_type": "code",
   "execution_count": null,
   "metadata": {},
   "outputs": [],
   "source": [
    "def apply(t, σ):\n",
    "    \"Apply the substitution σ to the term t.\"\n",
    "    if is_var(t):\n",
    "        _, var = t\n",
    "        if var in σ:\n",
    "            return σ[var]\n",
    "        else:\n",
    "            return t\n",
    "    else: \n",
    "        f, *Ts = t\n",
    "        return (f,) + tuple(apply(s, σ) for s in Ts)"
   ]
  },
  {
   "cell_type": "code",
   "execution_count": null,
   "metadata": {},
   "outputs": [],
   "source": [
    "p = parse_term('i(x) * x')\n",
    "t = parse_term('i(i(y)) * i(y)')\n",
    "σ = {}\n",
    "match(p, t, σ)\n",
    "to_str(apply(p, σ))"
   ]
  },
  {
   "cell_type": "markdown",
   "metadata": {},
   "source": [
    "Given a set of terms or equations `Ts` and a substitution `σ`, the function `apply_set(T, σ)` applies the substitution `σ` to all elements in `Ts`."
   ]
  },
  {
   "cell_type": "code",
   "execution_count": null,
   "metadata": {},
   "outputs": [],
   "source": [
    "def apply_set(Ts, σ):\n",
    "    return { apply(t, σ) for t in Ts }"
   ]
  },
  {
   "cell_type": "markdown",
   "metadata": {},
   "source": [
    "If  $\\sigma = \\big[ x_1 \\mapsto s_1, \\cdots, x_m \\mapsto s_m \\big]$ and\n",
    "$\\tau = \\big[ y_1 \\mapsto t_1, \\cdots, y_n \\mapsto t_n \\big]$ \n",
    "are two substitutions that are <em style=\"color:blue;\">non-overlapping</em>, i.e. such that $\\{x_1,\\cdots, x_m\\} \\cap \\{y_1,\\cdots,y_n\\} = \\{\\}$ holds,\n",
    "then we define the <em style=\"color:blue;\">composition</em> $\\sigma\\tau$ of $\\sigma$ and $\\tau$ as follows:\n",
    "$$\\sigma\\tau := \\big[ x_1 \\mapsto s_1\\tau, \\cdots, x_m \\mapsto s_m\\tau,\\; y_1 \\mapsto t_1, \\cdots, y_n \\mapsto t_n \\big]$$\n",
    "This definition implies that we the following *associative law* is valid:\n",
    "$$ x(\\sigma\\tau) = (x\\sigma)\\tau $$\n",
    "The function $\\texttt{compose}(\\sigma, \\tau)$ takes two non-overlapping substitutions and computes the composition $\\sigma\\tau$."
   ]
  },
  {
   "cell_type": "code",
   "execution_count": null,
   "metadata": {},
   "outputs": [],
   "source": [
    "def compose(σ, τ):\n",
    "    Result = { x: apply(s, τ) for (x, s) in σ.items() }\n",
    "    Result.update(τ)\n",
    "    return Result"
   ]
  },
  {
   "cell_type": "code",
   "execution_count": null,
   "metadata": {},
   "outputs": [],
   "source": [
    "t1 = parse_term('i(y)')\n",
    "t2 = parse_term('a * b')\n",
    "t3 = parse_term('i(b)')\n",
    "σ = { 'x': t1 }\n",
    "τ = { 'y': t2, 'z': t3  }\n",
    "f'compose({to_str(σ)}, {to_str(τ)}) = {to_str(compose(σ, τ))}'"
   ]
  },
  {
   "cell_type": "markdown",
   "metadata": {},
   "source": [
    "[Back to top](#The-Knuth-Bendix-Completion-Algorithm)"
   ]
  },
  {
   "cell_type": "markdown",
   "metadata": {},
   "source": [
    "## Term Rewriting"
   ]
  },
  {
   "cell_type": "code",
   "execution_count": null,
   "metadata": {},
   "outputs": [],
   "source": [
    "from string import ascii_lowercase\n",
    "ascii_lowercase"
   ]
  },
  {
   "cell_type": "markdown",
   "metadata": {},
   "source": [
    "Given a term `s` and a set of variables `V`, the function `rename_variables(s, V)` renames the variables in `s` so that they differ from the variables in the set `V`.  This will only work if the number of variables occurring in `V` times two is less than the number of letters in the latin alphabet, i.e. less than 26.  Therefore, the set `V` must have at most 13 variables.  For our examples, this is not a restriction."
   ]
  },
  {
   "cell_type": "code",
   "execution_count": null,
   "metadata": {},
   "outputs": [],
   "source": [
    "def rename_variables(s, Vars):\n",
    "    assert len(Vars) <= 13, f'Error: too many variables in {Vars}.'\n",
    "    NewVars = set(ascii_lowercase) - Vars\n",
    "    NewVars = sorted(list(NewVars))\n",
    "    σ       = { x: make_var(NewVars[i]) for (i, x) in enumerate(Vars) }\n",
    "    return apply(s, σ)"
   ]
  },
  {
   "cell_type": "code",
   "execution_count": null,
   "metadata": {
    "scrolled": true
   },
   "outputs": [],
   "source": [
    "Vars = { 'x', 'y', 'z' }\n",
    "t = parse_term('x * y * z')\n",
    "f'rename_variables({to_str(t)}, {Vars}) = {to_str(rename_variables(t, Vars))}'"
   ]
  },
  {
   "cell_type": "markdown",
   "metadata": {},
   "source": [
    "The function `simplify_step(t, E)` takes two arguments:\n",
    "- `t` is a term,\n",
    "- `E` is a set of equations of the form `('=', l, r)`.\n",
    "\n",
    "The function tries to an equation `l = r` in `E` and a subterm `s` in the term `t` such that the left hand side `l` of the equation matches the subterm `s` using some substitution $\\sigma$, i.e. we have $s = l\\sigma$.  Then the term `t` is simplified by replacing the subterm `s` in `t` by $r\\sigma$.  More formally, if `u` is the position of `s` in `t`, i.e. `t/u = s` then `t` is simplified into the term \n",
    "$$ t[u \\mapsto r\\sigma] $$\n",
    "If an appropriate subterm `s` is found, the simplified term is returned.  Otherwise, the function returns `None`."
   ]
  },
  {
   "cell_type": "code",
   "execution_count": null,
   "metadata": {},
   "outputs": [],
   "source": [
    "def simplify_step(t, Equations):\n",
    "    if is_var(t):\n",
    "        return None\n",
    "    for eq in Equations:\n",
    "        _, lhs, rhs = eq\n",
    "        σ = {}\n",
    "        if match(lhs, t, σ):\n",
    "            return apply(rhs, σ)\n",
    "    f, *args   = t\n",
    "    simpleArgs = []\n",
    "    change     = False\n",
    "    for arg in args:\n",
    "        simple = simplify_step(arg, Equations)\n",
    "        if simple != None:\n",
    "            simpleArgs += [simple]\n",
    "            change = True\n",
    "        else:\n",
    "            simpleArgs += [arg]\n",
    "    if change:\n",
    "        return (f,) + tuple(simpleArgs)\n",
    "    return None"
   ]
  },
  {
   "cell_type": "code",
   "execution_count": null,
   "metadata": {},
   "outputs": [],
   "source": [
    "E = { parse_equation('(x * y) * z = x * (y * z)') }\n",
    "t = parse_term('(a * b) * i(b)')\n",
    "f'simplify_step({to_str(t)}, {to_str(E)}) = {to_str(simplify_step(t, E))}'"
   ]
  },
  {
   "cell_type": "markdown",
   "metadata": {},
   "source": [
    "The function `normal_form(t, E)` takes a term `t` and and a list (or set) of equations `E` and tries to simplify the term `t` as much as possible using the equations from `E`.  \n",
    "\n",
    "In the implementation, we have to be careful to rename the variables occurring in `E` so that they are different from the variables occurring in `t`.  Furthermore, we have to take care that we don't identify different variables in `E` by accident.  Therefore, we rename the variables in `E` so that they are both different from the variables in `t` and from the old variables occurring in `E`."
   ]
  },
  {
   "cell_type": "code",
   "execution_count": null,
   "metadata": {},
   "outputs": [],
   "source": [
    "def normal_form(t, E):\n",
    "    Vars = find_variables(t) | find_variables(E)\n",
    "    NewE = []\n",
    "    for eq in E:\n",
    "        NewE += [ rename_variables(eq, Vars) ]   \n",
    "    while True:\n",
    "        s = simplify_step(t, NewE)\n",
    "        if s == None:\n",
    "            return t\n",
    "        t = s"
   ]
  },
  {
   "cell_type": "code",
   "execution_count": null,
   "metadata": {},
   "outputs": [],
   "source": [
    "l  = parse_term('i(b * a)')\n",
    "eq = parse_equation('i(a * c) = i(c) * i(a)')\n",
    "f'normal_form({to_str(l)}, {to_str(eq)}) = {to_str(normal_form(l, {eq}))}'"
   ]
  },
  {
   "cell_type": "code",
   "execution_count": null,
   "metadata": {},
   "outputs": [],
   "source": [
    "E = parse_file('Examples/group-theory-1.eqn')\n",
    "t = parse_term('(x * i(y)) * y * z')\n",
    "print(f'normal_form({to_str(t)}, {to_str(E)}) = \\n{to_str(normal_form(t, E))}')"
   ]
  },
  {
   "cell_type": "markdown",
   "metadata": {},
   "source": [
    "Given an equation `eq` and a set of `RewriteRules`, the function `simplify_equations` simplifies the equation `eq` using the given rewrite rules. It returns a pair of terms."
   ]
  },
  {
   "cell_type": "code",
   "execution_count": null,
   "metadata": {},
   "outputs": [],
   "source": [
    "def simplify_equation(eq, RewriteRules):   \n",
    "    _, s, t = eq\n",
    "    new_s = normal_form(s, RewriteRules)\n",
    "    new_t = normal_form(t, RewriteRules)\n",
    "    return new_s, new_t"
   ]
  },
  {
   "cell_type": "markdown",
   "metadata": {},
   "source": [
    "Given a new rewrite `rule`, the function `simplify_rules(RewriteRules, rule)` tries to simplify all rules in `RewriteRules` with `rule`.  If an equation `eq` from `RewriteRules` can be simplified with `rule`, it is further simplified with all rules in `RewriteRules`. "
   ]
  },
  {
   "cell_type": "code",
   "execution_count": null,
   "metadata": {},
   "outputs": [],
   "source": [
    "def simplify_rules(RewriteRules, rule):\n",
    "    SimpleEqs = set()\n",
    "    for eq in RewriteRules:\n",
    "        _, s, t = eq\n",
    "        new_s = normal_form(s, { rule })\n",
    "        if new_s != s:\n",
    "            new_s = normal_form(new_s, RewriteRules | { rule })\n",
    "        new_t = normal_form(t, { rule })\n",
    "        if new_t != t:\n",
    "            new_t = normal_form(new_t, RewriteRules | { rule })\n",
    "        if new_s != new_t:\n",
    "            simple = order_equation(new_s, new_t, Ordering)\n",
    "            SimpleEqs.add(simple)\n",
    "        else:\n",
    "            print(f'removed: {to_str(s)} = {to_str(t)}')    \n",
    "    return SimpleEqs    "
   ]
  },
  {
   "cell_type": "markdown",
   "metadata": {},
   "source": [
    "[Back to top](#The-Knuth-Bendix-Completion-Algorithm)"
   ]
  },
  {
   "cell_type": "markdown",
   "metadata": {},
   "source": [
    "## Unification\n",
    "\n",
    "In this section, we implement the [unification](https://en.wikipedia.org/wiki/Unification_(computer_science)) algorithm of Martelli and Montanari."
   ]
  },
  {
   "cell_type": "markdown",
   "metadata": {},
   "source": [
    "Given a variable name `x` and a term `t`, the function `occurs(x, t)` checks whether `x` occurs in `t`."
   ]
  },
  {
   "cell_type": "code",
   "execution_count": null,
   "metadata": {},
   "outputs": [],
   "source": [
    "def occurs(x, t):\n",
    "    if is_var(t):\n",
    "        _, var = t\n",
    "        return x == var\n",
    "    return any(occurs(x, arg) for arg in t[1:])"
   ]
  },
  {
   "cell_type": "markdown",
   "metadata": {},
   "source": [
    "The algorithm implemented below takes a pair `(E, σ)` as its input.  Here `E` is a set of *syntactical equations* that need to be solved and `σ` is a substitution that is initially empty.  The pair `(E, σ)` is then transformed using the rules of Martelli and Montanari.  The transformation is successful if the pair `(E, σ)` can be transformed into a pair of the form `({}, μ)`.  Then `μ` is the *solution* to the system of equations `E`. \n",
    "The rules that can be used to solve a system of *syntactical equations* are as follows:\n",
    "<ol>\n",
    "<li> If $y\\in\\mathcal{V}$ is a variable that does <b style=\"color:red;\">not</b> occur in the term $t$,\n",
    "     then we perform the following reduction: \n",
    "     $$ \\Big\\langle E \\cup \\big\\{ y \\doteq t \\big\\}, \\sigma \\Big\\rangle \\quad\\leadsto \\quad \n",
    "         \\Big\\langle E[y \\mapsto t], \\sigma\\big[ y \\mapsto t \\big] \\Big\\rangle \n",
    "     $$\n",
    "</li>      \n",
    "<li> If the variable $y$ occurs in the term $t$, then the system of syntactical equations\n",
    "     $E \\cup \\big\\{ y \\doteq t \\big\\}$ is not solvable:\n",
    "     $$ \\Big\\langle E \\cup \\big\\{ y \\doteq t \\big\\}, \\sigma \\Big\\rangle\\;\\leadsto\\; \\texttt{None} \\quad\n",
    "        \\mbox{if $x \\in \\textrm{Var}(t)$ and $y \\not=t$.}$$\n",
    "</li>\n",
    "<li> If $y\\in\\mathcal{V}$ is a variable and $t$ is no variable, then we use the following rule:\n",
    "     $$ \\Big\\langle E \\cup \\big\\{ t \\doteq y \\big\\}, \\sigma \\Big\\rangle \\quad\\leadsto \\quad \n",
    "         \\Big\\langle E \\cup \\big\\{ y \\doteq t \\big\\}, \\sigma \\Big\\rangle.\n",
    "     $$   \n",
    "</li>\n",
    "<li> Trivial syntactical equations of variables can be dropped:\n",
    "     $$ \\Big\\langle E \\cup \\big\\{ x \\doteq x \\big\\}, \\sigma \\Big\\rangle \\quad\\leadsto \\quad\n",
    "         \\Big\\langle E, \\sigma \\Big\\rangle.\n",
    "     $$   \n",
    "</li>\n",
    "<li> If $f$ is an $n$-ary function symbol, then we have: \n",
    "     $$ \\Big\\langle E \\cup \\big\\{ f(s_1,\\cdots,s_n) \\doteq f(t_1,\\cdots,t_n) \\big\\}, \\sigma \\Big\\rangle \n",
    "         \\;\\leadsto\\; \n",
    "         \\Big\\langle E \\cup \\big\\{ s_1 \\doteq t_1, \\cdots, s_n \\doteq t_n\\}, \\sigma \\Big\\rangle.\n",
    "     $$   \n",
    "</li>\n",
    "<li> The system of syntactical equations $E \\cup \\big\\{ f(s_1,\\cdots,s_m) \\doteq g(t_1,\\cdots,t_n) \\big\\}$\n",
    "     has <b style=\"color:red;\">no</b> solution if the function symbols $f$ and $g$ are different:\n",
    "     $$ \\Big\\langle E \\cup \\big\\{ f(s_1,\\cdots,s_m) \\doteq g(t_1,\\cdots,t_n) \\big\\},\n",
    "      \\sigma \\Big\\rangle \\;\\leadsto\\; \\texttt{None} \\qquad \\mbox{if $f \\not= g$}.\n",
    "     $$\n",
    "</ol>\n"
   ]
  },
  {
   "cell_type": "markdown",
   "metadata": {},
   "source": [
    "Given two terms $s$ and $t$, the function $\\texttt{unify}(s, t)$ computes the <em style=\"color:blue;\">most general unifier</em> of $s$ and $t$."
   ]
  },
  {
   "cell_type": "code",
   "execution_count": null,
   "metadata": {},
   "outputs": [],
   "source": [
    "def unify(s, t):\n",
    "    return solve({('≐', s, t)}, {})"
   ]
  },
  {
   "cell_type": "markdown",
   "metadata": {},
   "source": [
    "Given a set of <em style=\"color:blue;\">syntactical equations</em> $E$ and a substitution $\\sigma$, the function $\\texttt{solve}(E, \\sigma)$ applies the rules of Martelli and Montanari to solve $E$."
   ]
  },
  {
   "cell_type": "code",
   "execution_count": null,
   "metadata": {},
   "outputs": [],
   "source": [
    "def solve(E, σ):\n",
    "    while E != set():\n",
    "        _, s, t = E.pop()\n",
    "        if s == t: # remove trivial equations\n",
    "            continue\n",
    "        if is_var(s):\n",
    "            _, x = s\n",
    "            if occurs(x, t):\n",
    "                return None\n",
    "            else: # set x to t\n",
    "                E = apply_set(E, { x: t })\n",
    "                σ = compose(σ, { x: t })\n",
    "        elif is_var(t):\n",
    "            E.add(('≐', t, s))\n",
    "        else:\n",
    "            f    , g     = s[0]      , t[0]\n",
    "            sArgs, tArgs = s[1:]     , t[1:]\n",
    "            m    , n     = len(sArgs), len(tArgs)\n",
    "            if f != g or m != n:\n",
    "                return None\n",
    "            else:\n",
    "                E |= { ('≐', sArgs[i], tArgs[i]) for i in range(m) }\n",
    "    return σ"
   ]
  },
  {
   "cell_type": "code",
   "execution_count": null,
   "metadata": {},
   "outputs": [],
   "source": [
    "s = parse_term('x * i(x) * (y * z)')\n",
    "t = parse_term('a * i(1) * b')\n",
    "f'unify({to_str(s)}, {to_str(t)}) = {to_str(unify(s, t))}'"
   ]
  },
  {
   "cell_type": "markdown",
   "metadata": {},
   "source": [
    "[Back to top](#The-Knuth-Bendix-Completion-Algorithm)"
   ]
  },
  {
   "cell_type": "markdown",
   "metadata": {},
   "source": [
    "## The Lexicographic Path Ordering\n",
    "\n",
    "In order to turn an equations $s = t$ into a rewrite rules, we have to check whether $s$ is more complex that $t$, so that $s$ should be simplified to $t$, or whether $t$ is more complex than $s$ and we should rewrite $t$ into $s$.  To this end, we implement the *lexicographic path ordering*, which is described in detail below."
   ]
  },
  {
   "cell_type": "markdown",
   "metadata": {},
   "source": [
    "The function `is_simpler(s, t, D)` receives three arguments.\n",
    "- `s` and `t` are terms.\n",
    "- `D` is a dictionary mapping function symbols to <u>different</u> natural numbers.\n",
    "  We define a total order on function symbols by defining \n",
    "  $$ f < g \\;\\stackrel{_\\textrm{def}}{\\Longleftrightarrow}\\; D[f] < D[g]. $$\n",
    "\n",
    "The function `is_simpler(s, t, D)` checks whether `s` is *simpler* than `t`.  In order to define this notion, we assume that a total order $<$ is given on the set of function symbols.  Then we define $s \\prec t$ (read: `s` is simpler than `t`) inductively via the following cases:\n",
    "1. $v \\prec t$ if $v$ is a variable occurring in $t$ and $v \\not = t$.\n",
    "2. $f(s_1,\\cdots,s_m) \\prec g(t_1,\\cdots,t_n)$ if\n",
    "   * $f < g$ and \n",
    "   * $s_i \\prec g(t_1,\\cdots,t_n)$ for all $i=1,\\cdots, m$.\n",
    "3. $f(s_1,\\cdots,s_m) \\prec f(t_1,\\cdots,t_m)$ if \n",
    "   * there exists an $i \\in \\{1,\\cdots,n\\}$ such that $f(s_1,\\cdots,s_m) \\preceq t_i$ or\n",
    "   * both of the following conditions are true:\n",
    "     - $s_i \\prec f(t_1,\\cdots,t_m)$ for all $i=1,\\cdots, m$ and\n",
    "     - $[s_1, \\cdots, s_m] \\prec_{\\textrm{lex}} [t_1, \\cdots, t_m]$.\n",
    "   \n",
    "   Here, $\\prec_{\\textrm{lex}}$ denotes the *lexicographic extension* of the ordering $\\prec$ to\n",
    "   lists of terms.  It is defined as follows:\n",
    "   $$ [x] + R_1 \\prec_{\\textrm{lex}} [y] + R_2 \\;\\stackrel{_\\textrm{def}}{\\Longleftrightarrow}\\;\n",
    "      x \\prec y \\,\\vee\\, \\bigl(x = y \\wedge R_1 \\prec_{\\textrm{lex}} R_2\\bigr)\n",
    "   $$\n",
    "4. $f(s_1,\\cdots,s_m) \\prec g(t_1,\\cdots,t_n)$ if\n",
    "   * $f > g$ and \n",
    "   * there exists an $i \\in \\{1,\\cdots,n\\}$ such that $f(s_1,\\cdots,s_m) \\preceq t_i$.\n",
    "   \n",
    "This ordering is known as the *lexicographic path ordering*."
   ]
  },
  {
   "cell_type": "code",
   "execution_count": null,
   "metadata": {},
   "outputs": [],
   "source": [
    "def is_simpler(s, t, D):\n",
    "    if is_var(s):\n",
    "        _, x = s\n",
    "        return s != t and occurs(x, t)\n",
    "    if is_var(t):\n",
    "        return False\n",
    "    f, *sArgs = s\n",
    "    g, *tArgs = t\n",
    "    if D[f] < D[g]:\n",
    "        return all(is_simpler(arg, t, D) for arg in sArgs)\n",
    "    if f == g:\n",
    "        assert len(sArgs) == len(tArgs)\n",
    "        return any(s == arg or is_simpler(s, arg, D) for arg in tArgs) or \\\n",
    "               all(is_simpler(arg, t, D) for arg in sArgs) and is_simpler_list(sArgs, tArgs, D)\n",
    "    if D[f] > D[g]:\n",
    "        return any(s == arg or is_simpler(s, arg, D) for arg in tArgs)\n",
    "    assert False, f'Error in is_simpler({s}, {t}, {D}): incomplete ordering.'"
   ]
  },
  {
   "cell_type": "markdown",
   "metadata": {},
   "source": [
    "Given two lists `S` and `T` of terms and a dictionary `D`, the function `is_simpler_list(S, T, D)` checks whether `S` is lexicographically simpler than `T` if the elements of `S` and `T` are compared with the *lexicographical path ordering* $\\prec$.  It is assumed that `S` and `T` have the same length."
   ]
  },
  {
   "cell_type": "code",
   "execution_count": null,
   "metadata": {},
   "outputs": [],
   "source": [
    "def is_simpler_list(S, T, D):\n",
    "    if S == [] == T:\n",
    "        return False\n",
    "    if is_simpler(S[0], T[0], D):\n",
    "        return True\n",
    "    if S[0] == T[0]:\n",
    "        return is_simpler_list(S[1:], T[1:], D)\n",
    "    return False"
   ]
  },
  {
   "cell_type": "code",
   "execution_count": null,
   "metadata": {},
   "outputs": [],
   "source": [
    "Ordering = { '1': 0, '*': 1, 'i': 2 }"
   ]
  },
  {
   "cell_type": "code",
   "execution_count": null,
   "metadata": {},
   "outputs": [],
   "source": [
    "l = parse_term('(x * y) * z')\n",
    "r = parse_term('x * (y * z)')\n",
    "f'is_simpler({to_str(r)}, {to_str(l)}, {Ordering}) = {is_simpler(r, l, Ordering)}'"
   ]
  },
  {
   "cell_type": "markdown",
   "metadata": {},
   "source": [
    "Given a pair of term `s` and `t` and an `Ordering` of the function symbols occurring in `s` and `t`, the function `order_equation` orders the equation `s = t` with respect to the lexicographic path ordering, i.e. in the ordered equation, the right hand side is simpler than the left hand side.  If `s` and `t` are incomparable, the function raises an exception."
   ]
  },
  {
   "cell_type": "code",
   "execution_count": null,
   "metadata": {},
   "outputs": [],
   "source": [
    "def order_equation(s, t, Ordering):\n",
    "    if is_simpler(t, s, Ordering):\n",
    "        return ('=', s, t)\n",
    "    elif is_simpler(s, t, Ordering):\n",
    "        return ('=', t, s)\n",
    "    else:\n",
    "        assert False, f'Error: could not order {to_str(s)} = {to_str(t)}'"
   ]
  },
  {
   "cell_type": "markdown",
   "metadata": {},
   "source": [
    "[Back to top](#The-Knuth-Bendix-Completion-Algorithm)"
   ]
  },
  {
   "cell_type": "markdown",
   "metadata": {},
   "source": [
    "## Critical Pairs\n",
    "\n",
    "The central notion of the Knuth-Bendix algorithm is the notion of a *critical pair*.  \n",
    "\n",
    "Given two equations `lhs1 = rhs1` and `lhs2 = rhs2`, a pair of terms `(s, t)` is a critical pair of these equations if we have the following:\n",
    "- `u` is a non-trivial position in `lhs1`, i.e. `lhs1/u` is not a variable,\n",
    "- The subterm `lhs1/u` is unifiable with `lhs2`, i.e.\n",
    "  $$\\mu = \\texttt{mgu}(\\texttt{lhs}_1 / a, \\texttt{lhs}_2) \\not= \\texttt{None},$$\n",
    "- $s = \\texttt{lhs}_1[a \\leftarrow \\texttt{rhs}_2]\\mu$ and $t = \\texttt{rhs}_1\\mu$. \n",
    "\n",
    "The function `critical_pairs` implemented in this section computes the critical pairs between two rewrite rules. "
   ]
  },
  {
   "cell_type": "markdown",
   "metadata": {},
   "source": [
    "Given a term `t`, the function `positions` computes the set $\\mathcal{P}os(t)$ of all *positions* in `t` that do not point to variables.  Such positions are called *non-trivial positions*.  Given a term `t`, the set $\\mathcal{P}os(t)$ of all positions in $t$ is defined by induction on `t`. \n",
    "1. $\\mathcal{P}os(v) := \\bigl\\{()\\bigr\\} \\quad \\mbox{if $v$ is a variable} $\n",
    "2. $\\mathcal{P}os\\bigl(f(t_0,\\cdots,t_{n-1})\\bigr) := \n",
    "     \\bigl\\{()\\bigr\\} \\cup \n",
    "     \\bigl\\{ (i,) + u \\mid i \\in\\{0,\\cdots,n-1\\} \\wedge u \\in \\mathcal{P}os(t_i) \\bigr\\}\n",
    "   $\n",
    "   \n",
    "Note that since we are programming in Python, positions are zero-based.  Given a position $v$ in a term $t$, we define $t/v$ as the *subterm of $t$ at position $v$* by induction on $t$:\n",
    "1. $t/() := t$,\n",
    "2. $f(t_0,\\cdots,t_{n-1})/u := t_i/u\\texttt{[1:]}$."
   ]
  },
  {
   "cell_type": "code",
   "execution_count": null,
   "metadata": {},
   "outputs": [],
   "source": [
    "def non_triv_positions(t):\n",
    "    if is_var(t):\n",
    "        return set()\n",
    "    _, *args = t\n",
    "    Result = { () }\n",
    "    for i, arg in enumerate(args):\n",
    "        Result |= { (i,) + a for a in non_triv_positions(arg) }\n",
    "    return Result"
   ]
  },
  {
   "cell_type": "code",
   "execution_count": null,
   "metadata": {},
   "outputs": [],
   "source": [
    "t = parse_term('x * i(x) * 1')\n",
    "f'non_triv_positions({to_str(t)}) = {non_triv_positions(t)}'"
   ]
  },
  {
   "cell_type": "markdown",
   "metadata": {},
   "source": [
    "Given a term `t` and a position `u` in `t`, the function `subterm(t, u)` extracts the subterm that is located at position `u`, i.e. it computes `t/u`. The position `u` is zero-based."
   ]
  },
  {
   "cell_type": "code",
   "execution_count": null,
   "metadata": {},
   "outputs": [],
   "source": [
    "def subterm(t, u):\n",
    "    if len(u) == 0:\n",
    "        return t\n",
    "    _, *args = t\n",
    "    i, *ru   = u\n",
    "    return subterm(args[i], ru)"
   ]
  },
  {
   "cell_type": "code",
   "execution_count": null,
   "metadata": {},
   "outputs": [],
   "source": [
    "t = parse_term('x * i(x) * 1')\n",
    "f'subterm({to_str(t)}, (0,1)) = {to_str(subterm(t, (0,1)))}'"
   ]
  },
  {
   "cell_type": "markdown",
   "metadata": {},
   "source": [
    "Given a term `t`, a position `u` in `t` and a term `s`, the function `replace_at(t, u, s)` replaces the subterm at position `u` with `t`.  The position `u` uses zero-based indexing."
   ]
  },
  {
   "cell_type": "code",
   "execution_count": null,
   "metadata": {},
   "outputs": [],
   "source": [
    "def replace_at(t, u, s):\n",
    "    if len(u) == 0:\n",
    "        return s\n",
    "    i, *ur = u\n",
    "    f, *args = t\n",
    "    new_args = []\n",
    "    for j, arg in enumerate(args):\n",
    "        if j == i:\n",
    "            new_args.append(replace_at(arg, ur, s))\n",
    "        else:\n",
    "            new_args.append(arg)\n",
    "    return (f,) + tuple(new_args)"
   ]
  },
  {
   "cell_type": "code",
   "execution_count": null,
   "metadata": {},
   "outputs": [],
   "source": [
    "t = parse_term('x * i(x) * 1')\n",
    "s = parse_term('a * b') \n",
    "f'replace_at({to_str(t)}, (0,1), {to_str(s)}) = {to_str(replace_at(t, (0,1), s))}'"
   ]
  },
  {
   "cell_type": "markdown",
   "metadata": {},
   "source": [
    "Given two equations `eq1` and `eq2`, the function `critical_pairs(eq1, eq2)` computes the set of all *critical pairs* between these equations.  A pair of terms `(s, t)` is a critical pair of `eq1` and `eq2` if we have\n",
    "- `eq1` has the form `lhs1 = rhs1`,\n",
    "- `eq2` has the form `lhs2 = rhs2`,\n",
    "- `a` is a non-trivial position in `lhs1`,\n",
    "- $\\mu = \\texttt{mgu}(\\texttt{lhs}_1/a, \\texttt{lhs}_2) \\not= \\texttt{None}$,\n",
    "- $s = \\texttt{lhs}_1[a \\leftarrow \\texttt{rhs}_2]\\mu$ and $t = \\texttt{rhs}_1\\mu$. "
   ]
  },
  {
   "cell_type": "code",
   "execution_count": null,
   "metadata": {},
   "outputs": [],
   "source": [
    "def critical_pairs(eq1, eq2):\n",
    "    Vars = find_variables(eq1)\n",
    "    eq2  = rename_variables(eq2, Vars) \n",
    "    _, lhs1, rhs1 = eq1\n",
    "    _, lhs2, rhs2 = eq2\n",
    "    Result = set()\n",
    "    Positions = non_triv_positions(lhs1)\n",
    "    for u in Positions:\n",
    "        if eq1 == eq2 and u == ():\n",
    "            continue\n",
    "        s = subterm(lhs1, u)\n",
    "        𝜇 = unify(s, lhs2)\n",
    "        if 𝜇 != None:\n",
    "            lhs1_new = replace_at(lhs1, u, rhs2)\n",
    "            lhs1_new = apply(lhs1_new, 𝜇)\n",
    "            rhs1_new = apply(rhs1, 𝜇)\n",
    "            Result.add( (lhs1_new, rhs1_new) )\n",
    "    return Result"
   ]
  },
  {
   "cell_type": "code",
   "execution_count": null,
   "metadata": {},
   "outputs": [],
   "source": [
    "eq1 = parse_equation('i(x) * x = 1')\n",
    "eq2 = parse_equation('(x * y) * z = x * (y * z)')\n",
    "for s, t in critical_pairs(eq2, eq1):\n",
    "    print(f'{to_str(s)} = {to_str(t)}')"
   ]
  },
  {
   "cell_type": "markdown",
   "metadata": {},
   "source": [
    "[Back to top](#The-Knuth-Bendix-Completion-Algorithm)"
   ]
  },
  {
   "cell_type": "markdown",
   "metadata": {},
   "source": [
    "## The Completion Algorithm"
   ]
  },
  {
   "cell_type": "code",
   "execution_count": null,
   "metadata": {},
   "outputs": [],
   "source": [
    "def print_equations(Equations):\n",
    "    cnt = 1\n",
    "    for _, l, r in Equations:\n",
    "        print(f'{cnt}. {to_str(l)} = {to_str(r)}')\n",
    "        cnt += 1"
   ]
  },
  {
   "cell_type": "markdown",
   "metadata": {},
   "source": [
    "Given an equation `eq` of the form `eq = ('=', lhs, rhs)`, the function `complexity(eq)` computes a measure of complexity for the given equation.   This measure of complexity is the length of the string that represents the equation.  This measure of complexity is later used to choose between equations: Less complex equations are more interesting and should be considered first when computing critical pairs."
   ]
  },
  {
   "cell_type": "code",
   "execution_count": null,
   "metadata": {},
   "outputs": [],
   "source": [
    "def complexity(eq):\n",
    "    return len(to_str(eq))"
   ]
  },
  {
   "cell_type": "code",
   "execution_count": null,
   "metadata": {},
   "outputs": [],
   "source": [
    "eq = parse_equation('x * i(x) = 1')\n",
    "complexity(eq)"
   ]
  },
  {
   "cell_type": "markdown",
   "metadata": {},
   "source": [
    "Given a set of equations `RewriteRules` and a single rewrite rule `eq`, the function `all_critical_pairs(RewriteRules, eq)` computes the set of all *non-trivial critical pairs* that can be build by building critical pairs with an equation from `RewriteRules` and the equation `eq`.  It is assumed that `eq` is already an element of `RewriteRules`.  "
   ]
  },
  {
   "cell_type": "code",
   "execution_count": null,
   "metadata": {},
   "outputs": [],
   "source": [
    "def all_critical_pairs(RewriteRules, eq):\n",
    "    Result = set()\n",
    "    for eq1 in RewriteRules:\n",
    "        Result |= { ('=', l, r) for l, r in critical_pairs(eq1, eq) }\n",
    "        Result |= { ('=', l, r) for l, r in critical_pairs(eq, eq1) }\n",
    "    return Result"
   ]
  },
  {
   "cell_type": "markdown",
   "metadata": {},
   "source": [
    "The module `heapq` provides heap-based priority queues, which are implemented as lists."
   ]
  },
  {
   "cell_type": "code",
   "execution_count": null,
   "metadata": {},
   "outputs": [],
   "source": [
    "import heapq as hq"
   ]
  },
  {
   "cell_type": "markdown",
   "metadata": {},
   "source": [
    "Given a file name that contains a set of equations and a dictionary encoding an ordering of the function symbols, the function `knuth_bendix_algorithm` performs the *Knuth-Bendix algorithm*:\n",
    "1. The given equations are ordered.\n",
    "2. The ordered equations are pushed into the priority queue `EqtnQue` according to their complexity.\n",
    "3. The set `RewriteRules` is initialized as the empty set.\n",
    "4. As long as the priority queue is not empty, the least complex equation `lr` is removed from the \n",
    "   priority queue and simplified using the known `RewriteRules`.  \n",
    "5. If the simplified version of `lr` is non-trivial, all critical pairs between it and the \n",
    "   `RewriteRules` are computed.  These critical pairs are pushed onto the priority queue.\n",
    "6. When no new critical pairs can be found, the set of `RewriteRules` is returned.\n",
    "   This set is then guaranteed to be a *confluent* set of rewrite rules."
   ]
  },
  {
   "cell_type": "code",
   "execution_count": null,
   "metadata": {},
   "outputs": [],
   "source": [
    "def knuth_bendix_algorithm(file, Ordering):\n",
    "    Equations = set()\n",
    "    Axioms    = set(parse_file(file))\n",
    "    for _, s, t in Axioms:\n",
    "        ordered_eq = order_equation(s, t, Ordering)\n",
    "        Equations.add(ordered_eq)\n",
    "        print(f'given:   {to_str(ordered_eq[1])} = {to_str(ordered_eq[2])}')\n",
    "    EqtnQue = []\n",
    "    for eq in Equations:\n",
    "        hq.heappush(EqtnQue, (complexity(eq), eq) )\n",
    "    RewriteRules = set()\n",
    "    while EqtnQue != []:\n",
    "        _, lr = hq.heappop(EqtnQue)\n",
    "        l, r  = simplify_equation(lr, RewriteRules)\n",
    "        if l != r:\n",
    "            _, l, r = order_equation(l, r, Ordering)    \n",
    "            print(f'added:   {to_str(l)} → {to_str(r)}')\n",
    "            NewEqs = all_critical_pairs(RewriteRules | { ('=', l, r) }, lr)\n",
    "            for eq in NewEqs:\n",
    "                s, t = simplify_equation(eq, RewriteRules)\n",
    "                if s != t:\n",
    "                    new_rule = order_equation(s, t, Ordering)\n",
    "                    hq.heappush(EqtnQue, (complexity(new_rule), new_rule) )\n",
    "            RewriteRules = simplify_rules(RewriteRules, ('=', l, r))\n",
    "            RewriteRules.add( ('=', l, r) )\n",
    "    return RewriteRules"
   ]
  },
  {
   "cell_type": "code",
   "execution_count": null,
   "metadata": {
    "scrolled": false
   },
   "outputs": [],
   "source": [
    "%%time\n",
    "RewriteRules = knuth_bendix_algorithm('Examples/group-theory-1.eqn', Ordering)\n",
    "print()\n",
    "print_equations(RewriteRules)"
   ]
  },
  {
   "cell_type": "code",
   "execution_count": null,
   "metadata": {},
   "outputs": [],
   "source": []
  }
 ],
 "metadata": {
  "kernelspec": {
   "display_name": "Python 3",
   "language": "python",
   "name": "python3"
  },
  "language_info": {
   "codemirror_mode": {
    "name": "ipython",
    "version": 3
   },
   "file_extension": ".py",
   "mimetype": "text/x-python",
   "name": "python",
   "nbconvert_exporter": "python",
   "pygments_lexer": "ipython3",
   "version": "3.7.9"
  },
  "varInspector": {
   "cols": {
    "lenName": 16,
    "lenType": 16,
    "lenVar": 40
   },
   "kernels_config": {
    "python": {
     "delete_cmd_postfix": "",
     "delete_cmd_prefix": "del ",
     "library": "var_list.py",
     "varRefreshCmd": "print(var_dic_list())"
    },
    "r": {
     "delete_cmd_postfix": ") ",
     "delete_cmd_prefix": "rm(",
     "library": "var_list.r",
     "varRefreshCmd": "cat(var_dic_list()) "
    }
   },
   "types_to_exclude": [
    "module",
    "function",
    "builtin_function_or_method",
    "instance",
    "_Feature"
   ],
   "window_display": false
  }
 },
 "nbformat": 4,
 "nbformat_minor": 4
}
