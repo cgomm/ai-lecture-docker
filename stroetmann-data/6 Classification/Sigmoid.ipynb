{
 "cells": [
  {
   "cell_type": "code",
   "execution_count": null,
   "metadata": {},
   "outputs": [],
   "source": [
    "%autosave 0\n",
    "from IPython.core.display import HTML, display\n",
    "display(HTML('<style>.container {width:100% !important;} </style>'))"
   ]
  },
  {
   "cell_type": "markdown",
   "metadata": {},
   "source": [
    "# The Sigmoid Function"
   ]
  },
  {
   "cell_type": "code",
   "execution_count": null,
   "metadata": {},
   "outputs": [],
   "source": [
    "import matplotlib.pyplot as plt \n",
    "import seaborn           as sns\n",
    "import numpy             as np\n",
    "from math import *"
   ]
  },
  {
   "cell_type": "markdown",
   "metadata": {},
   "source": [
    "The sigmoid function $S:\\mathbb{R} \\rightarrow [0,1]$ is defined as:\n",
    "$$ S(t) = \\frac{1}{1 + \\exp(-t)}. $$"
   ]
  },
  {
   "cell_type": "code",
   "execution_count": null,
   "metadata": {},
   "outputs": [],
   "source": [
    "def sigmoid(t):\n",
    "    \"Returns the sigmoid function S(t)\"\n",
    "    return 1 / (1 + np.exp(-t))"
   ]
  },
  {
   "cell_type": "markdown",
   "metadata": {},
   "source": [
    "Let us plot this function."
   ]
  },
  {
   "cell_type": "code",
   "execution_count": null,
   "metadata": {},
   "outputs": [],
   "source": [
    "n = 1000\n",
    "X = np.linspace(-8.0, 8.0, num=n)\n",
    "Y = sigmoid(X)\n",
    "plt.figure(figsize=(15, 10))\n",
    "sns.set(style='darkgrid')\n",
    "plt.margins(0.02)\n",
    "plt.plot(X, Y)\n",
    "plt.axvline(x=0.0, c='k')\n",
    "plt.axhline(y=0.0, c='k')\n",
    "plt.xlabel(\"x\")\n",
    "plt.ylabel(\"y\")\n",
    "plt.yticks(np.arange(0.0, 1.01, step=0.1))\n",
    "plt.title(\"The Sigmoid Function.\")"
   ]
  },
  {
   "cell_type": "markdown",
   "metadata": {},
   "source": [
    "It can be shown that the derivative of the sigmoid function satisfies the equation\n",
    "$$ \\frac{\\mathrm{d}S}{\\mathrm{d}x}(t) = S(t) \\cdot \\bigl(1 - S(t)\\bigr) $$"
   ]
  },
  {
   "cell_type": "code",
   "execution_count": null,
   "metadata": {},
   "outputs": [],
   "source": [
    "def sigmoidPrime(t):\n",
    "    \"\"\"\n",
    "    compute the derivative of the sigmoid function\n",
    "    \"\"\"\n",
    "    return sigmoid(t) * (1 - sigmoid(t))"
   ]
  },
  {
   "cell_type": "markdown",
   "metadata": {},
   "source": [
    "The Gauss function with standard deviation $\\sigma$ is defined as\n",
    "$$ t \\mapsto \\frac{1}{\\sqrt{2\\cdot\\pi}\\cdot\\sigma} \\cdot \\exp\\left(-\\frac{t^2}{2\\cdot \\sigma^2}\\right)$$"
   ]
  },
  {
   "cell_type": "code",
   "execution_count": null,
   "metadata": {},
   "outputs": [],
   "source": [
    "def gauss(t):\n",
    "    \"Return the Gauss function with standard deviation sqrt(1/3) * pi\"\n",
    "    s = sqrt(1/3) * pi\n",
    "    return np.exp(-t*t/(2*s*s)) / sqrt(2 * pi) / s"
   ]
  },
  {
   "cell_type": "markdown",
   "metadata": {},
   "source": [
    "Let is plot both the derivative of the sigmoid function and the Gauss function with standard deviation $\\large\\frac{\\pi}{\\sqrt{3}}$."
   ]
  },
  {
   "cell_type": "code",
   "execution_count": null,
   "metadata": {},
   "outputs": [],
   "source": [
    "n = 1000\n",
    "X = np.linspace(-8.0, 8.0, num=n)\n",
    "Y = sigmoidPrime(X)\n",
    "G = gauss(X)\n",
    "Z = np.zeros((n,1))\n",
    "sns.set(style='darkgrid')\n",
    "plt.figure(figsize=(15, 10))\n",
    "plt.margins(0.02)\n",
    "plt.plot(X, Y, color='b', label='S´(t)')\n",
    "plt.plot(X, G, color='r', label='G(t)')\n",
    "plt.axvline(x=0.0, c='k')\n",
    "plt.axhline(y=0.0, c='k')\n",
    "plt.xlabel(\"x\")\n",
    "plt.ylabel(\"y\")\n",
    "plt.title(\"The derivative of the sigmoid function.\")"
   ]
  },
  {
   "cell_type": "markdown",
   "metadata": {},
   "source": [
    "It is apparent that the derivative of the sigmoid function has a shape that is similar to the shape of a Gaussian."
   ]
  },
  {
   "cell_type": "code",
   "execution_count": null,
   "metadata": {},
   "outputs": [],
   "source": []
  }
 ],
 "metadata": {
  "kernelspec": {
   "display_name": "Python 3",
   "language": "python",
   "name": "python3"
  },
  "language_info": {
   "codemirror_mode": {
    "name": "ipython",
    "version": 3
   },
   "file_extension": ".py",
   "mimetype": "text/x-python",
   "name": "python",
   "nbconvert_exporter": "python",
   "pygments_lexer": "ipython3",
   "version": "3.7.3"
  },
  "toc": {
   "base_numbering": 1,
   "nav_menu": {},
   "number_sections": true,
   "sideBar": true,
   "skip_h1_title": false,
   "title_cell": "Table of Contents",
   "title_sidebar": "Contents",
   "toc_cell": false,
   "toc_position": {},
   "toc_section_display": true,
   "toc_window_display": false
  }
 },
 "nbformat": 4,
 "nbformat_minor": 2
}
