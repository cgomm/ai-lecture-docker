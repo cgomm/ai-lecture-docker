{
 "cells": [
  {
   "cell_type": "code",
   "execution_count": null,
   "metadata": {},
   "outputs": [],
   "source": [
    "%%HTML\n",
    "<style>\n",
    ".container { width:100% }\n",
    "</style>"
   ]
  },
  {
   "cell_type": "markdown",
   "metadata": {},
   "source": [
    "# Gender Estimation for First Names"
   ]
  },
  {
   "cell_type": "markdown",
   "metadata": {},
   "source": [
    "This notebook gives a simple example for a naive Bayes classifier.  We try to predict the gender of a first name.  In order to train our classifier, we need a *training set* of names that are marked as being either male.  We happen to have two text files, `names-female.txt` and `names-male.txt` containing female and male first names.  We start by defining the function `read_names`.  This function reads a file of strings and returns a list of all the names given in the file.  Care is taken that the newline character at the end of each line is discarded. "
   ]
  },
  {
   "cell_type": "code",
   "execution_count": null,
   "metadata": {},
   "outputs": [],
   "source": [
    "def read_names(file_name):\n",
    "    Result = []\n",
    "    with open(file_name, 'r') as file:\n",
    "        for name in file:\n",
    "            Result.append(name[:-1]) # discard newline\n",
    "    return Result"
   ]
  },
  {
   "cell_type": "code",
   "execution_count": null,
   "metadata": {},
   "outputs": [],
   "source": [
    "FemaleNames = read_names('names-female.txt')\n",
    "MaleNames   = read_names('names-male.txt')"
   ]
  },
  {
   "cell_type": "markdown",
   "metadata": {},
   "source": [
    "Let us compute the *prior probabilities* $P(\\texttt{Female})$ and $P(\\texttt{Male})$ for the classes $\\texttt{Female}$ and $\\texttt{Male}$.  In the lecture it was shown that the prior probability of a class $C$ in a training set $T$ is given as:\n",
    "$$ P(C) \\approx \n",
    "   \\frac{\\mathtt{card}\\bigl(\\{t \\in T \\;|\\; \\mathtt{class}(t) = C \\}\\bigr)}{\\mathtt{card}(T)}\n",
    "$$\n",
    "Therefore, these probabilities are computed as follows."
   ]
  },
  {
   "cell_type": "code",
   "execution_count": null,
   "metadata": {},
   "outputs": [],
   "source": [
    "pFemale = len(FemaleNames) / (len(FemaleNames) + len(MaleNames))\n",
    "pMale   = len(MaleNames)   / (len(FemaleNames) + len(MaleNames))\n",
    "pFemale"
   ]
  },
  {
   "cell_type": "markdown",
   "metadata": {},
   "source": [
    "As a first attempt to solve the problem we will use the last character of a name as its feature.  We have to compute the conditional probability for every possible letter that occurs as the last letter of a name.  The general formula to compute the conditional probability of a feature $f$ given a class $C$ is the following:\n",
    "$$ P(f\\;|\\;C) \\approx \n",
    " \\frac{\\mathtt{card}\\bigl(\\{t \\in T \\;|\\; \\mathtt{class}(t) = C \\wedge \\mathtt{has}(t, f) \\}\\bigr)}{\n",
    "       \\mathtt{card}\\bigl(\\{t \\in T \\;|\\; \\mathtt{class}(t) = C \\}\\bigr)} \n",
    "$$\n",
    "The function `conditional_prop` takes a character $c$ and a gender $g$ and determines the conditional probability of seeing $c$ as a last character of a name that has the gender $g$."
   ]
  },
  {
   "cell_type": "code",
   "execution_count": null,
   "metadata": {},
   "outputs": [],
   "source": [
    "def conditional_prop(c, g):\n",
    "    if g == 'f':\n",
    "        return len([n for n in FemaleNames if n[-1] == c]) / len(FemaleNames)\n",
    "    else:\n",
    "        return len([n for n in MaleNames   if n[-1] == c]) / len(MaleNames)"
   ]
  },
  {
   "cell_type": "markdown",
   "metadata": {},
   "source": [
    "Next, we define a dictionary `Conditional_Probability`.  For every character $c$ and every gender $g \\in \\{\\texttt{'f'}, \\texttt{'m'}\\}$, the entry $\\texttt{Conditional_Probability}[(c,g)]$ is the conditional probability of observing the last character $c$ if the gender is known to be $g$."
   ]
  },
  {
   "cell_type": "code",
   "execution_count": null,
   "metadata": {},
   "outputs": [],
   "source": [
    "Conditional_Probability = {}\n",
    "for c in 'abcdefghijklmnopqrstuvwxyz':\n",
    "    for g in ['f', 'm']:\n",
    "        Conditional_Probability[c, g] = conditional_prop(c, g)"
   ]
  },
  {
   "cell_type": "markdown",
   "metadata": {},
   "source": [
    "Now that have have both the prior probabilities $P(\\texttt{'f'})$ and $P(\\texttt{'m'})$ and also all the conditional probabilities $P(c|g)$, we are ready to implement our naive Bayes classifier."
   ]
  },
  {
   "cell_type": "code",
   "execution_count": null,
   "metadata": {},
   "outputs": [],
   "source": [
    "def classify(name):\n",
    "    last   = name[-1]\n",
    "    female = Conditional_Probability[(last, 'f')] * pFemale\n",
    "    male   = Conditional_Probability[(last, 'm')] * pMale\n",
    "    if female >= male:\n",
    "        return 'f'\n",
    "    else:\n",
    "        return 'm'"
   ]
  },
  {
   "cell_type": "markdown",
   "metadata": {},
   "source": [
    "We test our classifier with two common names."
   ]
  },
  {
   "cell_type": "code",
   "execution_count": null,
   "metadata": {},
   "outputs": [],
   "source": [
    "classify('Christian')"
   ]
  },
  {
   "cell_type": "code",
   "execution_count": null,
   "metadata": {},
   "outputs": [],
   "source": [
    "classify('Elena')"
   ]
  },
  {
   "cell_type": "markdown",
   "metadata": {},
   "source": [
    "Let us check the overall accuracy of our classifier with respect to the training set."
   ]
  },
  {
   "cell_type": "code",
   "execution_count": null,
   "metadata": {},
   "outputs": [],
   "source": [
    "total   = 0\n",
    "correct = 0\n",
    "for n in FemaleNames:\n",
    "    if classify(n) == 'f':\n",
    "        correct += 1\n",
    "    total += 1\n",
    "for n in MaleNames:\n",
    "    if classify(n) == 'm':\n",
    "        correct += 1\n",
    "    total += 1\n",
    "accuracy = correct / total\n",
    "accuracy"
   ]
  },
  {
   "cell_type": "markdown",
   "metadata": {},
   "source": [
    "An accuracy of 76% is not too bad for a first attempt, but we can do better by using more sophisticated features."
   ]
  },
  {
   "cell_type": "code",
   "execution_count": null,
   "metadata": {},
   "outputs": [],
   "source": []
  }
 ],
 "metadata": {
  "kernelspec": {
   "display_name": "Python 3",
   "language": "python",
   "name": "python3"
  },
  "language_info": {
   "codemirror_mode": {
    "name": "ipython",
    "version": 3
   },
   "file_extension": ".py",
   "mimetype": "text/x-python",
   "name": "python",
   "nbconvert_exporter": "python",
   "pygments_lexer": "ipython3",
   "version": "3.7.6"
  }
 },
 "nbformat": 4,
 "nbformat_minor": 2
}
