{
 "cells": [
  {
   "cell_type": "code",
   "execution_count": null,
   "metadata": {},
   "outputs": [],
   "source": [
    "%%HTML\n",
    "<style>\n",
    ".container { width:100% }\n",
    "</style>"
   ]
  },
  {
   "cell_type": "markdown",
   "metadata": {},
   "source": [
    "# Classifying Flowers using a Support Vector Machine"
   ]
  },
  {
   "cell_type": "markdown",
   "metadata": {},
   "source": [
    "I have adapted this notebook from https://scikit-learn.org/stable/auto_examples/svm/plot_iris.html."
   ]
  },
  {
   "cell_type": "markdown",
   "metadata": {},
   "source": [
    "In this notebook we will use different support vector machine to classify flowers from the iris dataset\n",
    "using only the <em style=\"color:blue;\">petal length</em> and the <em style=\"color:blue;\">petal width</em>.\n",
    "We will show how to plot the <em style=\"color:blue;\">decision boundary</em> of a support vector machine."
   ]
  },
  {
   "cell_type": "markdown",
   "metadata": {},
   "source": [
    "We start with the usual imports for reading the data and plotting."
   ]
  },
  {
   "cell_type": "code",
   "execution_count": null,
   "metadata": {},
   "outputs": [],
   "source": [
    "import numpy             as np\n",
    "import pandas            as pd\n",
    "import matplotlib.pyplot as plt\n",
    "import seaborn           as sns"
   ]
  },
  {
   "cell_type": "markdown",
   "metadata": {},
   "source": [
    "In order order to use support vector machines we have to import the module `svm` from SciKit-Learn."
   ]
  },
  {
   "cell_type": "code",
   "execution_count": null,
   "metadata": {},
   "outputs": [],
   "source": [
    "import sklearn.svm as svm"
   ]
  },
  {
   "cell_type": "markdown",
   "metadata": {},
   "source": [
    "Let us load the data and store it in a data frame."
   ]
  },
  {
   "cell_type": "code",
   "execution_count": null,
   "metadata": {},
   "outputs": [],
   "source": [
    "IrisDF = pd.read_csv('iris.csv')\n",
    "IrisDF.head()"
   ]
  },
  {
   "cell_type": "markdown",
   "metadata": {},
   "source": [
    "The function $\\texttt{name_to_number}(name)$ converts the name of the flower into a number."
   ]
  },
  {
   "cell_type": "code",
   "execution_count": null,
   "metadata": {},
   "outputs": [],
   "source": [
    "def name_to_number(name):\n",
    "    if name == 'setosa':\n",
    "        return 0\n",
    "    if name == 'versicolor':\n",
    "        return 1\n",
    "    return 2"
   ]
  },
  {
   "cell_type": "markdown",
   "metadata": {},
   "source": [
    "Since we want to have a two dimensinal model, we will only use the petal length and the petal width."
   ]
  },
  {
   "cell_type": "code",
   "execution_count": null,
   "metadata": {},
   "outputs": [],
   "source": [
    "X = np.array(IrisDF[['petal_length', 'petal_width']])\n",
    "y = np.array([name_to_number(name) for name in IrisDF['species']])"
   ]
  },
  {
   "cell_type": "code",
   "execution_count": null,
   "metadata": {},
   "outputs": [],
   "source": [
    "X.shape, y.shape"
   ]
  },
  {
   "cell_type": "markdown",
   "metadata": {},
   "source": [
    "In order to plot the decision boundary of the linear model, we define the function \n",
    "$\\texttt{make_meshgrid}(x, y, h)$.  This function gets two vectors $x$ and $y$ as inputs.  The parameter $h$ is the stepsize.  It returns a pair $(X, Y)$ where both $X$ and $Y$ are matrices of the same shape.  "
   ]
  },
  {
   "cell_type": "code",
   "execution_count": null,
   "metadata": {},
   "outputs": [],
   "source": [
    "def make_meshgrid(x, y, h=0.005):\n",
    "    x_min, x_max = x.min() - 1, x.max() + 1\n",
    "    y_min, y_max = y.min() - 1, y.max() + 1\n",
    "    return np.meshgrid(np.arange(x_min, x_max, h), np.arange(y_min, y_max, h))"
   ]
  },
  {
   "cell_type": "markdown",
   "metadata": {},
   "source": [
    "The function $\\texttt{plot_contour}(M, X1, X2)$ is used to plot the decision boundaries for the classifier $M$.\n",
    "$X$ and $Y$ are meshgrids for the `x` and `y` axis."
   ]
  },
  {
   "cell_type": "code",
   "execution_count": null,
   "metadata": {},
   "outputs": [],
   "source": [
    "def plot_contour(M, X, Y):\n",
    "    Z = M.predict(np.c_[X.ravel(), Y.ravel()])\n",
    "    Z = Z.reshape(X.shape)\n",
    "    plt.contour(X, Y, Z)"
   ]
  },
  {
   "cell_type": "markdown",
   "metadata": {},
   "source": [
    "Given a model $M$ and a two-dimensional design matrix $X$, this function plots the data from $X$ and a decisison boundary. "
   ]
  },
  {
   "cell_type": "code",
   "execution_count": null,
   "metadata": {},
   "outputs": [],
   "source": [
    "def plot_data_and_boundary(X, M, title):\n",
    "    X0, X1 = X[:, 0], X[:, 1]\n",
    "    XX, YY = make_meshgrid(X0, X1)\n",
    "    plt.figure(figsize=(15, 10))\n",
    "    sns.set(style='darkgrid')\n",
    "    plot_contour(M, XX, YY)\n",
    "    plt.scatter(X0, X1, c=y, edgecolors='k')\n",
    "    plt.xlim(XX.min(), XX.max())\n",
    "    plt.ylim(YY.min(), YY.max())\n",
    "    plt.xlabel('Petal length')\n",
    "    plt.ylabel('Petal width')\n",
    "    plt.xticks()\n",
    "    plt.yticks()\n",
    "    plt.title(title)"
   ]
  },
  {
   "cell_type": "markdown",
   "metadata": {},
   "source": [
    "We will start with a linear model.  The regularization parameter is set to $10000$, which essentially means that there is no regularization."
   ]
  },
  {
   "cell_type": "code",
   "execution_count": null,
   "metadata": {},
   "outputs": [],
   "source": [
    "M = svm.SVC(kernel='linear', C=100000)\n",
    "M.fit(X, y)\n",
    "M.score(X, y)"
   ]
  },
  {
   "cell_type": "code",
   "execution_count": null,
   "metadata": {},
   "outputs": [],
   "source": [
    "plot_data_and_boundary(X, M, 'Support Vector Machine with Linear Kernel')"
   ]
  },
  {
   "cell_type": "markdown",
   "metadata": {},
   "source": [
    "The class `SVC` uses a <em style=\"color:blue;\">One-vs-One</em> classifier, i.e. in this example it builds three support vector machines:\n",
    "  -  The first SVM separates setosa from versicolor.\n",
    "  -  The second SVM separates setosa from virginica.\n",
    "  -  The third  SVM separates virginica from versicolor."
   ]
  },
  {
   "cell_type": "markdown",
   "metadata": {},
   "source": [
    "Lets have a <em style=\"color:blue;\">Gaussian kernel function</em> next."
   ]
  },
  {
   "cell_type": "code",
   "execution_count": null,
   "metadata": {},
   "outputs": [],
   "source": [
    "M = svm.SVC(kernel='rbf', gamma=1.5, C=10000)\n",
    "M.fit(X, y)\n",
    "M.score(X, y)"
   ]
  },
  {
   "cell_type": "code",
   "execution_count": null,
   "metadata": {},
   "outputs": [],
   "source": [
    "plot_data_and_boundary(X, M, 'Support Vector Machine with Gaussian Kernel')"
   ]
  },
  {
   "cell_type": "code",
   "execution_count": null,
   "metadata": {},
   "outputs": [],
   "source": [
    "M = svm.SVC(kernel='poly', degree=3, gamma='auto', C=10000)\n",
    "M.fit(X, y)\n",
    "M.score(X, y)"
   ]
  },
  {
   "cell_type": "code",
   "execution_count": null,
   "metadata": {},
   "outputs": [],
   "source": [
    "plot_data_and_boundary(X, M, 'Support Vector Machine with Polynomial Kernel of Degree 3')"
   ]
  },
  {
   "cell_type": "markdown",
   "metadata": {},
   "source": [
    "Lets try to set the `degree` parameter to a higher value."
   ]
  },
  {
   "cell_type": "code",
   "execution_count": null,
   "metadata": {},
   "outputs": [],
   "source": [
    "M = svm.SVC(kernel='poly', degree=5, gamma='auto', C=10000)\n",
    "M.fit(X, y)\n",
    "M.score(X, y)"
   ]
  },
  {
   "cell_type": "code",
   "execution_count": null,
   "metadata": {},
   "outputs": [],
   "source": [
    "plot_data_and_boundary(X, M, 'Support Vector Machine with Polynomial Kernel of Degree 5')"
   ]
  },
  {
   "cell_type": "markdown",
   "metadata": {},
   "source": [
    "Let us use all the data"
   ]
  },
  {
   "cell_type": "code",
   "execution_count": null,
   "metadata": {},
   "outputs": [],
   "source": [
    "X = np.array(IrisDF[['sepal_length', 'sepal_width', 'petal_length', 'petal_width']])"
   ]
  },
  {
   "cell_type": "code",
   "execution_count": null,
   "metadata": {},
   "outputs": [],
   "source": [
    "M = svm.SVC(kernel='linear', C=100000)\n",
    "M.fit(X, y)\n",
    "M.score(X, y)"
   ]
  },
  {
   "cell_type": "code",
   "execution_count": null,
   "metadata": {},
   "outputs": [],
   "source": [
    "M = svm.SVC(kernel='rbf', gamma=1.5, C=10000)\n",
    "M.fit(X, y)\n",
    "M.score(X, y)"
   ]
  },
  {
   "cell_type": "code",
   "execution_count": null,
   "metadata": {},
   "outputs": [],
   "source": [
    "M = svm.SVC(kernel='poly', degree=3, gamma='auto', C=10000)\n",
    "M.fit(X, y)\n",
    "M.score(X, y)"
   ]
  },
  {
   "cell_type": "markdown",
   "metadata": {},
   "source": [
    "These results show the reason why support vector machines are so popular today.  They often need more time for training than other methods, but in terms of accuracy they beat the simpler methods."
   ]
  }
 ],
 "metadata": {
  "kernelspec": {
   "display_name": "Python 3",
   "language": "python",
   "name": "python3"
  },
  "language_info": {
   "codemirror_mode": {
    "name": "ipython",
    "version": 3
   },
   "file_extension": ".py",
   "mimetype": "text/x-python",
   "name": "python",
   "nbconvert_exporter": "python",
   "pygments_lexer": "ipython3",
   "version": "3.7.6"
  }
 },
 "nbformat": 4,
 "nbformat_minor": 1
}
