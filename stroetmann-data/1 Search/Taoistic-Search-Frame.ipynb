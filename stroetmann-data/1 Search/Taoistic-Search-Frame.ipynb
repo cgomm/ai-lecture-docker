{
 "cells": [
  {
   "cell_type": "code",
   "execution_count": 1,
   "metadata": {},
   "outputs": [
    {
     "data": {
      "text/html": [
       "<link href='http://fonts.googleapis.com/css?family=Alegreya+Sans:100,300,400,500,700,800,900,100italic,300italic,400italic,500italic,700italic,800italic,900italic' rel='stylesheet' type='text/css'>\n",
       "<link href='http://fonts.googleapis.com/css?family=Arvo:400,700,400italic' rel='stylesheet' type='text/css'>\n",
       "<link href='http://fonts.googleapis.com/css?family=PT+Mono' rel='stylesheet' type='text/css'>\n",
       "<link href='http://fonts.googleapis.com/css?family=Shadows+Into+Light' rel='stylesheet' type='text/css'>\n",
       "<link href='http://fonts.googleapis.com/css?family=Philosopher:400,700,400italic,700italic' rel='stylesheet' type='text/css'>\n",
       "\n",
       "<style>\n",
       "\n",
       "@font-face {\n",
       "    font-family: \"Computer Modern\";\n",
       "    src: url('http://mirrors.ctan.org/fonts/cm-unicode/fonts/otf/cmunss.otf');\n",
       "}\n",
       "\n",
       ".container { width: 100% }\n",
       "\n",
       "/* Formatting for header cells */\n",
       ".text_cell_render h1 {\n",
       "    font-family: 'Philosopher', sans-serif;\n",
       "    font-weight: 400;\n",
       "    font-size: 2.2em;\n",
       "    line-height: 100%;\n",
       "    color: rgb(0, 80, 120);\n",
       "    margin-bottom: 0.1em;\n",
       "    margin-top: 0.1em;\n",
       "    display: block;\n",
       "}\t\n",
       ".text_cell_render h2 {\n",
       "    font-family: 'Philosopher', serif;\n",
       "    font-weight: 400;\n",
       "    font-size: 1.9em;\n",
       "    line-height: 100%;\n",
       "    color: rgb(200,100,0);\n",
       "    margin-bottom: 0.1em;\n",
       "    margin-top: 0.1em;\n",
       "    display: block;\n",
       "}\t\n",
       "\n",
       ".text_cell_render h3 {\n",
       "    font-family: 'Philosopher', serif;\n",
       "    margin-top:12px;\n",
       "    margin-bottom: 3px;\n",
       "    font-style: italic;\n",
       "    color: rgb(94,127,192);\n",
       "}\n",
       "\n",
       ".text_cell_render h4 {\n",
       "    font-family: 'Philosopher', serif;\n",
       "}\n",
       "\n",
       ".text_cell_render h5 {\n",
       "    font-family: 'Alegreya Sans', sans-serif;\n",
       "    font-weight: 300;\n",
       "    font-size: 16pt;\n",
       "    color: grey;\n",
       "    font-style: italic;\n",
       "    margin-bottom: .1em;\n",
       "    margin-top: 0.1em;\n",
       "    display: block;\n",
       "}\n",
       "\n",
       ".text_cell_render h6 {\n",
       "    font-family: 'PT Mono', sans-serif;\n",
       "    font-weight: 300;\n",
       "    font-size: 10pt;\n",
       "    color: grey;\n",
       "    margin-bottom: 1px;\n",
       "    margin-top: 1px;\n",
       "}\n",
       "\n",
       ".text_cell_render em {\n",
       "    font-family: 'Philosopher', sans-serif;\n",
       "    color:        blue;\n",
       "    background-color: rgb(255,220,180);\n",
       "    font-size:    110%;\n",
       "    margin-left:   2px;\n",
       "    margin-right:  2px;\n",
       "    font-weight:   100;\n",
       "}\n",
       "\n",
       ".text_cell_render b {\n",
       "    color:            rgb(255,195,195);\n",
       "    background-color: rgb(0,0,0);\n",
       "    font-size:    110%;\n",
       "    margin-left:   2px;\n",
       "    margin-right:  2px;\n",
       "    font-weight:   650;\n",
       "}\n",
       "\n",
       ".text_cell_render u {\n",
       "    color:            blue;\n",
       "    font-size:    110%;\n",
       "    margin-left:   2px;\n",
       "    margin-right:  2px;\n",
       "    font-weight:   650;\n",
       "}\n",
       "\n",
       ".text_cell_render tt {\n",
       "    font-size:    120%;\n",
       "    margin-left:   2px;\n",
       "    margin-right:  2px;\n",
       "    font-weight:   150;\n",
       "}\n",
       "\n",
       ".Codemirror {\n",
       "    font-family: \"PT Mono\";\n",
       "    font-size: 100%;\n",
       "}\n",
       "\n",
       "</style>\n",
       "\n"
      ],
      "text/plain": [
       "<IPython.core.display.HTML object>"
      ]
     },
     "execution_count": 1,
     "metadata": {},
     "output_type": "execute_result"
    }
   ],
   "source": [
    "from IPython.core.display import HTML\n",
    "with open('../../Python/style.css') as f:\n",
    "    css = f.read()\n",
    "HTML(css)"
   ]
  },
  {
   "cell_type": "markdown",
   "metadata": {},
   "source": [
    "# Taoistic Search\n",
    "\n",
    "The holy book of Taoism, the [Tao Te Ching](https://en.wikipedia.org/wiki/Tao_Te_Ching), contains the following wisdom:\n",
    "\n",
    "<p>\n",
    "<center style=\"color:blue; background-color:yellow; font-family: Brush Script MT, cursive; font-size:40px; padding: 10px\">\n",
    "    A journey of a thousand miles begins but with a single step.\n",
    "</center>\n",
    "</p>\n",
    "\n",
    "Taoistic search is based on this principle: \n",
    "- Split the search problem into subproblems that can be readily solved.  \n",
    "- Solve these problems one by one.\n",
    "- Combine the solutions of the subproblem to a solution of the given *search problem*.\n",
    "\n",
    "We will use *taoistic search* to solve the search problem for the 15-puzzle where the states `Start` and `Goal` are defined\n",
    "as follows."
   ]
  },
  {
   "cell_type": "code",
   "execution_count": null,
   "metadata": {},
   "outputs": [],
   "source": [
    "Start = ( (  '0', '14',  '8', '12' ),\n",
    "          ( '10', '11', '13',  '9' ),\n",
    "          (  '6',  '2',  '4', '15' ),\n",
    "          (  '3',  '5',  '7',  '1' )\n",
    "        )"
   ]
  },
  {
   "cell_type": "code",
   "execution_count": null,
   "metadata": {},
   "outputs": [],
   "source": [
    "Goal  = ( (  '0',  '1',  '2',  '3' ),\n",
    "          (  '4',  '5',  '6',  '7' ),\n",
    "          (  '8',  '9', '10', '11' ),\n",
    "          ( '12', '13', '14', '15' )\n",
    "        )"
   ]
  },
  {
   "cell_type": "markdown",
   "metadata": {},
   "source": [
    "In order to view these states more conveniently, we define a number of auxiliary functions in the following subsection."
   ]
  },
  {
   "cell_type": "markdown",
   "metadata": {},
   "source": [
    "## Animation"
   ]
  },
  {
   "cell_type": "code",
   "execution_count": null,
   "metadata": {},
   "outputs": [],
   "source": [
    "import ipycanvas as cnv"
   ]
  },
  {
   "cell_type": "markdown",
   "metadata": {},
   "source": [
    "The module `time` is part of the standard library so it is preinstalled.  We have imported it because we need the function `time.sleep(secs)` to pause the animation for a specified time."
   ]
  },
  {
   "cell_type": "code",
   "execution_count": null,
   "metadata": {},
   "outputs": [],
   "source": [
    "import time"
   ]
  },
  {
   "cell_type": "markdown",
   "metadata": {},
   "source": [
    "The global variable Colors specifies the colors of the tiles."
   ]
  },
  {
   "cell_type": "code",
   "execution_count": null,
   "metadata": {},
   "outputs": [],
   "source": [
    "Colors = ['white', 'lightblue', 'pink', 'magenta', 'orange', 'red', 'yellow', 'lightgreen', 'gold',\n",
    "          'CornFlowerBlue', 'Coral', 'Cyan', 'orchid', 'DarkSalmon', 'DeepPink', 'green'\n",
    "         ] "
   ]
  },
  {
   "cell_type": "markdown",
   "metadata": {},
   "source": [
    "The global variable `size` specifies the size of one tile in pixels."
   ]
  },
  {
   "cell_type": "code",
   "execution_count": null,
   "metadata": {},
   "outputs": [],
   "source": [
    "size = 100"
   ]
  },
  {
   "cell_type": "markdown",
   "metadata": {},
   "source": [
    "The function `draw(State, canvas, dx, dy, tile, x)` draws a given `State` of the sliding puzzle, where `tile` has been moved by `offset` pixels into the direction `(dx, dy)`."
   ]
  },
  {
   "cell_type": "code",
   "execution_count": null,
   "metadata": {},
   "outputs": [],
   "source": [
    "def draw(State, canvas, dx, dy, tile, offset):\n",
    "    canvas.text_align    = 'center'\n",
    "    canvas.text_baseline = 'middle'\n",
    "    with cnv.hold_canvas(canvas):\n",
    "        canvas.clear()\n",
    "        n = len(State)\n",
    "        for row in range(n):\n",
    "            for col in range(n):\n",
    "                tile_to_draw = State[row][col]\n",
    "                if tile_to_draw != '*':\n",
    "                    color = Colors[int(tile_to_draw)]\n",
    "                else:\n",
    "                    color = 'lightyellow'\n",
    "                canvas.fill_style = color\n",
    "                if tile_to_draw not in ('0', tile):\n",
    "                    x = col * size\n",
    "                    y = row * size\n",
    "                    canvas.fill_rect(x, y, size, size)\n",
    "                    canvas.stroke_rect(x, y, size, size)\n",
    "                    canvas.line_width = 3.0\n",
    "                    x += size // 2\n",
    "                    y += size // 2\n",
    "                    canvas.stroke_text(str(tile_to_draw), x, y)\n",
    "                elif tile_to_draw == tile:\n",
    "                    x = col * size + offset * dx\n",
    "                    y = row * size + offset * dy\n",
    "                    canvas.fill_rect(x, y, size, size)\n",
    "                    canvas.stroke_rect(x, y, size, size)\n",
    "                    canvas.line_width = 3.0\n",
    "                    x += size // 2\n",
    "                    y += size // 2\n",
    "                    if tile_to_draw != 0:\n",
    "                        canvas.stroke_text(str(tile_to_draw), x, y)"
   ]
  },
  {
   "cell_type": "code",
   "execution_count": null,
   "metadata": {},
   "outputs": [],
   "source": [
    "def create_canvas(n): \n",
    "    canvas = cnv.Canvas(size=(size * n, size * n))\n",
    "    canvas.font = '60px serif'\n",
    "    return canvas"
   ]
  },
  {
   "cell_type": "code",
   "execution_count": null,
   "metadata": {},
   "outputs": [],
   "source": [
    "def draw_state(State):\n",
    "    n = len(State)\n",
    "    canvas = create_canvas(n)\n",
    "    draw(State, canvas, 0, 0, '+', 0)\n",
    "    display(canvas)"
   ]
  },
  {
   "cell_type": "markdown",
   "metadata": {},
   "source": [
    "The global variable delay controls the speed of the animation.  \n",
    "<b style=\"color:red; background-color:lightyellow\">If the animation is jerky on your computer, try increasing the value of `delay`.</b>"
   ]
  },
  {
   "cell_type": "code",
   "execution_count": null,
   "metadata": {},
   "outputs": [],
   "source": [
    "delay = 0.002"
   ]
  },
  {
   "cell_type": "markdown",
   "metadata": {},
   "source": [
    "The function call tile_and_direction(state, next_state) takes a state and the state that follows this state and returns a triple (tile, dx, dy) where tileis the tile that is moved to transform state into next_state and (dx, dy) is the direction in which this tile is moved."
   ]
  },
  {
   "cell_type": "code",
   "execution_count": null,
   "metadata": {},
   "outputs": [],
   "source": [
    "def tile_and_direction(state, next_state):\n",
    "    row0, col0 = find_tile('0', state)\n",
    "    row1, col1 = find_tile('0', next_state)\n",
    "    return state[row1][col1], col0-col1, row0-row1"
   ]
  },
  {
   "cell_type": "markdown",
   "metadata": {},
   "source": [
    "Given a list of states representing a solution to the sliding puzzle, the function call \n",
    "`animation(Solution)` animates the solution."
   ]
  },
  {
   "cell_type": "code",
   "execution_count": null,
   "metadata": {},
   "outputs": [],
   "source": [
    "def animation(Solution):\n",
    "    start = Solution[0]\n",
    "    n = len(start)\n",
    "    canvas = create_canvas(n)\n",
    "    draw(start, canvas, 0, 0, 0, 0)\n",
    "    m = len(Solution)\n",
    "    display(canvas)\n",
    "    for i in range(m-1):\n",
    "        state = Solution[i]\n",
    "        tile, dx, dy = tile_and_direction(state, Solution[i+1])\n",
    "        for offset in range(size+1):\n",
    "            draw(state, canvas, dx, dy, tile, offset)\n",
    "            time.sleep(delay)"
   ]
  },
  {
   "cell_type": "markdown",
   "metadata": {},
   "source": [
    "## Taoistc Search: Detailed Explanation"
   ]
  },
  {
   "cell_type": "markdown",
   "metadata": {},
   "source": [
    "Let us begin by our explanation by drawing both the states `Start` and `Goal` of our *search problem*."
   ]
  },
  {
   "cell_type": "code",
   "execution_count": null,
   "metadata": {},
   "outputs": [],
   "source": [
    "draw_state(Start)"
   ]
  },
  {
   "cell_type": "code",
   "execution_count": null,
   "metadata": {},
   "outputs": [],
   "source": [
    "draw_state(Goal)"
   ]
  },
  {
   "cell_type": "markdown",
   "metadata": {},
   "source": [
    "In order to solve this instance of the 15-puzzle we could start by moving the tiles `14` and `15` into their final destination \n",
    "without caring for the other tiles.  To this end we define two new <em style=\"color:blue\">extended states</em> `Start1` and `Goal1` as shown below.  In these <em style=\"color:blue\">extended states</em> we have replaced all those tiles that are not important for moving `14` and `15` into their final destination by <em style=\"color:blue\">wildcard tiles</em> defined as `'*'`.\n",
    "<em style=\"color:blue\">Extended states</em> are also known as <em style=\"color:blue\">patterns</em>."
   ]
  },
  {
   "cell_type": "code",
   "execution_count": null,
   "metadata": {},
   "outputs": [],
   "source": [
    "Start1 = ( ( '0', '14',  '*',  '*' ),\n",
    "           ( '*',  '*',  '*',  '*' ),\n",
    "           ( '*',  '*',  '*', '15' ),\n",
    "           ( '*',  '*',  '*',  '*' )\n",
    "         )\n",
    "draw_state(Start1)"
   ]
  },
  {
   "cell_type": "code",
   "execution_count": null,
   "metadata": {},
   "outputs": [],
   "source": [
    "Goal1 = ( ( '*', '*',  '*',  '*' ),\n",
    "          ( '*', '*',  '*',  '*' ),\n",
    "          ( '*', '*',  '*',  '*' ),\n",
    "          ( '*', '*', '14', '15' )\n",
    "        )\n",
    "draw_state(Goal1)"
   ]
  },
  {
   "cell_type": "markdown",
   "metadata": {},
   "source": [
    "It should be noted that we have replaced the tile numbered `'0'` by a wildcard tile `'*'` when creating the state `Goal1`, but \n",
    "not when creating the state `Start1`.  The reason is es explained below.\n",
    "\n",
    "The search problem specified by `Start1` and `Goal1` is quite easy to solve.  We remember the set of \n",
    "<em style=\"color:blue\">actions</em>, i.e. movements \n",
    "of the empty tile that we had to perform to transform `Start1` into `Goal1`.  Next, we apply these actions to the state `Start`.  The resulting state might look like the state `State` shown below. \n",
    "\n",
    "Now we can explain the reason for not replacing the empty tile with `'*'` in `Start1` since otherwise we would not be able to\n",
    "use the actions found when to transforming `Start1` to `Goal1` to transform the state `Start1` into the state `State`."
   ]
  },
  {
   "cell_type": "code",
   "execution_count": null,
   "metadata": {},
   "outputs": [],
   "source": [
    "State = ( ('10',  '8', '13', '12'),\n",
    "          ('11',  '5',  '2',  '9'),\n",
    "          ( '6',  '7',  '0',  '4'),\n",
    "          ( '3',  '1', '14', '15')\n",
    "        )\n",
    "draw_state(State)"
   ]
  },
  {
   "cell_type": "markdown",
   "metadata": {},
   "source": [
    "Our next goal is move the tiles numbered with `12` and `13` into their final position.  To this end we define the \n",
    "<em style=\"color:blue\">extended states</em> `Start2` and `Goal2` as shown below."
   ]
  },
  {
   "cell_type": "code",
   "execution_count": null,
   "metadata": {},
   "outputs": [],
   "source": [
    "Start2 = ( ( '*', '*', '13', '12' ),\n",
    "           ( '*', '*',  '*',  '*' ),\n",
    "           ( '*', '*',  '0',  '*' ),\n",
    "           ( '*', '*', '14', '15' )\n",
    "        )\n",
    "draw_state(Start2)"
   ]
  },
  {
   "cell_type": "code",
   "execution_count": null,
   "metadata": {},
   "outputs": [],
   "source": [
    "Goal2 = ( ( '*',  '*',  '*',  '*'),\n",
    "          ( '*',  '*',  '*',  '*'),\n",
    "          ( '*',  '*',  '*',  '*'),\n",
    "          ('12', '13', '14', '15')\n",
    "        )\n",
    "draw_state(Goal2)"
   ]
  },
  {
   "cell_type": "markdown",
   "metadata": {},
   "source": [
    "Again, we solve the resulting search problem and remember the actions that transformed `Start2` into `Goal2`.  We apply these actions to the state `State` and end up with `State`being transformed into the state shown below."
   ]
  },
  {
   "cell_type": "code",
   "execution_count": null,
   "metadata": {},
   "outputs": [],
   "source": [
    "State = ( ('10',  '5',  '8',  '9'),\n",
    "          ( '6', '11',  '7',  '4'),\n",
    "          ( '1',  '3',  '0',  '2'),\n",
    "          ('12', '13', '14', '15')\n",
    "        )\n",
    "draw_state(State)"
   ]
  },
  {
   "cell_type": "markdown",
   "metadata": {},
   "source": [
    "Proceeding in this way we can solve the given instance of the 15-puzzle.  The solution that we find will not be optimal but it won't be too far from the optimal solution."
   ]
  },
  {
   "cell_type": "markdown",
   "metadata": {},
   "source": [
    "## Auxiliary Functions for the Sliding Puzzle"
   ]
  },
  {
   "cell_type": "markdown",
   "metadata": {},
   "source": [
    "The function call `find_tile(tile, State)` finds the coordinates of the given `tile` in `State`.  The `tile` is represented as a string from the set \n",
    "\n",
    "`{'0', '1', ..., '15'}`,\n",
    "\n",
    "where `'0'` represents the empty tile.  \n",
    "\n",
    "**Nota bene:** \n",
    "We have to represent the tiles as strings instead of numbers as we will later replace some of these tiles by the wildcard \n",
    "character `'*'`.  The class `Set` that we use to represent sets of states does not permit *inhomogeneous* sets, i.e. sets that \n",
    "contain both numbers and strings.  \n",
    "\n",
    "The parameter `State` is a tuple of tuples that specifies the positions of the tiles.  If `(row, col)` is the result returned by `find_tile`, then we have:\n",
    "```\n",
    "    State[row][col] == tile\n",
    "```"
   ]
  },
  {
   "cell_type": "code",
   "execution_count": null,
   "metadata": {},
   "outputs": [],
   "source": [
    "def find_tile(tile, State):\n",
    "    n = len(State)\n",
    "    for row in range(n):\n",
    "        for col in range(n):\n",
    "            if State[row][col] == tile:\n",
    "                return row, col"
   ]
  },
  {
   "cell_type": "markdown",
   "metadata": {},
   "source": [
    "Since A$^*$-search stores the set of states that have been visited, we have to represent states by immutable objects and hence we represent the states as tuples of tuples.  In order to be able to change these states, we have to transform these tuples of tuples into lists of lists.  The function `to_list` transforms a tuple of tuples into a list of lists."
   ]
  },
  {
   "cell_type": "code",
   "execution_count": null,
   "metadata": {},
   "outputs": [],
   "source": [
    "to_list = lambda State: [list(row) for row in State]"
   ]
  },
  {
   "cell_type": "markdown",
   "metadata": {},
   "source": [
    "The function `to_tuple` transforms a list of lists into a tuple of tuples."
   ]
  },
  {
   "cell_type": "code",
   "execution_count": null,
   "metadata": {},
   "outputs": [],
   "source": [
    "to_tuple = lambda State: tuple(tuple(row) for row in State)"
   ]
  },
  {
   "cell_type": "markdown",
   "metadata": {},
   "source": [
    "Given a `State` that satisfies \n",
    "```\n",
    "    State[row][col] == '0'\n",
    "```\n",
    "and a direction `(dx, dy)` that is an element form the set \n",
    "$\\bigl\\{ (1, 0), (-1, 0), (0, 1), (0, -1) \\bigr\\}$,\n",
    "the function `move_dir` moves the empty tile in the direction `(dx, dy)`."
   ]
  },
  {
   "cell_type": "code",
   "execution_count": null,
   "metadata": {},
   "outputs": [],
   "source": [
    "def move_dir(State, row, col, dx, dy):\n",
    "    State = to_list(State)\n",
    "    State[row     ][col     ] = State[row + dx][col + dy]\n",
    "    State[row + dx][col + dy] = '0'\n",
    "    return to_tuple(State)"
   ]
  },
  {
   "cell_type": "markdown",
   "metadata": {},
   "source": [
    "Given a `State` of the sliding puzzle, the function `next_states(State)` computes all those states that can be reached from `State` in one step."
   ]
  },
  {
   "cell_type": "code",
   "execution_count": null,
   "metadata": {},
   "outputs": [],
   "source": [
    "def next_states(State):\n",
    "    n          = len(State)\n",
    "    row, col   = find_tile('0', State)\n",
    "    NewStates  = set()\n",
    "    Directions = [ (1, 0), (-1, 0), (0, 1), (0, -1) ]\n",
    "    for dx, dy in Directions:\n",
    "        if row + dx in range(n) and col + dy in range(n):\n",
    "            NewStates.add(move_dir(State, row, col, dx, dy))\n",
    "    return NewStates"
   ]
  },
  {
   "cell_type": "markdown",
   "metadata": {},
   "source": [
    "The function `matches(Pattern, State)` checks, whether the <em style=\"color:blue\">pattern</em> `Pattern` matches the state `State`.  A *pattern* is like a state but instead of numbers,  some of the entries of the list of lists are the\n",
    "string `*`.  The idea is that `*` is a wildcard that matches anything.\n",
    "**Note** that `State` can also be an *extended state*."
   ]
  },
  {
   "cell_type": "code",
   "execution_count": null,
   "metadata": {},
   "outputs": [],
   "source": [
    "def matches(Pattern, State):\n",
    "    \"your code here\""
   ]
  },
  {
   "cell_type": "markdown",
   "metadata": {},
   "source": [
    "The function `manhattan` implemented below takes as argument two *extended states* `State1` and `State2` \n",
    "possibly containing wildcards and computes the *Manhattan distance* between these \n",
    "extended states. Basically, the manhattan distance measure the number of moves that it would take to transform `stateA` into `stateB` if we were allowed to slide different tiles on top of each other.\n",
    "When computing these distances,  tiles that are numbered with a wildcard are ignored."
   ]
  },
  {
   "cell_type": "code",
   "execution_count": null,
   "metadata": {},
   "outputs": [],
   "source": [
    "def manhattan(State1, State2):\n",
    "    \"your code here\""
   ]
  },
  {
   "cell_type": "markdown",
   "metadata": {},
   "source": [
    "The function `find_tiles` takes a <em style=\"color:blue\">pattern</em> `Pattern` as input and returns the\n",
    "list of all tiles in `Pattern` that are labeled with a number."
   ]
  },
  {
   "cell_type": "code",
   "execution_count": null,
   "metadata": {},
   "outputs": [],
   "source": [
    "def find_tiles(Pattern):\n",
    "    Result = []\n",
    "    n = len(Pattern)\n",
    "    for row in range(n):\n",
    "        for col in range(n):\n",
    "            tile = Pattern[row][col]\n",
    "            if tile != '*':\n",
    "                Result.append(tile)\n",
    "    return Result"
   ]
  },
  {
   "cell_type": "markdown",
   "metadata": {},
   "source": [
    "The function `replace_numbers` takes two arguments:\n",
    "- `Pattern` is an <em style=\"color:blue\">extended state</em>,\n",
    "- `Tiles` is a list of numbered `tiles`.\n",
    "The state `Pattern` is transformed by replacing all tiles that are not a member of the list `Tiles`\n",
    "with the wildcard character `*`."
   ]
  },
  {
   "cell_type": "code",
   "execution_count": null,
   "metadata": {},
   "outputs": [],
   "source": [
    "def replace_numbers(Pattern, Tiles):\n",
    "    \"your code here\""
   ]
  },
  {
   "cell_type": "markdown",
   "metadata": {},
   "source": [
    "The function `intermediate_goals` is called with two parameters:\n",
    "- `Goal` is a state of the 15-puzzle,\n",
    "- `TilesList` is a list of list of numbers.\n",
    "   For example, TilesList could be the list `[ [14, 15], [12, 13] ]`.\n",
    "   This list would specify that we want to create two intermediate \n",
    "   goals.  \n",
    "   - The first goal would only have the tiles numbered `14`and `15`,\n",
    "     while all other tiles would be replaced by wildcards.\n",
    "   - The second goal would only have the tiles numbered `12`, `13`, `14`,\n",
    "     and `15`, while all other tiles would be replaced by wildcards.\n",
    "\n",
    "The function returns the list of intermediate goals. "
   ]
  },
  {
   "cell_type": "code",
   "execution_count": null,
   "metadata": {},
   "outputs": [],
   "source": [
    "def intermediate_goals(Goal, TilesList):\n",
    "    \"your code here\""
   ]
  },
  {
   "cell_type": "markdown",
   "metadata": {},
   "source": [
    "Given two extended states `Pattern1` and `Pattern2` the function `extract_move` returns a pair `(dx, dy)` such that we have:\n",
    "```\n",
    "    (row, col) = find_tile('0', Pattern1) -> move_dir(Pattern1, row, col, dx, dy) == Pattern2\n",
    "```\n",
    "Hence `extract_move(Pattern1, Pattern2)` computes the action that is necessary to transform `Pattern1` into \n",
    "`Pattern2`.  This action is encoded as a direction `(dx, dy)`.  This is the direction to move the empty tile in `Pattern1` to reach `Pattern2`."
   ]
  },
  {
   "cell_type": "code",
   "execution_count": null,
   "metadata": {},
   "outputs": [],
   "source": [
    "def extract_move(Pattern1, Pattern2):\n",
    "    \"your code here\""
   ]
  },
  {
   "cell_type": "markdown",
   "metadata": {},
   "source": [
    "Given a list of extended states `PatternList` of the form\n",
    "$$ \\texttt{PatternList} = [P_1, P_2, \\cdots, P_n] $$\n",
    "the function `extract_move_list` computes a list of actions $[a_1, a_2, \\cdots, a_{n-1}]$ such that\n",
    "applying action $(a_i)$ to state $P_i$ results in state $P_{i+1}$.  \n",
    "The actions are pairs of the form `(dx, dy)` that specify how the empty tile is to be moved."
   ]
  },
  {
   "cell_type": "code",
   "execution_count": null,
   "metadata": {},
   "outputs": [],
   "source": [
    "def extract_move_list(PatternList):\n",
    "    \"your code here\""
   ]
  },
  {
   "cell_type": "markdown",
   "metadata": {},
   "source": [
    "Given the list of actions `MoveList` of the form $[a_1, a_2, \\cdots, a_{n-1}]$, the function\n",
    "`apply_move_list` takes a state `State` and applies these action to `State`one by one.  The list of all\n",
    "states produced this way is returned.  This list starts with the given state `State`."
   ]
  },
  {
   "cell_type": "code",
   "execution_count": null,
   "metadata": {},
   "outputs": [],
   "source": [
    "def apply_move_list(State, MoveList):\n",
    "    \"your code here\""
   ]
  },
  {
   "cell_type": "markdown",
   "metadata": {},
   "source": [
    "The function `stateToString` is useful for debugging purposes to transform a given state into a string."
   ]
  },
  {
   "cell_type": "code",
   "execution_count": null,
   "metadata": {},
   "outputs": [],
   "source": [
    "def stateToString(state):\n",
    "    n      = len(state)\n",
    "    indent = \" \" * 4;\n",
    "    line   = indent + \"+---\" * n + \"+\\n\"\n",
    "    result = line\n",
    "    for row in range(n):\n",
    "        result += indent + \"|\"\n",
    "        for col in range(n):\n",
    "            cell = state[row][col]\n",
    "            if isinstance(cell, str) and cell != '*':\n",
    "                cell = int(cell)\n",
    "            if cell == \"*\":\n",
    "                result += \" * \"\n",
    "            elif cell >= 10:\n",
    "                result += str(cell) + \" \"\n",
    "            elif cell > 0 and cell < 10:\n",
    "                result += \" \" + str(cell) + \" \"\n",
    "            else: \n",
    "                result += \"   \"\n",
    "            result += \"|\"\n",
    "        result += \"\\n\"\n",
    "        result += line\n",
    "    return result"
   ]
  },
  {
   "cell_type": "markdown",
   "metadata": {},
   "source": [
    "## A$^*$ Search"
   ]
  },
  {
   "cell_type": "markdown",
   "metadata": {},
   "source": [
    "The module `Set` implements <em style=\"color:blue;\">sets</em> as \n",
    "<a href=\"https://en.wikipedia.org/wiki/AVL_tree\">AVL trees</a>.\n",
    "The API provided by `Set` offers the following functions and methods:\n",
    "- `Set()` creates an empty set.\n",
    "- `S.isEmpty()` checks whether the set `S`is empty.\n",
    "- `S.member(x)` checks whether `x` is an element of the set `S`.\n",
    "- `S.insert(x)` inserts `x` into the set `S`.\n",
    "  This does not return a new set but rather modifies the set `S`.\n",
    "- `S.delete(x)` deletes `x` from the set `S`.\n",
    "  This does not return a new set but rather modifies the set `S`.\n",
    "- `S.pop()` returns the smallest element of the set `S`.\n",
    "  Furthermore, this element is removed from `S`.\n",
    "Since sets are implemented as ordered binary trees, the elements of a set need to be comparable, i.e. if `x` and `y` are inserted into a set, then the \n",
    "expression `x < y` must return a Boolean value and `<` has to define \n",
    "linear order.\n",
    "\n",
    "The module `Set` can be used to implement a priority queue that supports the removal of elements."
   ]
  },
  {
   "cell_type": "code",
   "execution_count": null,
   "metadata": {},
   "outputs": [],
   "source": [
    "import Set"
   ]
  },
  {
   "cell_type": "markdown",
   "metadata": {},
   "source": [
    "The function `search` takes three arguments to solve a *search problem*:\n",
    "- `Start` is the start state of the search problem.\n",
    "- `Goal`is the goal state.  This might be an *extended state*.\n",
    "- `next_states` is a function with signature $\\texttt{next_states}:Q \\rightarrow 2^Q$, where $Q$ is the set of states.\n",
    "  For every state $s \\in Q$, $\\texttt{next_states}(s)$ is the set of states that can be reached from $s$ in one step.\n",
    "- `heuristic` is a function that takes two states as arguments.  It returns an estimate of the \n",
    "  length of the shortest path between these states.\n",
    "If successful, `search` returns a path from `start` to `goal` that is a solution of the search problem\n",
    "$$ \\langle Q, \\texttt{next_states}, \\texttt{start}, \\texttt{goal} \\rangle. $$\n",
    "\n",
    "Basically, the function `search` implements A$^*$ search, but instead of checking whether a state is identical to `Goal`, this function only tests whether a state *matches* goal."
   ]
  },
  {
   "cell_type": "markdown",
   "metadata": {},
   "source": [
    "The parameter `Goal` is not a state, but only a *pattern*."
   ]
  },
  {
   "cell_type": "code",
   "execution_count": null,
   "metadata": {},
   "outputs": [],
   "source": [
    "def search(Start, Goal, next_states, heuristic):\n",
    "    Parent   = { Start: Start }                    \n",
    "    Distance = { Start: 0     }\n",
    "    estGoal  = heuristic(Start, Goal)\n",
    "    Estimate = { Start: estGoal }\n",
    "    Frontier = Set.Set()\n",
    "    Frontier.insert( (estGoal, Start) )\n",
    "    while not Frontier.isEmpty():\n",
    "        estimate, State = Frontier.pop()\n",
    "        if matches(Goal, State):\n",
    "            print(f'Number of states touched: {len(Distance)}')\n",
    "            return path_to(State, Parent)\n",
    "        stateDist = Distance[State]\n",
    "        for ns in next_states(State):\n",
    "            oldEstimate = Estimate.get(ns, None)\n",
    "            newEstimate = stateDist + 1 + heuristic(ns, Goal)\n",
    "            if oldEstimate == None or newEstimate < oldEstimate:\n",
    "                Parent[ns]   = State\n",
    "                Distance[ns] = stateDist + 1\n",
    "                Estimate[ns] = newEstimate\n",
    "                Frontier.insert( (newEstimate, ns) )\n",
    "                if oldEstimate != None:\n",
    "                    Frontier.delete( (oldEstimate, ns) )"
   ]
  },
  {
   "cell_type": "markdown",
   "metadata": {},
   "source": [
    "Given a `state` and a parent dictionary `Parent`, the function `path_to` returns a path leading to the given `state`."
   ]
  },
  {
   "cell_type": "code",
   "execution_count": null,
   "metadata": {},
   "outputs": [],
   "source": [
    "def path_to(state, Parent):\n",
    "    p = Parent[state]\n",
    "    if p == state:\n",
    "        return [state]\n",
    "    return path_to(p, Parent) + [state]"
   ]
  },
  {
   "cell_type": "markdown",
   "metadata": {},
   "source": [
    "## Putting It All Together"
   ]
  },
  {
   "cell_type": "markdown",
   "metadata": {},
   "source": [
    "Lets draw the start state and animate the solution that has been found."
   ]
  },
  {
   "cell_type": "code",
   "execution_count": null,
   "metadata": {},
   "outputs": [],
   "source": [
    "def main():\n",
    "    TilesList   = [['14', '15'], \n",
    "                   ['12', '13'], \n",
    "                   ['10', '11'], \n",
    "                   [ '8',  '9'], \n",
    "                   [ '3',  '7'], \n",
    "                   [ '2',  '6'], \n",
    "                   ['0', '1', '4', '5']\n",
    "                  ]\n",
    "    PatternList = intermediate_goals(Goal, TilesList)\n",
    "    State       = Start\n",
    "    Solution    = []\n",
    "    print('Start state:')\n",
    "    draw_state(Start)\n",
    "    for Pattern in PatternList:\n",
    "        print('Trying to reach the following pattern:')\n",
    "        draw_state(Pattern)\n",
    "        Tiles = find_tiles(Pattern)\n",
    "        ExtendedState = replace_numbers(State, Tiles + ['0'])\n",
    "        Path = search(ExtendedState, Pattern, next_states, manhattan)\n",
    "        MoveList = extract_move_list(Path)\n",
    "        Path = apply_move_list(State, MoveList)\n",
    "        print(f'The following state is reached after {len(Path)-1} steps:');\n",
    "        State = Path[-1]\n",
    "        draw_state(State)\n",
    "        Solution += Path[:-1]\n",
    "    Solution += [ Goal ]\n",
    "    return Solution"
   ]
  },
  {
   "cell_type": "code",
   "execution_count": null,
   "metadata": {
    "scrolled": false
   },
   "outputs": [],
   "source": [
    "%%time\n",
    "Path = main()\n",
    "print(len(Path)-1)"
   ]
  },
  {
   "cell_type": "code",
   "execution_count": null,
   "metadata": {},
   "outputs": [],
   "source": [
    "animation(Path)"
   ]
  },
  {
   "cell_type": "code",
   "execution_count": null,
   "metadata": {},
   "outputs": [],
   "source": []
  }
 ],
 "metadata": {
  "kernelspec": {
   "display_name": "Python 3",
   "language": "python",
   "name": "python3"
  },
  "language_info": {
   "codemirror_mode": {
    "name": "ipython",
    "version": 3
   },
   "file_extension": ".py",
   "mimetype": "text/x-python",
   "name": "python",
   "nbconvert_exporter": "python",
   "pygments_lexer": "ipython3",
   "version": "3.7.9"
  },
  "toc": {
   "base_numbering": 1,
   "nav_menu": {},
   "number_sections": true,
   "sideBar": true,
   "skip_h1_title": false,
   "title_cell": "Table of Contents",
   "title_sidebar": "Contents",
   "toc_cell": false,
   "toc_position": {},
   "toc_section_display": true,
   "toc_window_display": false
  },
  "varInspector": {
   "cols": {
    "lenName": 16,
    "lenType": 16,
    "lenVar": 40
   },
   "kernels_config": {
    "python": {
     "delete_cmd_postfix": "",
     "delete_cmd_prefix": "del ",
     "library": "var_list.py",
     "varRefreshCmd": "print(var_dic_list())"
    },
    "r": {
     "delete_cmd_postfix": ") ",
     "delete_cmd_prefix": "rm(",
     "library": "var_list.r",
     "varRefreshCmd": "cat(var_dic_list()) "
    }
   },
   "types_to_exclude": [
    "module",
    "function",
    "builtin_function_or_method",
    "instance",
    "_Feature"
   ],
   "window_display": false
  }
 },
 "nbformat": 4,
 "nbformat_minor": 2
}
