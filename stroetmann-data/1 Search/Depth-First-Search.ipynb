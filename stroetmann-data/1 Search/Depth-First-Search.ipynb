{
 "cells": [
  {
   "cell_type": "code",
   "execution_count": null,
   "metadata": {},
   "outputs": [],
   "source": [
    "from IPython.core.display import HTML\n",
    "with open('../style.css') as f:\n",
    "    css = f.read()\n",
    "HTML(css)"
   ]
  },
  {
   "cell_type": "markdown",
   "metadata": {},
   "source": [
    "The following cell should return the string `'0'`.  In order for this to happen you have to set the variable `PYTHONHASHSEED` to the value `0` in the shell where you start the server for *jupyter notebooks*.  The reason that this is necessary is the fact that the `PYTHONHASHSEED` is used internally for the hash tables that implement sets.  If the variable `PYTHONHASHSEED` is not set, these sets are odered randomly and hence results become *irreproducible*."
   ]
  },
  {
   "cell_type": "code",
   "execution_count": null,
   "metadata": {},
   "outputs": [],
   "source": [
    "import os\n",
    "os.environ['PYTHONHASHSEED']"
   ]
  },
  {
   "cell_type": "markdown",
   "metadata": {},
   "source": [
    "# Depth First Search"
   ]
  },
  {
   "cell_type": "markdown",
   "metadata": {},
   "source": [
    "The function `search` takes three arguments to solve a *search problem*:\n",
    "- `start` is the start state of the search problem,\n",
    "- `goal`is the goal state, and\n",
    "- `next_states` is a function with signature $\\texttt{next_states}:Q \\rightarrow 2^Q$, where $Q$ is the set of states.\n",
    "  For every state $s \\in Q$, $\\texttt{next_states}(s)$ is the set of states that can be reached from $s$ in one step.\n",
    "If successful, `search` returns a path from `start` to `goal` that is a solution of the search problem\n",
    "$$ \\langle Q, \\texttt{next_states}, \\texttt{start}, \\texttt{goal} \\rangle. $$"
   ]
  },
  {
   "cell_type": "code",
   "execution_count": null,
   "metadata": {},
   "outputs": [],
   "source": [
    "def search(start, goal, next_states):\n",
    "    return dfs(start, goal, next_states, [start], { start })"
   ]
  },
  {
   "cell_type": "markdown",
   "metadata": {},
   "source": [
    "The function `dfs` takes four arguments to solve a *search problem*\n",
    "- `state` is a state of the search problem.\n",
    "   It is assumed that we have already found a path from the `start` state of our search problem \n",
    "   that leads to `state`.\n",
    "- `goal`is the goal state, and\n",
    "- `next_states` is a function with signature $\\texttt{next_states}:Q \\rightarrow 2^Q$, where $Q$ is the set of states.\n",
    "  For every state $s \\in Q$, $\\texttt{next_states}(s)$ is the set of states that can be reached from $s$ in one step.\n",
    "- `Path` is a path leading from the `start` state of the search problem to `state`. \n",
    "  Therefore, `start = Path[0]`.\n",
    "- `PathSet` is the list `Path` represented as a set.\n",
    "\n",
    "The implementation of `dfs` works as follows:\n",
    "- If `state` is equal to `goal`, our search is successful.  Since by assumption\n",
    "  the list `Path` is a path connecting the `start` state of our search problem with `state`, \n",
    "  `Path` is the solution fo the search problem.\n",
    "- Otherwise, `next_states(state)` is the set of states that are reachable from `state`\n",
    "  in one step.  Any of the states `ns` in this set could be the next state on a path\n",
    "  that leads to `goal`.  Therefore, we try recursively to reach `goal` from\n",
    "  every state `ns`.  Note that we have to change `Path` to the list\n",
    "  `Path + [ns]` when we call the procedure `dfs` recursively.  This way, we retain the invariant of\n",
    "  `dfs` that the list `Path` is a path connecting the start state of our search problem with `state`.\n",
    "- In order to avoid running in circles we check that the state `ns` is not already a member of the \n",
    "  list `Path`.  It would be very inefficient to search in the list `Path`.  ZTherefore, we search\n",
    "  in `PathSet` instead because this set conatins the same elements as the list `Path`.\n",
    "- If one of the recursive calls of `dfs` returns a list, this list is a solution to our\n",
    "  search problem and hence it is returned.  However, if instead the value\n",
    "  `None` is returned, the `for` loop needs to carry on and test the other\n",
    "  successors of `state`.\n",
    "\n",
    "Note that the recursive invocation of `dfs` returns `None` if the end of the\n",
    "`for` loop is reached and no solution has been returned so far.  "
   ]
  },
  {
   "cell_type": "code",
   "execution_count": null,
   "metadata": {},
   "outputs": [],
   "source": [
    "def dfs(state, goal, next_states, Path, PathSet):\n",
    "    if state == goal:\n",
    "        return Path\n",
    "    for ns in next_states(state):\n",
    "        if ns not in PathSet:\n",
    "            Path   .append(ns)\n",
    "            PathSet.add(ns)\n",
    "            Result = dfs(ns, goal, next_states, Path, PathSet)\n",
    "            if Result != None:\n",
    "                return Result    \n",
    "            Path   .pop()\n",
    "            PathSet.remove(ns)\n",
    "    return None"
   ]
  },
  {
   "cell_type": "markdown",
   "metadata": {},
   "source": [
    "# Display Code"
   ]
  },
  {
   "cell_type": "markdown",
   "metadata": {},
   "source": [
    "Below, we ensure that we only import `graphviz` if this notebook is not loaded from another notebook.  This works by checking that the variable `file` is not set."
   ]
  },
  {
   "cell_type": "code",
   "execution_count": null,
   "metadata": {},
   "outputs": [],
   "source": [
    "try:\n",
    "    __file__\n",
    "except NameError:\n",
    "    import graphviz as gv"
   ]
  },
  {
   "cell_type": "markdown",
   "metadata": {},
   "source": [
    "The function $\\texttt{toDot}(\\texttt{source}, \\texttt{Edges}, \\texttt{Fringe}, \\texttt{Visited})$ takes a graph that is represented by \n",
    "its `Edges`, a set of nodes `Fringe`, and set `Visited` of nodes that have already been visited."
   ]
  },
  {
   "cell_type": "code",
   "execution_count": null,
   "metadata": {},
   "outputs": [],
   "source": [
    "def toDot(source, goal, Edges, Path):\n",
    "    V = set()\n",
    "    for x, L in Edges.items():\n",
    "        V.add(x)\n",
    "        for y in L:\n",
    "            V.add(y)\n",
    "    dot = gv.Digraph(node_attr={'shape': 'record', 'style': 'rounded'})\n",
    "    dot.attr(rankdir='LR')\n",
    "    for x in V:\n",
    "        if x in Path and x == goal:\n",
    "            dot.node(str(x), label=str(x), color='magenta')\n",
    "        elif x in Path:\n",
    "            dot.node(str(x), label=str(x), color='red')\n",
    "        else:\n",
    "            dot.node(str(x), label=str(x))\n",
    "    for u in V:\n",
    "        if Edges.get(u):\n",
    "            for v in Edges[u]:\n",
    "                if u in Path and v in Path and Path.index(v) == Path.index(u) + 1:\n",
    "                    dot.edge(str(u), str(v), color='brown', style='bold') \n",
    "                elif u in Path and v in Path and Path.index(v) + 1 == Path.index(u):\n",
    "                    dot.edge(str(u), str(v), color='blue', style='bold', dir='back')\n",
    "                else:\n",
    "                    dot.edge(str(u), str(v), dir='both')\n",
    "    return dot"
   ]
  },
  {
   "cell_type": "markdown",
   "metadata": {},
   "source": [
    "# Testing"
   ]
  },
  {
   "cell_type": "code",
   "execution_count": null,
   "metadata": {},
   "outputs": [],
   "source": [
    "n = 6"
   ]
  },
  {
   "cell_type": "code",
   "execution_count": null,
   "metadata": {},
   "outputs": [],
   "source": [
    "def nextStates(node):\n",
    "    x, y = node\n",
    "    if x == 0 and y == 0:\n",
    "        return { (1, 0), (0, 1) }\n",
    "    if x == 0 and 0 < y < n-1:\n",
    "        return { (x+1, y), (x, y+1), (x, y-1) }\n",
    "    if 0 < x < n-1 and y == 0:\n",
    "        return { (x+1, y), (x, y+1), (x-1, y) }\n",
    "    if 0 < x < n-1 and 0 < y < n-1:\n",
    "        return { (x+1, y), (x, y+1), (x-1, y), (x, y-1) }\n",
    "    if x == n-1 and y == 0:\n",
    "        return { (x, y+1), (x-1, y)}\n",
    "    if x == 0 and y == n-1:\n",
    "        return { (x, y-1), (x+1, y)}\n",
    "    if x == n-1 and 0 < y < n-1:\n",
    "        return { (x, y+1), (x-1, y), (x, y-1) }\n",
    "    if 0 < x < n-1 and y == n-1:\n",
    "        return { (x+1, y), (x-1, y), (x, y-1) }\n",
    "    if x == n-1 and y == n-1:\n",
    "        return { (x-1, y), (x, y-1) }\n",
    "    return {}"
   ]
  },
  {
   "cell_type": "code",
   "execution_count": null,
   "metadata": {},
   "outputs": [],
   "source": [
    "def remove_back_edge(r, c, NS):\n",
    "    return [(x,y) for (x,y) in NS if x >= r and y >= c]"
   ]
  },
  {
   "cell_type": "code",
   "execution_count": null,
   "metadata": {},
   "outputs": [],
   "source": [
    "def create_edges(n):\n",
    "    Edges = {}\n",
    "    for row in range(n):\n",
    "        for col in range(n):\n",
    "            if (row, col) != (n-1, n-1):\n",
    "                Edges[(row, col)] = remove_back_edge(row, col, nextStates((row, col)))\n",
    "    for k in range(n-1):\n",
    "        Edges[(k, n-1)] = [(k+1, n-1)]\n",
    "        Edges[(n-1, k)] = [(n-1, k+1)]\n",
    "    return Edges"
   ]
  },
  {
   "cell_type": "code",
   "execution_count": null,
   "metadata": {},
   "outputs": [],
   "source": [
    "def search_show(start, goal, next_states, Edges):\n",
    "    Result = dfs_show(start, goal, next_states, [start], Edges)\n",
    "    display(toDot(start, goal, Edges, Result))"
   ]
  },
  {
   "cell_type": "code",
   "execution_count": null,
   "metadata": {},
   "outputs": [],
   "source": [
    "def dfs_show(state, goal, next_states, Path, Edges):\n",
    "    if state == goal:\n",
    "        return Path\n",
    "    for ns in next_states(state):\n",
    "        if ns not in Path:\n",
    "            display(toDot(state, goal, Edges, Path))\n",
    "            Result = dfs_show(ns, goal, next_states, Path + [ns], Edges)\n",
    "            if Result:\n",
    "                return Result"
   ]
  },
  {
   "cell_type": "code",
   "execution_count": null,
   "metadata": {},
   "outputs": [],
   "source": [
    "def main():\n",
    "    Edges = create_edges(n)\n",
    "    search_show((0,0), (n//2,n//2), nextStates, Edges)"
   ]
  },
  {
   "cell_type": "code",
   "execution_count": null,
   "metadata": {
    "scrolled": false
   },
   "outputs": [],
   "source": [
    "main()"
   ]
  },
  {
   "cell_type": "markdown",
   "metadata": {},
   "source": [
    "# Solving the Sliding Puzzle"
   ]
  },
  {
   "cell_type": "code",
   "execution_count": null,
   "metadata": {},
   "outputs": [],
   "source": [
    "%run Sliding-Puzzle.ipynb"
   ]
  },
  {
   "cell_type": "code",
   "execution_count": null,
   "metadata": {},
   "outputs": [],
   "source": [
    "import sys\n",
    "import resource"
   ]
  },
  {
   "cell_type": "code",
   "execution_count": null,
   "metadata": {},
   "outputs": [],
   "source": [
    "sys.setrecursionlimit(40000)"
   ]
  },
  {
   "cell_type": "code",
   "execution_count": null,
   "metadata": {
    "scrolled": false
   },
   "outputs": [],
   "source": [
    "%%time\n",
    "memory_before = resource.getrusage(resource.RUSAGE_SELF).ru_maxrss\n",
    "Path          = search(start, goal, next_states)\n",
    "memory_after  = resource.getrusage(resource.RUSAGE_SELF).ru_maxrss\n",
    "print(f'Total memory used: {round((memory_after - memory_before) / 2**20)} Megabytes.')\n",
    "print(f'Length of path: {len(Path)-1}')"
   ]
  },
  {
   "cell_type": "code",
   "execution_count": null,
   "metadata": {},
   "outputs": [],
   "source": [
    "animation(Path)"
   ]
  },
  {
   "cell_type": "code",
   "execution_count": null,
   "metadata": {},
   "outputs": [],
   "source": []
  }
 ],
 "metadata": {
  "hide_input": false,
  "kernelspec": {
   "display_name": "Python 3",
   "language": "python",
   "name": "python3"
  },
  "language_info": {
   "codemirror_mode": {
    "name": "ipython",
    "version": 3
   },
   "file_extension": ".py",
   "mimetype": "text/x-python",
   "name": "python",
   "nbconvert_exporter": "python",
   "pygments_lexer": "ipython3",
   "version": "3.7.9"
  },
  "toc": {
   "base_numbering": 1,
   "nav_menu": {},
   "number_sections": true,
   "sideBar": true,
   "skip_h1_title": false,
   "title_cell": "Table of Contents",
   "title_sidebar": "Contents",
   "toc_cell": false,
   "toc_position": {},
   "toc_section_display": true,
   "toc_window_display": false
  },
  "varInspector": {
   "cols": {
    "lenName": 16,
    "lenType": 16,
    "lenVar": 40
   },
   "kernels_config": {
    "python": {
     "delete_cmd_postfix": "",
     "delete_cmd_prefix": "del ",
     "library": "var_list.py",
     "varRefreshCmd": "print(var_dic_list())"
    },
    "r": {
     "delete_cmd_postfix": ") ",
     "delete_cmd_prefix": "rm(",
     "library": "var_list.r",
     "varRefreshCmd": "cat(var_dic_list()) "
    }
   },
   "types_to_exclude": [
    "module",
    "function",
    "builtin_function_or_method",
    "instance",
    "_Feature"
   ],
   "window_display": false
  }
 },
 "nbformat": 4,
 "nbformat_minor": 2
}
