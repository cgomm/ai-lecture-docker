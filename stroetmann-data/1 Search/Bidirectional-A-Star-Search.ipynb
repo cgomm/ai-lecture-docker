{
 "cells": [
  {
   "cell_type": "code",
   "execution_count": null,
   "metadata": {},
   "outputs": [],
   "source": [
    "from IPython.core.display import HTML\n",
    "with open('../style.css') as f:\n",
    "    css = f.read()\n",
    "HTML(css)"
   ]
  },
  {
   "cell_type": "markdown",
   "metadata": {},
   "source": [
    "# Bidirectional A$^*$ Search"
   ]
  },
  {
   "cell_type": "code",
   "execution_count": null,
   "metadata": {},
   "outputs": [],
   "source": [
    "import sys\n",
    "sys.path.append('..')\n",
    "import Set"
   ]
  },
  {
   "cell_type": "markdown",
   "metadata": {},
   "source": [
    "The function `search` takes three arguments to solve a *search problem*:\n",
    "- `start` is the start state of the search problem,\n",
    "- `goal`is the goal state, and\n",
    "- `next_states` is a function with signature $\\texttt{next_states}:Q \\rightarrow 2^Q$, where $Q$ is the set of states.\n",
    "  For every state $s \\in Q$, $\\texttt{next_states}(s)$ is the set of states that can be reached from $s$ in one step.\n",
    "- `heuristic` is a function that takes two states as arguments.  It returns an estimate of the \n",
    "  length of the shortest path between these states.\n",
    "If successful, `search` returns a path from `start` to `goal` that is a solution of the search problem\n",
    "$$ \\langle Q, \\texttt{next_states}, \\texttt{start}, \\texttt{goal} \\rangle. $$\n",
    "\n",
    "The function `search` implements bidirectional A$^*$ search."
   ]
  },
  {
   "cell_type": "code",
   "execution_count": null,
   "metadata": {},
   "outputs": [],
   "source": [
    "def search(start, goal, next_states, heuristic):\n",
    "    estimate  = heuristic(start, goal)\n",
    "    ParentA   = { start: start }\n",
    "    ParentB   = { goal : goal  }\n",
    "    DistanceA = { start: 0 }\n",
    "    DistanceB = { goal : 0 }\n",
    "    EstimateA = { start: estimate }\n",
    "    EstimateB = { goal : estimate }\n",
    "    FrontierA = Set.Set()   \n",
    "    FrontierB = Set.Set()\n",
    "    FrontierA.insert( (estimate, start) )\n",
    "    FrontierB.insert( (estimate, goal ) )\n",
    "    while not FrontierA.isEmpty() and not FrontierB.isEmpty():\n",
    "        guessA, stateA = FrontierA.pop()\n",
    "        guessB, stateB = FrontierB.pop()\n",
    "        stateADist = DistanceA[stateA]\n",
    "        stateBDist = DistanceB[stateB]\n",
    "        if guessA <= guessB:\n",
    "            FrontierB.insert( (guessB, stateB) )\n",
    "            for ns in next_states(stateA):\n",
    "                oldEstimate = EstimateA.get(ns, None)\n",
    "                newEstimate = stateADist + 1 + heuristic(ns, goal)\n",
    "                if oldEstimate == None or newEstimate < oldEstimate:\n",
    "                    ParentA  [ns] = stateA\n",
    "                    DistanceA[ns] = stateADist + 1\n",
    "                    EstimateA[ns] = newEstimate\n",
    "                    FrontierA.insert( (newEstimate, ns) )\n",
    "                    if oldEstimate != None:\n",
    "                        FrontierA.delete( (oldEstimate, ns) )\n",
    "                if DistanceB.get(ns, None) != None:\n",
    "                    stateNum = len(DistanceA) + len(DistanceB)\n",
    "                    print('number of states:', stateNum)\n",
    "                    return combinePaths(ns, ParentA, ParentB)\n",
    "        else:\n",
    "            FrontierA.insert( (guessA, stateA) )\n",
    "            for ns in next_states(stateB):\n",
    "                oldEstimate = EstimateB.get(ns, None)\n",
    "                newEstimate = stateBDist + 1 + heuristic(start, ns)\n",
    "                if oldEstimate == None or newEstimate < oldEstimate:\n",
    "                    ParentB  [ns] = stateB\n",
    "                    DistanceB[ns] = stateBDist + 1\n",
    "                    EstimateB[ns] = newEstimate\n",
    "                    FrontierB.insert( (newEstimate, ns) )\n",
    "                    if oldEstimate != None:\n",
    "                        FrontierB.delete( (oldEstimate, ns) )\n",
    "                if DistanceA.get(ns, None) != None:\n",
    "                    stateNum = len(DistanceA) + len(DistanceB)\n",
    "                    print('number of states:', stateNum)\n",
    "                    return combinePaths(ns, ParentA, ParentB)                    "
   ]
  },
  {
   "cell_type": "markdown",
   "metadata": {},
   "source": [
    "Given a `state` and a parent dictionary `Parent`, the function `path_to` returns a path leading to the given `state`."
   ]
  },
  {
   "cell_type": "code",
   "execution_count": null,
   "metadata": {},
   "outputs": [],
   "source": [
    "def path_to(state, Parent):\n",
    "    p = Parent[state]\n",
    "    if p == state:\n",
    "        return [state]\n",
    "    return path_to(p, Parent) + [state]"
   ]
  },
  {
   "cell_type": "markdown",
   "metadata": {},
   "source": [
    "The function `combinePath` takes three parameters:\n",
    "- `state` is a state that has been reached in bidirectional BFS from both `start` and `goal`.\n",
    "- `ParentA` is the parent dictionary that has been build when searching from `start`.\n",
    "   If $\\texttt{ParentA}[s_1] = s_2$ holds, then either $s_1 = s2 = \\texttt{start}$ or \n",
    "   $s_1 \\in \\texttt{next_states}(s_2)$.\n",
    "- `ParentB` is the parent dictionary that has been build when searching from `goal`.\n",
    "   If $\\texttt{ParentB}[s_1] = s_2$ holds, then either $s_1 = s2 = \\texttt{goal}$ or\n",
    "   $s_1 \\in \\texttt{next_states}(s_2)$.\n",
    "The function returns a path from `start`to `goal`."
   ]
  },
  {
   "cell_type": "code",
   "execution_count": null,
   "metadata": {},
   "outputs": [],
   "source": [
    "def combinePaths(state, ParentA, ParentB):\n",
    "        Path1 = path_to(state, ParentA)\n",
    "        Path2 = path_to(state, ParentB)\n",
    "        return Path1[:-1] + Path2[::-1] # Path2 is reversed"
   ]
  },
  {
   "cell_type": "markdown",
   "metadata": {},
   "source": [
    "Lets draw the start state and animate the solution that has been found."
   ]
  },
  {
   "cell_type": "code",
   "execution_count": null,
   "metadata": {},
   "outputs": [],
   "source": [
    "%run Sliding-Puzzle.ipynb"
   ]
  },
  {
   "cell_type": "code",
   "execution_count": null,
   "metadata": {},
   "outputs": [],
   "source": [
    "import resource"
   ]
  },
  {
   "cell_type": "code",
   "execution_count": null,
   "metadata": {},
   "outputs": [],
   "source": [
    "%%time\n",
    "memory_before = resource.getrusage(resource.RUSAGE_SELF).ru_maxrss\n",
    "Path          = search(start, goal, next_states, manhattan)\n",
    "memory_after  = resource.getrusage(resource.RUSAGE_SELF).ru_maxrss\n",
    "print(f'Total memory used: {round((memory_after - memory_before) / 2**20)} megabytes.')\n",
    "print(len(Path)-1)"
   ]
  },
  {
   "cell_type": "code",
   "execution_count": null,
   "metadata": {},
   "outputs": [],
   "source": [
    "animation(Path)"
   ]
  },
  {
   "cell_type": "markdown",
   "metadata": {},
   "source": [
    "Let's try the real thing."
   ]
  },
  {
   "cell_type": "code",
   "execution_count": null,
   "metadata": {},
   "outputs": [],
   "source": [
    "%%time\n",
    "memory_before = resource.getrusage(resource.RUSAGE_SELF).ru_maxrss\n",
    "Path          = search(start2, goal2, next_states, manhattan)\n",
    "memory_after  = resource.getrusage(resource.RUSAGE_SELF).ru_maxrss\n",
    "print(f'Total memory used: {round((memory_after - memory_before) / 2**20)} megabytes.')\n",
    "print(len(Path)-1)"
   ]
  },
  {
   "cell_type": "code",
   "execution_count": null,
   "metadata": {},
   "outputs": [],
   "source": [
    "animation(Path)"
   ]
  },
  {
   "cell_type": "code",
   "execution_count": null,
   "metadata": {},
   "outputs": [],
   "source": []
  }
 ],
 "metadata": {
  "kernelspec": {
   "display_name": "Python 3",
   "language": "python",
   "name": "python3"
  },
  "language_info": {
   "codemirror_mode": {
    "name": "ipython",
    "version": 3
   },
   "file_extension": ".py",
   "mimetype": "text/x-python",
   "name": "python",
   "nbconvert_exporter": "python",
   "pygments_lexer": "ipython3",
   "version": "3.7.9"
  },
  "toc": {
   "base_numbering": 1,
   "nav_menu": {},
   "number_sections": true,
   "sideBar": true,
   "skip_h1_title": false,
   "title_cell": "Table of Contents",
   "title_sidebar": "Contents",
   "toc_cell": false,
   "toc_position": {},
   "toc_section_display": true,
   "toc_window_display": false
  },
  "varInspector": {
   "cols": {
    "lenName": 16,
    "lenType": 16,
    "lenVar": 40
   },
   "kernels_config": {
    "python": {
     "delete_cmd_postfix": "",
     "delete_cmd_prefix": "del ",
     "library": "var_list.py",
     "varRefreshCmd": "print(var_dic_list())"
    },
    "r": {
     "delete_cmd_postfix": ") ",
     "delete_cmd_prefix": "rm(",
     "library": "var_list.r",
     "varRefreshCmd": "cat(var_dic_list()) "
    }
   },
   "types_to_exclude": [
    "module",
    "function",
    "builtin_function_or_method",
    "instance",
    "_Feature"
   ],
   "window_display": false
  }
 },
 "nbformat": 4,
 "nbformat_minor": 2
}
