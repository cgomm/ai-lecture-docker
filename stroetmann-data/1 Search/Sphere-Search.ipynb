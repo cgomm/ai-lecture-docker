{
 "cells": [
  {
   "cell_type": "code",
   "execution_count": null,
   "metadata": {},
   "outputs": [],
   "source": [
    "%%HTML\n",
    "<style>\n",
    ".container { width:100% !important }\n",
    "</style>"
   ]
  },
  {
   "cell_type": "markdown",
   "metadata": {},
   "source": [
    "# Sphere Search"
   ]
  },
  {
   "cell_type": "code",
   "execution_count": 2,
   "metadata": {},
   "outputs": [],
   "source": [
    "def search(start, goal, next_states):\n",
    "    if goal == start:\n",
    "        return [start]\n",
    "    previous = basic_search(start, goal, next_states)\n",
    "    if previous:\n",
    "        return search(start, previous, next_states) + [goal]"
   ]
  },
  {
   "cell_type": "code",
   "execution_count": 1,
   "metadata": {},
   "outputs": [],
   "source": [
    "def basic_search(start, goal, next_states):\n",
    "    Frontier = { start }\n",
    "    Visited  = set()\n",
    "    while len(Frontier) > 0:\n",
    "        NewFrontier = set()\n",
    "        for s in Frontier:\n",
    "            for ns in next_states(s):\n",
    "                if ns not in Visited and ns not in Frontier:\n",
    "                    NewFrontier.add(ns)\n",
    "                    if ns == goal:\n",
    "                        return s\n",
    "        Visited  = Frontier\n",
    "        Frontier = NewFrontier\n",
    "        print(len(Visited))"
   ]
  },
  {
   "cell_type": "markdown",
   "metadata": {},
   "source": [
    "Given a `state` and a parent dictionary `Parent`, the function `path_to` returns a path leading to the given `state`."
   ]
  },
  {
   "cell_type": "code",
   "execution_count": null,
   "metadata": {},
   "outputs": [],
   "source": [
    "def path_to(state, Parent):\n",
    "    p = Parent[state]\n",
    "    if p == state:\n",
    "        return [state]\n",
    "    return path_to(p, Parent) + [state]"
   ]
  },
  {
   "cell_type": "markdown",
   "metadata": {},
   "source": [
    "# Display Code"
   ]
  },
  {
   "cell_type": "markdown",
   "metadata": {},
   "source": [
    "Below, we ensure that we only import `graphviz` if this notebook is not loaded from another notebook.  This works by checking that the variable `file` is not set."
   ]
  },
  {
   "cell_type": "code",
   "execution_count": null,
   "metadata": {},
   "outputs": [],
   "source": [
    "try:\n",
    "    __file__\n",
    "except NameError:\n",
    "    import graphviz as gv"
   ]
  },
  {
   "cell_type": "markdown",
   "metadata": {},
   "source": [
    "The function $\\texttt{toDot}(\\texttt{source}, \\texttt{Edges}, \\texttt{Fringe}, \\texttt{Visited})$ takes a graph that is represented by \n",
    "its `Edges`, a set of nodes `Fringe`, and set `Visited` of nodes that have already been visited."
   ]
  },
  {
   "cell_type": "code",
   "execution_count": null,
   "metadata": {},
   "outputs": [],
   "source": [
    "def toDot(source, goal, Edges, Frontier, Visited, Parent=None):\n",
    "    V = set()\n",
    "    for x, L in Edges.items():\n",
    "        V.add(x)\n",
    "        for y in L:\n",
    "            V.add(y)\n",
    "    dot = gv.Digraph(node_attr={'shape': 'record', 'style': 'rounded'})\n",
    "    dot.attr(rankdir='LR', size='8,5')\n",
    "    for x in V:\n",
    "        if x == source:\n",
    "            dot.node(str(x), color='blue', shape='doublecircle')\n",
    "        elif x in Frontier and x == goal:\n",
    "            dot.node(str(x), label=str(x), color='magenta')\n",
    "        elif x in Frontier:\n",
    "            dot.node(str(x), label=str(x), color='red')\n",
    "        elif x in Visited:\n",
    "            dot.node(str(x), label=str(x), color='blue')\n",
    "        else:\n",
    "            dot.node(str(x), label=str(x))\n",
    "    if Parent:        \n",
    "        Path = path_to(goal, Parent)\n",
    "    for u in V:\n",
    "        if Edges.get(u):\n",
    "            for v in Edges[u]:\n",
    "                if Parent and v in Path and Parent[v] == u:\n",
    "                    dot.edge(str(u), str(v), color='brown', style='bold')                    \n",
    "                else:\n",
    "                    dot.edge(str(u), str(v))\n",
    "    return dot"
   ]
  },
  {
   "cell_type": "markdown",
   "metadata": {},
   "source": [
    "# Testing"
   ]
  },
  {
   "cell_type": "code",
   "execution_count": null,
   "metadata": {},
   "outputs": [],
   "source": [
    "def next_states_test(node):\n",
    "    x, y = node\n",
    "    return { (x+1, y), (x, y+1) }"
   ]
  },
  {
   "cell_type": "code",
   "execution_count": null,
   "metadata": {},
   "outputs": [],
   "source": [
    "def create_edges(n):\n",
    "    Edges = {}\n",
    "    for row in range(n):\n",
    "        for col in range(n):\n",
    "            if (row, col) != (n-1, n-1):\n",
    "                Edges[(row, col)] = list(next_states_test((row, col)))\n",
    "    for k in range(n-1):\n",
    "        Edges[(k, n-1)] = [(k+1, n-1)]\n",
    "        Edges[(n-1, k)] = [(n-1, k+1)]\n",
    "    return Edges"
   ]
  },
  {
   "cell_type": "code",
   "execution_count": null,
   "metadata": {},
   "outputs": [],
   "source": [
    "def search_show(start, goal, next_states, Edges):\n",
    "    Visited  = set()\n",
    "    Frontier = { start }\n",
    "    Parent   = { start: start }\n",
    "    while len(Frontier) > 0:\n",
    "        display(toDot(start, goal, Edges, Frontier, Visited))\n",
    "        NewFrontier = set()\n",
    "        Visited    |= Frontier\n",
    "        for s in Frontier:\n",
    "            for ns in next_states(s):\n",
    "                if not (ns in Visited):\n",
    "                    NewFrontier.add(ns)\n",
    "                    Parent[ns] = s\n",
    "                    if ns == goal:\n",
    "                        display(toDot(start, goal, Edges, NewFrontier, Visited, Parent))\n",
    "                        return \n",
    "        Frontier = NewFrontier"
   ]
  },
  {
   "cell_type": "code",
   "execution_count": null,
   "metadata": {},
   "outputs": [],
   "source": [
    "def main(n):\n",
    "    Edges = create_edges(n)\n",
    "    search_show((0,0), (n-1,n-1), next_states_test, Edges)"
   ]
  },
  {
   "cell_type": "markdown",
   "metadata": {},
   "source": [
    "In the figures shown below, the nodes in the set `Visited` are colored blue, while the nodes in the set `Frontier` are colored red."
   ]
  },
  {
   "cell_type": "code",
   "execution_count": null,
   "metadata": {
    "scrolled": false
   },
   "outputs": [],
   "source": [
    "try:\n",
    "    __file__\n",
    "except NameError:\n",
    "    main(9)"
   ]
  },
  {
   "cell_type": "code",
   "execution_count": null,
   "metadata": {},
   "outputs": [],
   "source": []
  }
 ],
 "metadata": {
  "kernelspec": {
   "display_name": "Python 3",
   "language": "python",
   "name": "python3"
  },
  "language_info": {
   "codemirror_mode": {
    "name": "ipython",
    "version": 3
   },
   "file_extension": ".py",
   "mimetype": "text/x-python",
   "name": "python",
   "nbconvert_exporter": "python",
   "pygments_lexer": "ipython3",
   "version": "3.7.3"
  },
  "toc": {
   "base_numbering": 1,
   "nav_menu": {},
   "number_sections": true,
   "sideBar": true,
   "skip_h1_title": false,
   "title_cell": "Table of Contents",
   "title_sidebar": "Contents",
   "toc_cell": false,
   "toc_position": {},
   "toc_section_display": true,
   "toc_window_display": false
  }
 },
 "nbformat": 4,
 "nbformat_minor": 2
}
