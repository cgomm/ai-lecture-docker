{
 "cells": [
  {
   "cell_type": "code",
   "execution_count": null,
   "metadata": {},
   "outputs": [],
   "source": [
    "from IPython.core.display import HTML\n",
    "with open('../style.css') as f:\n",
    "    css = f.read()\n",
    "HTML(css)"
   ]
  },
  {
   "cell_type": "markdown",
   "metadata": {},
   "source": [
    "# The Sliding Puzzle"
   ]
  },
  {
   "cell_type": "markdown",
   "metadata": {},
   "source": [
    "<img src=\"8-puzzle.png\">"
   ]
  },
  {
   "cell_type": "markdown",
   "metadata": {},
   "source": [
    "The picture above shows an instance of the $3 \\times 3$ \n",
    "<a href=\"https://en.wikipedia.org/wiki/Sliding_puzzle\">sliding puzzle</a>:\n",
    "There is a board of size $3 \\times 3$ with 8 tiles on it. These tiles are numbered with digits from the set $\\{1,\\cdots, 8\\}$.  As the the $3 \\times 3$ board has an area of $9$ but there are only $8$ tiles, there is an empty square on the board.  Tiles adjacent to the empty square can be moved into the square, thereby emptying the space that was previously occupied by theses tiles.  The goal of the $3 \\times 3$ puzzle is to transform the state shown on the left of the picture above into the state shown on the right.  We represent states as tuples of tuples.  For example, the state shown above on the left side is represented as the following tuple:\n",
    "```\n",
    "        ( (8, 0, 6),\n",
    "          (5, 4, 7),\n",
    "          (2, 3, 1)\n",
    "        )\n",
    "```\n",
    "If we represent states this way, given a state `s`, the expression `s[row][col]` returns the tile in the specified `row` and `col`.  \n",
    "\n",
    "In order to get an idea of the sliding puzzle, you can play it online at [https://www.helpfulgames.com/subjects/brain-training/sliding-puzzle.html](https://www.helpfulgames.com/subjects/brain-training/sliding-puzzle.html)."
   ]
  },
  {
   "cell_type": "markdown",
   "metadata": {},
   "source": [
    "The function call `find_tile(tile, State)` finds the coordinates of the given `tile` in `State`.  The `tile` is represented as a number from the set $\\{0,1,\\cdots,8\\}$, where $0$ represents the empty tile.  The parameter `State` is a tuple of tuples that specifies the positions of the tiles.  If `(row, col)` is the result returned by `find_tile`, then we have:\n",
    "```\n",
    "    State[row][col] == tile\n",
    "```"
   ]
  },
  {
   "cell_type": "code",
   "execution_count": null,
   "metadata": {},
   "outputs": [],
   "source": [
    "def find_tile(tile, State):\n",
    "    n = len(State)\n",
    "    for row in range(n):\n",
    "        for col in range(n):\n",
    "            if State[row][col] == tile:\n",
    "                return row, col"
   ]
  },
  {
   "cell_type": "markdown",
   "metadata": {},
   "source": [
    "Since *breadth first search* stores the set of states that have been visited, we have to represent states by immutable objects and hence we represent the states as *tuples of tuples*.  In order to be able to change these states, we have to transform these tuples of tuples into *lists of lists*.  \n",
    "The function `to_list` transforms a tuple of tuples into a list of lists."
   ]
  },
  {
   "cell_type": "code",
   "execution_count": null,
   "metadata": {},
   "outputs": [],
   "source": [
    "to_list = lambda State: [list(row) for row in State]"
   ]
  },
  {
   "cell_type": "markdown",
   "metadata": {},
   "source": [
    "The function `to_tuple` transforms a list of lists into a tuple of tuples."
   ]
  },
  {
   "cell_type": "code",
   "execution_count": null,
   "metadata": {},
   "outputs": [],
   "source": [
    "to_tuple = lambda State: tuple(tuple(row) for row in State)"
   ]
  },
  {
   "cell_type": "markdown",
   "metadata": {},
   "source": [
    "Given a `State` that satisfies \n",
    "```\n",
    "    State[row][col] == 0\n",
    "```\n",
    "and a direction `(dx, dy)` that is an element from the set \n",
    "$\\bigl\\{ (1, 0), (-1, 0), (0, 1), (0, -1) \\bigr\\}$,\n",
    "the function `move_dir` moves the empty tile in the direction `(dx, dy)`."
   ]
  },
  {
   "cell_type": "code",
   "execution_count": null,
   "metadata": {},
   "outputs": [],
   "source": [
    "def move_dir(State, row, col, dx, dy):\n",
    "    State = to_list(State)\n",
    "    State[row     ][col     ] = State[row + dx][col + dy]\n",
    "    State[row + dx][col + dy] = 0\n",
    "    return to_tuple(State)"
   ]
  },
  {
   "cell_type": "markdown",
   "metadata": {},
   "source": [
    "Given a `State` of the sliding puzzle, the function `next_states(State)` computes all those states that can be reached from `State` in one step."
   ]
  },
  {
   "cell_type": "code",
   "execution_count": null,
   "metadata": {},
   "outputs": [],
   "source": [
    "def next_states(State):\n",
    "    n          = len(State)\n",
    "    row, col   = find_tile(0, State)\n",
    "    New_States = set()\n",
    "    Directions = [ (1, 0), (-1, 0), (0, 1), (0, -1) ]\n",
    "    for dx, dy in Directions:\n",
    "        if row + dx in range(n) and col + dy in range(n):\n",
    "            New_States.add(move_dir(State, row, col, dx, dy))\n",
    "    return New_States"
   ]
  },
  {
   "cell_type": "markdown",
   "metadata": {},
   "source": [
    "Below, we have defined the start state, which is the state shown in the figure above on the left."
   ]
  },
  {
   "cell_type": "code",
   "execution_count": null,
   "metadata": {},
   "outputs": [],
   "source": [
    "start = ( (8, 0, 6),\n",
    "          (5, 4, 7),\n",
    "          (2, 3, 1)\n",
    "        )"
   ]
  },
  {
   "cell_type": "code",
   "execution_count": null,
   "metadata": {},
   "outputs": [],
   "source": [
    "next_states(start)"
   ]
  },
  {
   "cell_type": "code",
   "execution_count": null,
   "metadata": {},
   "outputs": [],
   "source": [
    "goal = ( (0, 1, 2), \n",
    "         (3, 4, 5), \n",
    "         (6, 7, 8)\n",
    "       )"
   ]
  },
  {
   "cell_type": "markdown",
   "metadata": {},
   "source": [
    "Below is an instance of the $4 \\times 4$ puzzle that can be solved in 36 steps."
   ]
  },
  {
   "cell_type": "code",
   "execution_count": null,
   "metadata": {},
   "outputs": [],
   "source": [
    "start2 = ( (  0,  1,  2,  3 ),\n",
    "           (  4,  5,  6,  8 ),\n",
    "           ( 14,  7, 11, 10 ),\n",
    "           (  9, 15, 12, 13 )\n",
    "         )\n",
    "goal2  = ( (  0,  1,  2,  3 ),\n",
    "           (  4,  5,  6,  7 ),\n",
    "           (  8,  9, 10, 11 ),\n",
    "           ( 12, 13, 14, 15 )\n",
    "         )"
   ]
  },
  {
   "cell_type": "markdown",
   "metadata": {},
   "source": [
    "For *informed search* we need to implement a \n",
    "*heuristic* that estimates to distance between two states.\n",
    "The function `manhattan` implemented below takes as argument two states of the sliding puzzle and computes the *Manhattan distance* between these states.\n",
    "Basically, the manhattan distance measure the number of moves that it would take to transform `stateA` into `stateB` if we were allowed to slide different tiles on top of each other."
   ]
  },
  {
   "cell_type": "code",
   "execution_count": null,
   "metadata": {},
   "outputs": [],
   "source": [
    "def manhattan(stateA, stateB):\n",
    "    n = len(stateA)\n",
    "    result = 0\n",
    "    for rowA in range(n):\n",
    "        for colA in range(n): \n",
    "            tile = stateA[rowA][colA]\n",
    "            if tile != 0:\n",
    "                rowB, colB = find_tile(tile, stateB)\n",
    "                result += abs(rowA - rowB) + abs(colA - colB)\n",
    "    return result"
   ]
  },
  {
   "cell_type": "code",
   "execution_count": null,
   "metadata": {},
   "outputs": [],
   "source": [
    "manhattan(start, goal)"
   ]
  },
  {
   "cell_type": "markdown",
   "metadata": {},
   "source": [
    "# Animation"
   ]
  },
  {
   "cell_type": "markdown",
   "metadata": {},
   "source": [
    "The package `ipycanvas`, which is imported below, can be installed using the following command:\n",
    "```\n",
    "    conda install -c conda-forge ipycanvas\n",
    "```\n",
    "This package is useful for drawings and animations.  Its documentation can be found at:\n",
    "  https://ipycanvas.readthedocs.io/en/latest/."
   ]
  },
  {
   "cell_type": "code",
   "execution_count": null,
   "metadata": {},
   "outputs": [],
   "source": [
    "import ipycanvas as cnv"
   ]
  },
  {
   "cell_type": "markdown",
   "metadata": {},
   "source": [
    "The module `time` is part of the standard library so it is preinstalled.  We have imported it because we need the function `time.sleep(secs)` to pause the animation for a specified time."
   ]
  },
  {
   "cell_type": "code",
   "execution_count": null,
   "metadata": {},
   "outputs": [],
   "source": [
    "import time"
   ]
  },
  {
   "cell_type": "markdown",
   "metadata": {},
   "source": [
    "The global variable `Colors` specifies the colors of the tiles."
   ]
  },
  {
   "cell_type": "code",
   "execution_count": null,
   "metadata": {},
   "outputs": [],
   "source": [
    "Colors = ['white', 'lightblue', 'pink', 'magenta', 'orange', 'red', 'yellow', 'lightgreen', 'gold',\n",
    "          'CornFlowerBlue', 'Coral', 'Cyan', 'orchid', 'DarkSalmon', 'DeepPink', 'green'\n",
    "         ] "
   ]
  },
  {
   "cell_type": "markdown",
   "metadata": {},
   "source": [
    "The global variable `size` specifies the size of one tile in pixels."
   ]
  },
  {
   "cell_type": "code",
   "execution_count": null,
   "metadata": {},
   "outputs": [],
   "source": [
    "size = 100"
   ]
  },
  {
   "cell_type": "markdown",
   "metadata": {},
   "source": [
    "The function `draw(State, canvas, dx, dy, tile, x)` draws a given `State` of the sliding puzzle, where `tile` has been moved by `offset` pixels into the direction `(dx, dy)`."
   ]
  },
  {
   "cell_type": "code",
   "execution_count": null,
   "metadata": {},
   "outputs": [],
   "source": [
    "def draw(State, canvas, dx, dy, tile, offset):\n",
    "    canvas.text_align    = 'center'\n",
    "    canvas.text_baseline = 'middle'\n",
    "    with cnv.hold_canvas(canvas):\n",
    "        canvas.clear()\n",
    "        n = len(State)\n",
    "        for row in range(n):\n",
    "            for col in range(n):\n",
    "                tile_to_draw = State[row][col]\n",
    "                color = Colors[tile_to_draw]\n",
    "                canvas.fill_style = color\n",
    "                if tile_to_draw not in (0, tile):\n",
    "                    x = col * size\n",
    "                    y = row * size\n",
    "                    canvas.fill_rect(x, y, size, size)\n",
    "                    canvas.line_width = 3.0\n",
    "                    x += size // 2\n",
    "                    y += size // 2\n",
    "                    canvas.stroke_text(str(tile_to_draw), x, y)\n",
    "                elif tile_to_draw == tile:\n",
    "                    x = col * size + offset * dx\n",
    "                    y = row * size + offset * dy\n",
    "                    canvas.fill_rect(x, y, size, size)\n",
    "                    canvas.line_width = 3.0\n",
    "                    x += size // 2\n",
    "                    y += size // 2\n",
    "                    if tile_to_draw != 0:\n",
    "                        canvas.stroke_text(str(tile_to_draw), x, y)"
   ]
  },
  {
   "cell_type": "code",
   "execution_count": null,
   "metadata": {},
   "outputs": [],
   "source": [
    "def create_canvas(n): \n",
    "    canvas = cnv.Canvas(size=(size * n, size * n))\n",
    "    canvas.font = '100px serif'\n",
    "    return canvas"
   ]
  },
  {
   "cell_type": "markdown",
   "metadata": {},
   "source": [
    "The global variable `delay` controls the speed of the animation."
   ]
  },
  {
   "cell_type": "code",
   "execution_count": null,
   "metadata": {},
   "outputs": [],
   "source": [
    "delay = 0.002"
   ]
  },
  {
   "cell_type": "markdown",
   "metadata": {},
   "source": [
    "The function call `tile_and_direction(state, next_state)` takes a state and the state that follows this state and returns a triple `(tile, dx, dy)` where `tile`is the tile that is moved to transform `state` into `next_state` and `(dx, dy)` is the direction in which this tile is moved."
   ]
  },
  {
   "cell_type": "code",
   "execution_count": null,
   "metadata": {},
   "outputs": [],
   "source": [
    "def tile_and_direction(state, next_state):\n",
    "    row0, col0 = find_tile(0, state)\n",
    "    row1, col1 = find_tile(0, next_state)\n",
    "    return state[row1][col1], col0-col1, row0-row1"
   ]
  },
  {
   "cell_type": "markdown",
   "metadata": {},
   "source": [
    "Given a list of states representing a solution to the sliding puzzle, the function call \n",
    "`animation(Solution)` animates the solution."
   ]
  },
  {
   "cell_type": "code",
   "execution_count": null,
   "metadata": {},
   "outputs": [],
   "source": [
    "def animation(Solution):\n",
    "    start = Solution[0]\n",
    "    n = len(start)\n",
    "    canvas = create_canvas(n)\n",
    "    draw(start, canvas, 0, 0, 0, 0)\n",
    "    m = len(Solution)\n",
    "    display(canvas)\n",
    "    for i in range(m-1):\n",
    "        state = Solution[i]\n",
    "        tile, dx, dy = tile_and_direction(state, Solution[i+1])\n",
    "        for offset in range(size+1):\n",
    "            draw(state, canvas, dx, dy, tile, offset)\n",
    "            time.sleep(delay)"
   ]
  },
  {
   "cell_type": "code",
   "execution_count": null,
   "metadata": {},
   "outputs": [],
   "source": []
  }
 ],
 "metadata": {
  "hide_input": false,
  "kernelspec": {
   "display_name": "Python 3",
   "language": "python",
   "name": "python3"
  },
  "language_info": {
   "codemirror_mode": {
    "name": "ipython",
    "version": 3
   },
   "file_extension": ".py",
   "mimetype": "text/x-python",
   "name": "python",
   "nbconvert_exporter": "python",
   "pygments_lexer": "ipython3",
   "version": "3.7.9"
  },
  "toc": {
   "base_numbering": 1,
   "nav_menu": {},
   "number_sections": true,
   "sideBar": false,
   "skip_h1_title": false,
   "title_cell": "Table of Contents",
   "title_sidebar": "Contents",
   "toc_cell": false,
   "toc_position": {
    "height": "calc(100% - 180px)",
    "left": "10px",
    "top": "150px",
    "width": "165px"
   },
   "toc_section_display": false,
   "toc_window_display": false
  },
  "varInspector": {
   "cols": {
    "lenName": 16,
    "lenType": 16,
    "lenVar": 40
   },
   "kernels_config": {
    "python": {
     "delete_cmd_postfix": "",
     "delete_cmd_prefix": "del ",
     "library": "var_list.py",
     "varRefreshCmd": "print(var_dic_list())"
    },
    "r": {
     "delete_cmd_postfix": ") ",
     "delete_cmd_prefix": "rm(",
     "library": "var_list.r",
     "varRefreshCmd": "cat(var_dic_list()) "
    }
   },
   "types_to_exclude": [
    "module",
    "function",
    "builtin_function_or_method",
    "instance",
    "_Feature"
   ],
   "window_display": false
  }
 },
 "nbformat": 4,
 "nbformat_minor": 2
}
