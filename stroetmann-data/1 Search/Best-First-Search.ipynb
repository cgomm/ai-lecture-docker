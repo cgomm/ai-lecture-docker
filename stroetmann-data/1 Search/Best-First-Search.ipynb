{
 "cells": [
  {
   "cell_type": "code",
   "execution_count": null,
   "metadata": {},
   "outputs": [],
   "source": [
    "from IPython.core.display import HTML\n",
    "with open('../style.css') as f:\n",
    "    css = f.read()\n",
    "HTML(css)"
   ]
  },
  {
   "cell_type": "markdown",
   "metadata": {},
   "source": [
    "# Best First Search"
   ]
  },
  {
   "cell_type": "markdown",
   "metadata": {},
   "source": [
    "The module <a href=\"https://docs.python.org/3.7/library/heapq.html\">heapq</a> provides \n",
    "<a href=\"https://en.wikipedia.org/wiki/Priority_queue\">priority queues</a> \n",
    "that are implemented as \n",
    "<a ref=\"https://en.wikipedia.org/wiki/Heap_(data_structure)\">heaps</a>.\n",
    "Technically, these heaps are just lists.  In order to use them as priority queues, the entries of these lists will be pairs of the form $(p, o)$, where $p$ is the priority of the object $o$.  Usually, the priorities are numbers \n",
    "and, contra-intuitively, high priorities correspond to <b>small</b> numbers, that is $(p_1, o_1)$ has a higher priority than $(p_2, o_2)$ iff $p_1 < p_2$.\n",
    "\n",
    "We need only two functions from the module `heapq`:\n",
    "- Given a heap $H$, the function $\\texttt{heapq.heappop}(H)$ removes the pair\n",
    "  from H that has the highest priority.  This pair is also returned.\n",
    "- Given a heap $H$, the function $\\texttt{heapq.heappush}\\bigl(H, (p, o)\\bigr)$ \n",
    "  pushes the pair $(p, o)$ onto the heap $H$.  This method does not return a \n",
    "  value.  Instead, the heap $H$ is changed in place."
   ]
  },
  {
   "cell_type": "code",
   "execution_count": null,
   "metadata": {},
   "outputs": [],
   "source": [
    "import heapq"
   ]
  },
  {
   "cell_type": "markdown",
   "metadata": {},
   "source": [
    "The function `search` takes three arguments to solve a *search problem*:\n",
    "- `start` is the start state of the search problem,\n",
    "- `goal`is the goal state, and\n",
    "- `next_states` is a function with signature $\\texttt{next_states}:Q \\rightarrow 2^Q$, where $Q$ is the set of states.\n",
    "  For every state $s \\in Q$, $\\texttt{next_states}(s)$ is the set of states that can be reached from $s$ in one step.\n",
    "- `heuristic` is a function that takes two states as arguments.  It returns an estimate of the \n",
    "  length of the shortest path between these states.\n",
    "If successful, `search` returns a path from `start` to `goal` that is a solution of the search problem\n",
    "$$ \\langle Q, \\texttt{next_states}, \\texttt{start}, \\texttt{goal} \\rangle. $$\n",
    "\n",
    "The variable `PrioQueue` that is used in the implementation contains pairs of the form\n",
    "$$ \\bigl(\\texttt{heuristic}(\\texttt{state}, \\texttt{goal}), \\texttt{Path}\\bigr), $$\n",
    "where `Path` is a path from `start` to `state` and $\\texttt{heuristic}(\\texttt{state}, \\texttt{goal})$\n",
    "is an estimate of the distance from `state` to `goal`.  The idea is to always extend the most promising `Path`, i.e. to extend the `Path`, whose last state is closest to `goal`."
   ]
  },
  {
   "cell_type": "code",
   "execution_count": null,
   "metadata": {},
   "outputs": [],
   "source": [
    "def search(start, goal, next_states, heuristic):\n",
    "    PrioQueue = [ (heuristic(start, goal), [start]) ]\n",
    "    while len(PrioQueue) > 0:\n",
    "        _, Path = heapq.heappop(PrioQueue)\n",
    "        state   = Path[-1]\n",
    "        if state == goal:\n",
    "            return Path\n",
    "        for ns in next_states(state):\n",
    "            if ns not in Path:\n",
    "                d = heuristic(ns, goal)\n",
    "                heapq.heappush(PrioQueue, (d, Path + [ns]))"
   ]
  },
  {
   "cell_type": "code",
   "execution_count": null,
   "metadata": {},
   "outputs": [],
   "source": [
    "%run Sliding-Puzzle.ipynb"
   ]
  },
  {
   "cell_type": "code",
   "execution_count": null,
   "metadata": {},
   "outputs": [],
   "source": [
    "import resource"
   ]
  },
  {
   "cell_type": "code",
   "execution_count": null,
   "metadata": {},
   "outputs": [],
   "source": [
    "%%time\n",
    "memory_before = resource.getrusage(resource.RUSAGE_SELF).ru_maxrss\n",
    "Path          = search(start, goal, next_states, manhattan)\n",
    "memory_after  = resource.getrusage(resource.RUSAGE_SELF).ru_maxrss\n",
    "print(f'Total memory used: {round((memory_after - memory_before) / 2**10)} Kilobytes.')\n",
    "print(len(Path)-1)"
   ]
  },
  {
   "cell_type": "code",
   "execution_count": null,
   "metadata": {},
   "outputs": [],
   "source": [
    "animation(Path)"
   ]
  },
  {
   "cell_type": "code",
   "execution_count": null,
   "metadata": {},
   "outputs": [],
   "source": [
    "%%time\n",
    "memory_before = resource.getrusage(resource.RUSAGE_SELF).ru_maxrss\n",
    "Path          = search(start2, goal2, next_states, manhattan)\n",
    "memory_after  = resource.getrusage(resource.RUSAGE_SELF).ru_maxrss\n",
    "print(f'Total memory used: {round((memory_after - memory_before) / 2**20)} megabytes.')\n",
    "print(len(Path)-1)"
   ]
  },
  {
   "cell_type": "code",
   "execution_count": null,
   "metadata": {},
   "outputs": [],
   "source": [
    "animation(Path)"
   ]
  },
  {
   "cell_type": "code",
   "execution_count": null,
   "metadata": {},
   "outputs": [],
   "source": []
  }
 ],
 "metadata": {
  "kernelspec": {
   "display_name": "Python 3",
   "language": "python",
   "name": "python3"
  },
  "language_info": {
   "codemirror_mode": {
    "name": "ipython",
    "version": 3
   },
   "file_extension": ".py",
   "mimetype": "text/x-python",
   "name": "python",
   "nbconvert_exporter": "python",
   "pygments_lexer": "ipython3",
   "version": "3.7.9"
  },
  "toc": {
   "base_numbering": 1,
   "nav_menu": {},
   "number_sections": true,
   "sideBar": true,
   "skip_h1_title": false,
   "title_cell": "Table of Contents",
   "title_sidebar": "Contents",
   "toc_cell": false,
   "toc_position": {},
   "toc_section_display": true,
   "toc_window_display": false
  },
  "varInspector": {
   "cols": {
    "lenName": 16,
    "lenType": 16,
    "lenVar": 40
   },
   "kernels_config": {
    "python": {
     "delete_cmd_postfix": "",
     "delete_cmd_prefix": "del ",
     "library": "var_list.py",
     "varRefreshCmd": "print(var_dic_list())"
    },
    "r": {
     "delete_cmd_postfix": ") ",
     "delete_cmd_prefix": "rm(",
     "library": "var_list.r",
     "varRefreshCmd": "cat(var_dic_list()) "
    }
   },
   "types_to_exclude": [
    "module",
    "function",
    "builtin_function_or_method",
    "instance",
    "_Feature"
   ],
   "window_display": false
  }
 },
 "nbformat": 4,
 "nbformat_minor": 2
}
