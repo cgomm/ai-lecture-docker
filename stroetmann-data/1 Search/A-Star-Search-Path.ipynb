{
 "cells": [
  {
   "cell_type": "code",
   "execution_count": null,
   "metadata": {},
   "outputs": [],
   "source": [
    "from IPython.core.display import HTML\n",
    "with open('../style.css') as f:\n",
    "    css = f.read()\n",
    "HTML(css)"
   ]
  },
  {
   "cell_type": "markdown",
   "metadata": {},
   "source": [
    "# A$^*$ Search"
   ]
  },
  {
   "cell_type": "markdown",
   "metadata": {},
   "source": [
    "The module `Set` implements <em style=\"color:blue;\">sets</em> as \n",
    "<a href=\"https://en.wikipedia.org/wiki/AVL_tree\">AVL trees</a>.\n",
    "The API provided by `Set` offers the following functions and methods:\n",
    "- `Set()` creates an empty set.\n",
    "- `S.isEmpty()` checks whether the set `S`is empty.\n",
    "- `S.member(x)` checks whether `x` is an element of the set `S`.\n",
    "- `S.insert(x)` inserts `x` into the set `S`.\n",
    "  This does not return a new set but rather modifies the set `S`.\n",
    "- `S.delete(x)` deletes `x` from the set `S`.\n",
    "  This does not return a new set but rather modifies the set `S`.\n",
    "- `S.pop()` returns the smallest element of the set `S`.\n",
    "  Furthermore, this element is removed from `S`.\n",
    "\n",
    "Since sets are implemented as ordered binary trees, the elements of a set need to be comparable, i.e. if `x` and `y` are inserted into a set, then the expression `x < y` must return a Boolean value and `<` has to define a linear order.  Therefore, sets must not be <em style=\"color:blue;\">inhomogeneous</em>, i.e. the sets must not contain elements of different types.\n",
    "\n",
    "In this notebook, the module `Set` is used to implement a priority queue that supports the <em style=\"color:blue;\">removal</em> of elements."
   ]
  },
  {
   "cell_type": "code",
   "execution_count": null,
   "metadata": {},
   "outputs": [],
   "source": [
    "import sys\n",
    "sys.path.append('..')\n",
    "import Set"
   ]
  },
  {
   "cell_type": "markdown",
   "metadata": {},
   "source": [
    "The function `search` takes three arguments to solve a *search problem*:\n",
    "- `start` is the start state of the search problem,\n",
    "- `goal`is the goal state, and\n",
    "- `next_states` is a function with signature $\\texttt{next_states}:Q \\rightarrow 2^Q$, where $Q$ is the set of states.\n",
    "  For every state $s \\in Q$, $\\texttt{next_states}(s)$ is the set of states that can be reached from $s$ in one step.\n",
    "- `heuristic` is a function that takes two states as arguments.  It returns an estimate of the \n",
    "  length of the shortest path between these states.\n",
    "  \n",
    "If successful, `search` returns a path from `start` to `goal` that is a solution of the search problem\n",
    "$$ \\langle Q, \\texttt{next_states}, \\texttt{start}, \\texttt{goal} \\rangle. $$\n",
    "For A$^*$ search to find <em style=\"color:blue\">optimal</em> paths it is required that `heuristic`is <em style=\"color:blue\">consistent</em>, which requires the following properties:\n",
    "1. $\\texttt{heuristic}(\\texttt{goal}) = 0$.\n",
    "2. If $s_2 \\in \\texttt{next_states}(s_1)$, then we must have $\\texttt{heuristic}(s_1) \\leq 1 + \\texttt{heuristic}(s_2)$.\n",
    "\n",
    "The function `search` implements A$^*$ search.  It maintains the following variables:\n",
    "- `PathDict` is a dictionary.  For every state `s` such that `PathDict[s]` is defined, `PathDict[s]` is a path from `source` to `s`.\n",
    "- `Distance` is a dictionary. For every state `s` such that `Distance[s]` is defined, `Distance[s]` is the length of the path `PathDict[s]`.  Furthermore, it can be shown that this path is the shortest path connecting `source` with `s`.  If `Distance[s]` is defined, then we say that `s` has been <em style=\"color:blue\">visited</em>.\n",
    "- `Estimate` is a dictionary.  For every state `s` such that `Estimate[s]` is defined, `Estimate[s]` is the expected length of a path from `start` to `goal`that leads via `s`.\n",
    "- `Frontier` is an ordered set of pairs of the form $(d, s)$ where $s$ is a state and $d = \\texttt{Estimate}[s]$.  This set is used as a priority queue.\n",
    "- `Explored` is the set of all states that have been  <em style=\"color:blue\">explored</em>.  A state $s$ is explored if all of its neighbours have been visited.\n",
    "\n",
    "  The variable `Explored` is only used to ease the proof of the *optimality* of A$^*$ search.  If this variable is deleted, the algorithm is not affected."
   ]
  },
  {
   "cell_type": "code",
   "execution_count": null,
   "metadata": {},
   "outputs": [],
   "source": [
    "def search(start, goal, next_states, heuristic):\n",
    "    PathDict = { start: [start] }\n",
    "    Distance = { start: 0 }           \n",
    "    estGoal  = heuristic(start, goal)\n",
    "    Estimate = { start: estGoal }\n",
    "    Frontier = Set.Set()\n",
    "    Frontier.insert( (estGoal, start) )\n",
    "    Explored = set()\n",
    "    while not Frontier.isEmpty():\n",
    "        _, state = Frontier.pop()\n",
    "        if state == goal:\n",
    "            return PathDict[state]\n",
    "        stateDist = Distance[state]\n",
    "        for ns in next_states(state):\n",
    "            oldEstimate = Estimate.get(ns, None)\n",
    "            newEstimate = stateDist + 1 + heuristic(ns, goal)\n",
    "            if oldEstimate == None or newEstimate < oldEstimate:\n",
    "                Distance[ns] = stateDist + 1\n",
    "                Estimate[ns] = newEstimate\n",
    "                PathDict[ns] = PathDict[state] + [ns]\n",
    "                Frontier.insert( (newEstimate, ns) )\n",
    "                if oldEstimate != None:\n",
    "                    Frontier.delete( (oldEstimate, ns) )\n",
    "        Explored.add(state)"
   ]
  },
  {
   "cell_type": "code",
   "execution_count": null,
   "metadata": {},
   "outputs": [],
   "source": [
    "%run Sliding-Puzzle.ipynb"
   ]
  },
  {
   "cell_type": "code",
   "execution_count": null,
   "metadata": {},
   "outputs": [],
   "source": [
    "import resource"
   ]
  },
  {
   "cell_type": "code",
   "execution_count": null,
   "metadata": {},
   "outputs": [],
   "source": [
    "%%time\n",
    "memory_before = resource.getrusage(resource.RUSAGE_SELF).ru_maxrss\n",
    "Path          = search(start, goal, next_states, manhattan)\n",
    "memory_after  = resource.getrusage(resource.RUSAGE_SELF).ru_maxrss\n",
    "print(f'Total memory used: {round((memory_after - memory_before) / 2**20)} megabytes.')\n",
    "print(len(Path)-1)"
   ]
  },
  {
   "cell_type": "code",
   "execution_count": null,
   "metadata": {},
   "outputs": [],
   "source": [
    "animation(Path)"
   ]
  },
  {
   "cell_type": "code",
   "execution_count": null,
   "metadata": {},
   "outputs": [],
   "source": []
  }
 ],
 "metadata": {
  "kernelspec": {
   "display_name": "Python 3",
   "language": "python",
   "name": "python3"
  },
  "language_info": {
   "codemirror_mode": {
    "name": "ipython",
    "version": 3
   },
   "file_extension": ".py",
   "mimetype": "text/x-python",
   "name": "python",
   "nbconvert_exporter": "python",
   "pygments_lexer": "ipython3",
   "version": "3.7.9"
  },
  "toc": {
   "base_numbering": 1,
   "nav_menu": {},
   "number_sections": true,
   "sideBar": true,
   "skip_h1_title": false,
   "title_cell": "Table of Contents",
   "title_sidebar": "Contents",
   "toc_cell": false,
   "toc_position": {},
   "toc_section_display": true,
   "toc_window_display": false
  },
  "varInspector": {
   "cols": {
    "lenName": 16,
    "lenType": 16,
    "lenVar": 40
   },
   "kernels_config": {
    "python": {
     "delete_cmd_postfix": "",
     "delete_cmd_prefix": "del ",
     "library": "var_list.py",
     "varRefreshCmd": "print(var_dic_list())"
    },
    "r": {
     "delete_cmd_postfix": ") ",
     "delete_cmd_prefix": "rm(",
     "library": "var_list.r",
     "varRefreshCmd": "cat(var_dic_list()) "
    }
   },
   "types_to_exclude": [
    "module",
    "function",
    "builtin_function_or_method",
    "instance",
    "_Feature"
   ],
   "window_display": false
  }
 },
 "nbformat": 4,
 "nbformat_minor": 2
}
