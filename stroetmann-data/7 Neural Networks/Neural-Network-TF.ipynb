{
 "cells": [
  {
   "cell_type": "code",
   "execution_count": 1,
   "metadata": {},
   "outputs": [
    {
     "data": {
      "text/html": [
       "<style>.container { width:100% }\n",
       "</style>\n"
      ],
      "text/plain": [
       "<IPython.core.display.HTML object>"
      ]
     },
     "metadata": {},
     "output_type": "display_data"
    }
   ],
   "source": [
    "%%HTML\n",
    "<style>.container { width:100% }\n",
    "</style>"
   ]
  },
  {
   "cell_type": "markdown",
   "metadata": {},
   "source": [
    "# Neural Network Using TensorFlow"
   ]
  },
  {
   "cell_type": "code",
   "execution_count": 2,
   "metadata": {},
   "outputs": [],
   "source": [
    "import gzip\n",
    "import pickle\n",
    "import random\n",
    "import numpy             as np\n",
    "import matplotlib.pyplot as plt\n",
    "import tensorflow        as tf"
   ]
  },
  {
   "cell_type": "markdown",
   "metadata": {},
   "source": [
    "The following magic command is necessary to prevent the Python kernel to die because of linkage problems."
   ]
  },
  {
   "cell_type": "code",
   "execution_count": 3,
   "metadata": {},
   "outputs": [
    {
     "name": "stdout",
     "output_type": "stream",
     "text": [
      "env: KMP_DUPLICATE_LIB_OK=TRUE\n"
     ]
    }
   ],
   "source": [
    "%env KMP_DUPLICATE_LIB_OK=TRUE"
   ]
  },
  {
   "cell_type": "markdown",
   "metadata": {},
   "source": [
    "The function $\\texttt{vectorized_result}(d)$ converts the digit $d \\in \\{0,\\cdots,9\\}$ and returns a NumPy vector $\\mathbf{x}$ of shape $(10, 1)$ such that\n",
    "$$\n",
    "\\mathbf{x}[i] = \n",
    "\\left\\{\n",
    "  \\begin{array}{ll}\n",
    "     1 & \\mbox{if $i = j$;} \\\\\n",
    "     0 & \\mbox{otherwise.}\n",
    "  \\end{array}  \n",
    "\\right.\n",
    "$$\n",
    "This function is used to convert a digit $d$ into the expected output of a neural network that has an output unit for every digit."
   ]
  },
  {
   "cell_type": "code",
   "execution_count": 4,
   "metadata": {},
   "outputs": [],
   "source": [
    "def vectorized_result(d):\n",
    "    e    = np.zeros((10, ), dtype=np.float32)\n",
    "    e[d] = 1.0\n",
    "    return e"
   ]
  },
  {
   "cell_type": "markdown",
   "metadata": {},
   "source": [
    "The data that we are using is stored as a <a href=\"https://docs.python.org/3/library/gzip.html\">gzipped</a>, \n",
    "<a href=\"https://docs.python.org/3/library/pickle.html\">pickled</a> file.  "
   ]
  },
  {
   "cell_type": "markdown",
   "metadata": {},
   "source": [
    "The function $\\texttt{load_data}()$ returns a pair of the form\n",
    "$$ (\\texttt{training_data}, \\texttt{test_data}) $$\n",
    "where \n",
    "- $\\texttt{training_data}$ is a list containing $50,000$ pairs $(\\textbf{x}, \\textbf{y})$ s.t. $\\textbf{x}$ is a \n",
    "  784-dimensional `numpy.ndarray` containing the input image and $\\textbf{y}$ is a 10-dimensional `numpy.ndarray`   \n",
    "  corresponding to the correct digit for x.\n",
    "- $\\texttt{test_data}$ is a list containing $10,000$ pairs $(\\textbf{x}, \\textbf{y})$.  In each case, \n",
    "  $\\textbf{x}$ is a 784-dimensional `numpy.ndarry` containing the input image\n",
    "  and $\\textbf{y}$ is a 10-dimensional `numpy.ndarray` corresponding to the correct digit for $\\textbf{x}$.\n",
    "  \n",
    "We do not use the validation data that are provided in the file `mnist.pkl.gz`."
   ]
  },
  {
   "cell_type": "code",
   "execution_count": 5,
   "metadata": {},
   "outputs": [],
   "source": [
    "def load_data():\n",
    "    with gzip.open('mnist.pkl.gz', 'rb') as f:\n",
    "        train, validate, test = pickle.load(f, encoding=\"latin1\")\n",
    "    X_train = np.array([np.reshape(x, (784, )) for x in train[0]])\n",
    "    X_test  = np.array([np.reshape(x, (784, )) for x in test [0]])\n",
    "    Y_train = np.array([vectorized_result(y) for y in train[1]])\n",
    "    Y_test  = np.array([vectorized_result(y) for y in test [1]])\n",
    "    return X_train.T, X_test.T, Y_train.T, Y_test.T"
   ]
  },
  {
   "cell_type": "code",
   "execution_count": 6,
   "metadata": {},
   "outputs": [
    {
     "data": {
      "text/plain": [
       "((784, 50000), (784, 10000), (10, 50000), (10, 10000))"
      ]
     },
     "execution_count": 6,
     "metadata": {},
     "output_type": "execute_result"
    }
   ],
   "source": [
    "X_train, X_test, Y_train, Y_test = load_data()\n",
    "X_train.shape, X_test.shape, Y_train.shape, Y_test.shape"
   ]
  },
  {
   "cell_type": "markdown",
   "metadata": {},
   "source": [
    "The function $\\texttt{show_digit}(\\texttt{row}, \\texttt{columns}, \\texttt{offset})$ \n",
    "shows $\\texttt{row} \\cdot \\texttt{columns}$ images of the training data.  The first image shown is the image at index $\\texttt{offset}$."
   ]
  },
  {
   "cell_type": "code",
   "execution_count": 7,
   "metadata": {},
   "outputs": [],
   "source": [
    "def show_digits(rows, columns, offset=0):\n",
    "    f, axarr = plt.subplots(rows, columns)\n",
    "    for r in range(rows):\n",
    "        for c in range(columns):\n",
    "            i     = r * columns + c + offset\n",
    "            image = 1 - X_train[:,i]\n",
    "            image = np.reshape(image, (28, 28))\n",
    "            axarr[r, c].imshow(image, cmap=\"gray\")\n",
    "            axarr[r, c].axis('off')\n",
    "    plt.savefig(\"digits.pdf\")    \n",
    "    plt.show()"
   ]
  },
  {
   "cell_type": "code",
   "execution_count": 8,
   "metadata": {},
   "outputs": [
    {
     "data": {
      "image/png": "[encoded data removed]",
      "text/plain": [
       "<Figure size 432x288 with 18 Axes>"
      ]
     },
     "metadata": {
      "needs_background": "light"
     },
     "output_type": "display_data"
    }
   ],
   "source": [
    "show_digits(3, 6)"
   ]
  },
  {
   "cell_type": "markdown",
   "metadata": {},
   "source": [
    "We create placeholders to use for the data.  Below, `None` stands for the yet unknown number of training examples."
   ]
  },
  {
   "cell_type": "code",
   "execution_count": 9,
   "metadata": {},
   "outputs": [],
   "source": [
    "X = tf.placeholder(tf.float32, [784, None]) # mnist data images of shape (28*28=784, ?)\n",
    "Y = tf.placeholder(tf.float32, [ 10, None]) # 0-9 digits recognition => 10 classes"
   ]
  },
  {
   "cell_type": "markdown",
   "metadata": {},
   "source": [
    "Our goal is to find the <em style=\"color:blue;\">weight matrices</em> and <em style=\"color:blue;\">biases</em> for a neural net that is \n",
    "able to recognize the digits shown in these images.  We initialize these weight matrices randomly. The function $\\texttt{rndMatrix}(\\texttt{rows}, \\texttt{cols})$ returns a matrix of shape $(\\texttt{rows}, \\texttt{cols})$ that is filled with random numbers that have a Gaussian distribution with mean $0$ and variance $\\displaystyle\\frac{1}{\\texttt{rows}}$."
   ]
  },
  {
   "cell_type": "code",
   "execution_count": 10,
   "metadata": {},
   "outputs": [],
   "source": [
    "def rndMatrix(rows, cols):\n",
    "    return tf.truncated_normal((rows, cols), 0.0, 1 / np.sqrt(cols))"
   ]
  },
  {
   "cell_type": "markdown",
   "metadata": {},
   "source": [
    "Specify the <em style=\"color:blue;\">topology</em> of the neural network."
   ]
  },
  {
   "cell_type": "code",
   "execution_count": 11,
   "metadata": {},
   "outputs": [],
   "source": [
    "inputSize  = 28 * 28\n",
    "hiddenSize = 60\n",
    "outputSize = 10"
   ]
  },
  {
   "cell_type": "code",
   "execution_count": 12,
   "metadata": {},
   "outputs": [],
   "source": [
    "biasesH  = tf.Variable(tf.zeros((hiddenSize, 1)        )) # biases hidden layer  \n",
    "biasesO  = tf.Variable(tf.zeros((outputSize, 1)        )) # biases output layer \n",
    "weightsH = tf.Variable(rndMatrix(hiddenSize, inputSize )) # weights hidden layer\n",
    "weightsO = tf.Variable(rndMatrix(outputSize, hiddenSize)) # weights output layer"
   ]
  },
  {
   "cell_type": "code",
   "execution_count": 13,
   "metadata": {},
   "outputs": [],
   "source": [
    "AH     = tf.sigmoid(weightsH @  X + biasesH) # activation hidden layer\n",
    "Y_pred = tf.sigmoid(weightsO @ AH + biasesO) # activation output layer"
   ]
  },
  {
   "cell_type": "markdown",
   "metadata": {},
   "source": [
    "We use the mean squared error as our loss function."
   ]
  },
  {
   "cell_type": "code",
   "execution_count": 14,
   "metadata": {},
   "outputs": [
    {
     "name": "stderr",
     "output_type": "stream",
     "text": [
      "WARNING: Logging before flag parsing goes to stderr.\n",
      "W0325 13:48:35.056923 4573257152 deprecation.py:323] From /Users/karlstroetmann/anaconda3/envs/ds/lib/python3.7/site-packages/tensorflow/python/ops/losses/losses_impl.py:121: add_dispatch_support.<locals>.wrapper (from tensorflow.python.ops.array_ops) is deprecated and will be removed in a future version.\n",
      "Instructions for updating:\n",
      "Use tf.where in 2.0, which has the same broadcast rule as np.where\n"
     ]
    }
   ],
   "source": [
    "cost = tf.losses.mean_squared_error(Y, Y_pred)"
   ]
  },
  {
   "cell_type": "markdown",
   "metadata": {},
   "source": [
    "Set some variables and hyperparameters."
   ]
  },
  {
   "cell_type": "code",
   "execution_count": 15,
   "metadata": {},
   "outputs": [],
   "source": [
    "α         =  15\n",
    "epochs    =  60\n",
    "mbs       = 100             # mini batch size\n",
    "n_test    = X_test.shape[1]\n",
    "n         = X_train.shape[1]\n",
    "n_batches = int(n / mbs)"
   ]
  },
  {
   "cell_type": "markdown",
   "metadata": {},
   "source": [
    "We use <em style=\"color:blue;\">gradient descent</em> to minimize this cost function."
   ]
  },
  {
   "cell_type": "code",
   "execution_count": 16,
   "metadata": {},
   "outputs": [],
   "source": [
    "optimizer = tf.train.GradientDescentOptimizer(α).minimize(cost)"
   ]
  },
  {
   "cell_type": "markdown",
   "metadata": {},
   "source": [
    "The function $\\texttt{next_batch}(s)$ returns the next batch of the given size.  It returns a pair of the form $(X, Y)$ where $X$ is a matrix of shape\n",
    "$(784, s)$ and $Y$ is a matrix of shape $(10, s)$."
   ]
  },
  {
   "cell_type": "code",
   "execution_count": 17,
   "metadata": {},
   "outputs": [],
   "source": [
    "def next_batch(size):\n",
    "    global count\n",
    "    X_batch  = X_train[:, count:count+size]\n",
    "    Y_batch  = Y_train[:, count:count+size]\n",
    "    count   += size\n",
    "    return X_batch, Y_batch"
   ]
  },
  {
   "cell_type": "code",
   "execution_count": 18,
   "metadata": {},
   "outputs": [
    {
     "name": "stdout",
     "output_type": "stream",
     "text": [
      "Epoch:  0, accuracy: 0.9135, cost 0.03208\n",
      "Epoch:  1, accuracy: 0.9280, cost 0.01460\n",
      "Epoch:  2, accuracy: 0.9373, cost 0.01205\n",
      "Epoch:  3, accuracy: 0.9427, cost 0.01055\n",
      "Epoch:  4, accuracy: 0.9457, cost 0.00951\n",
      "Epoch:  5, accuracy: 0.9491, cost 0.00874\n",
      "Epoch:  6, accuracy: 0.9519, cost 0.00811\n",
      "Epoch:  7, accuracy: 0.9543, cost 0.00759\n",
      "Epoch:  8, accuracy: 0.9558, cost 0.00713\n",
      "Epoch:  9, accuracy: 0.9575, cost 0.00673\n",
      "Epoch: 10, accuracy: 0.9591, cost 0.00638\n",
      "Epoch: 11, accuracy: 0.9605, cost 0.00607\n",
      "Epoch: 12, accuracy: 0.9616, cost 0.00580\n",
      "Epoch: 13, accuracy: 0.9623, cost 0.00555\n",
      "Epoch: 14, accuracy: 0.9632, cost 0.00533\n",
      "Epoch: 15, accuracy: 0.9637, cost 0.00512\n",
      "Epoch: 16, accuracy: 0.9641, cost 0.00494\n",
      "Epoch: 17, accuracy: 0.9653, cost 0.00477\n",
      "Epoch: 18, accuracy: 0.9660, cost 0.00461\n",
      "Epoch: 19, accuracy: 0.9662, cost 0.00447\n",
      "Epoch: 20, accuracy: 0.9669, cost 0.00433\n",
      "Epoch: 21, accuracy: 0.9670, cost 0.00420\n",
      "Epoch: 22, accuracy: 0.9673, cost 0.00408\n",
      "Epoch: 23, accuracy: 0.9675, cost 0.00397\n",
      "Epoch: 24, accuracy: 0.9680, cost 0.00386\n",
      "Epoch: 25, accuracy: 0.9680, cost 0.00376\n",
      "Epoch: 26, accuracy: 0.9683, cost 0.00367\n",
      "Epoch: 27, accuracy: 0.9689, cost 0.00358\n",
      "Epoch: 28, accuracy: 0.9689, cost 0.00349\n",
      "Epoch: 29, accuracy: 0.9688, cost 0.00341\n",
      "Epoch: 30, accuracy: 0.9693, cost 0.00333\n",
      "Epoch: 31, accuracy: 0.9694, cost 0.00325\n",
      "Epoch: 32, accuracy: 0.9695, cost 0.00318\n",
      "Epoch: 33, accuracy: 0.9698, cost 0.00311\n",
      "Epoch: 34, accuracy: 0.9700, cost 0.00304\n",
      "Epoch: 35, accuracy: 0.9699, cost 0.00298\n",
      "Epoch: 36, accuracy: 0.9699, cost 0.00292\n",
      "Epoch: 37, accuracy: 0.9699, cost 0.00286\n",
      "Epoch: 38, accuracy: 0.9699, cost 0.00280\n",
      "Epoch: 39, accuracy: 0.9698, cost 0.00274\n",
      "Epoch: 40, accuracy: 0.9697, cost 0.00269\n",
      "Epoch: 41, accuracy: 0.9698, cost 0.00264\n",
      "Epoch: 42, accuracy: 0.9696, cost 0.00259\n",
      "Epoch: 43, accuracy: 0.9695, cost 0.00254\n",
      "Epoch: 44, accuracy: 0.9697, cost 0.00249\n",
      "Epoch: 45, accuracy: 0.9698, cost 0.00245\n",
      "Epoch: 46, accuracy: 0.9698, cost 0.00241\n",
      "Epoch: 47, accuracy: 0.9700, cost 0.00236\n",
      "Epoch: 48, accuracy: 0.9704, cost 0.00232\n",
      "Epoch: 49, accuracy: 0.9702, cost 0.00228\n",
      "Epoch: 50, accuracy: 0.9701, cost 0.00225\n",
      "Epoch: 51, accuracy: 0.9703, cost 0.00221\n",
      "Epoch: 52, accuracy: 0.9702, cost 0.00217\n",
      "Epoch: 53, accuracy: 0.9705, cost 0.00214\n",
      "Epoch: 54, accuracy: 0.9705, cost 0.00211\n",
      "Epoch: 55, accuracy: 0.9708, cost 0.00207\n",
      "Epoch: 56, accuracy: 0.9707, cost 0.00204\n",
      "Epoch: 57, accuracy: 0.9708, cost 0.00201\n",
      "Epoch: 58, accuracy: 0.9709, cost 0.00198\n",
      "Epoch: 59, accuracy: 0.9708, cost 0.00195\n",
      "Optimization Finished!\n",
      "CPU times: user 1min 17s, sys: 3.79 s, total: 1min 21s\n",
      "Wall time: 47.2 s\n"
     ]
    }
   ],
   "source": [
    "%%time\n",
    "tf.set_random_seed(42)\n",
    "init = tf.global_variables_initializer()\n",
    "with tf.Session() as tfs:\n",
    "    tfs.run(init)\n",
    "    for j in range(epochs):\n",
    "        count    = 0\n",
    "        avg_cost = 0.0\n",
    "        for i in range(n_batches):\n",
    "            X_batch, Y_batch = next_batch(mbs)\n",
    "            _, c = tfs.run([optimizer, cost], {X: X_batch, Y: Y_batch})\n",
    "            avg_cost += c / n_batches\n",
    "        correct = tfs.run(tf.equal(tf.argmax(Y_pred, 0), tf.argmax(Y, 0)), {X: X_test, Y: Y_test})\n",
    "        print('Epoch: %2d, accuracy: %.4f, cost %.5f' % (j, np.sum(correct) / len(correct), avg_cost))\n",
    "    print(\"Optimization Finished!\")"
   ]
  },
  {
   "cell_type": "code",
   "execution_count": null,
   "metadata": {},
   "outputs": [],
   "source": []
  }
 ],
 "metadata": {
  "kernelspec": {
   "display_name": "Python 3",
   "language": "python",
   "name": "python3"
  },
  "language_info": {
   "codemirror_mode": {
    "name": "ipython",
    "version": 3
   },
   "file_extension": ".py",
   "mimetype": "text/x-python",
   "name": "python",
   "nbconvert_exporter": "python",
   "pygments_lexer": "ipython3",
   "version": "3.7.3"
  }
 },
 "nbformat": 4,
 "nbformat_minor": 2
}
