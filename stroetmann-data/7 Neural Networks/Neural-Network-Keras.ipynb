{
 "cells": [
  {
   "cell_type": "code",
   "execution_count": 1,
   "metadata": {},
   "outputs": [
    {
     "data": {
      "text/html": [
       "<style>\n",
       ".container { width:100% }\n",
       "</style>\n"
      ],
      "text/plain": [
       "<IPython.core.display.HTML object>"
      ]
     },
     "metadata": {},
     "output_type": "display_data"
    }
   ],
   "source": [
    "%%HTML\n",
    "<style>\n",
    ".container { width:100% }\n",
    "</style>"
   ]
  },
  {
   "cell_type": "markdown",
   "metadata": {
    "colab_type": "text",
    "id": "O6bAYTDQvA9E"
   },
   "source": [
    "# Building a Neural Network with Keras"
   ]
  },
  {
   "cell_type": "code",
   "execution_count": 2,
   "metadata": {
    "colab": {
     "base_uri": "https://localhost:8080/",
     "height": 68
    },
    "colab_type": "code",
    "id": "Ofc-wXYMESXW",
    "outputId": "5cbd5e88-7833-44b7-ef23-249306c3eb15"
   },
   "outputs": [
    {
     "name": "stderr",
     "output_type": "stream",
     "text": [
      "Using TensorFlow backend.\n"
     ]
    }
   ],
   "source": [
    "import gzip\n",
    "import pickle\n",
    "import random\n",
    "import numpy  as np\n",
    "import keras\n",
    "\n",
    "from keras.layers import Dense"
   ]
  },
  {
   "cell_type": "markdown",
   "metadata": {},
   "source": [
    "The following magic command is necessary to prevent the Python kernel to die because of linkage problems."
   ]
  },
  {
   "cell_type": "code",
   "execution_count": 3,
   "metadata": {},
   "outputs": [
    {
     "name": "stdout",
     "output_type": "stream",
     "text": [
      "env: KMP_DUPLICATE_LIB_OK=TRUE\n"
     ]
    }
   ],
   "source": [
    "%env KMP_DUPLICATE_LIB_OK=TRUE"
   ]
  },
  {
   "cell_type": "markdown",
   "metadata": {},
   "source": [
    "The function $\\texttt{vectorized_result}(d)$ converts the digit $d \\in \\{0,\\cdots,9\\}$ and returns a NumPy vector $\\mathbf{x}$ of shape $(10, 1)$ such that\n",
    "$$\n",
    "\\mathbf{x}[i] = \n",
    "\\left\\{\n",
    "  \\begin{array}{ll}\n",
    "     1 & \\mbox{if $i = j$;} \\\\\n",
    "     0 & \\mbox{otherwise.}\n",
    "  \\end{array}  \n",
    "\\right.\n",
    "$$\n",
    "This function is used to convert a digit $d$ into the expected output of a neural network that has an output unit for every digit."
   ]
  },
  {
   "cell_type": "code",
   "execution_count": 4,
   "metadata": {},
   "outputs": [],
   "source": [
    "def vectorized_result(d):\n",
    "    e    = np.zeros((10, ), dtype=np.float32)\n",
    "    e[d] = 1.0\n",
    "    return e"
   ]
  },
  {
   "cell_type": "markdown",
   "metadata": {},
   "source": [
    "The function $\\texttt{load_data}()$ returns a pair of the form\n",
    "$$ (\\texttt{training_data}, \\texttt{test_data}) $$\n",
    "where \n",
    "<ul>\n",
    "<li> $\\texttt{training_data}$ is a list containing 60,000 pairs $(\\textbf{x}, \\textbf{y})$ s.t. $\\textbf{x}$ is a 784-dimensional `numpy.ndarray` containing the input image and $\\textbf{y}$ is a 10-dimensional `numpy.ndarray` corresponding to the correct digit for x.</li>\n",
    "<li> $\\texttt{test_data}$ is a list containing 10,000 pairs $(\\textbf{x}, y)$.  In each case, \n",
    "     $\\textbf{x}$ is a 784-dimensional `numpy.ndarry` containing the input image, \n",
    "     and $y$ is the corresponding digit value.\n",
    "</ul>"
   ]
  },
  {
   "cell_type": "code",
   "execution_count": 5,
   "metadata": {},
   "outputs": [],
   "source": [
    "def load_data():\n",
    "    with gzip.open('mnist.pkl.gz', 'rb') as f:\n",
    "        train, validate, test = pickle.load(f, encoding=\"latin1\")\n",
    "    X_train = np.array([np.reshape(x, (784, )) for x in train[0]])\n",
    "    X_test  = np.array([np.reshape(x, (784, )) for x in test [0]])\n",
    "    Y_train = np.array([vectorized_result(y) for y in train[1]])\n",
    "    Y_test  = np.array([vectorized_result(y) for y in test [1]])\n",
    "    return (X_train, X_test, Y_train, Y_test)"
   ]
  },
  {
   "cell_type": "code",
   "execution_count": 6,
   "metadata": {
    "colab": {
     "base_uri": "https://localhost:8080/",
     "height": 68
    },
    "colab_type": "code",
    "id": "Ofc-wXYMESXW",
    "outputId": "5cbd5e88-7833-44b7-ef23-249306c3eb15"
   },
   "outputs": [],
   "source": [
    "X_train, X_test, Y_train, Y_test = load_data()"
   ]
  },
  {
   "cell_type": "markdown",
   "metadata": {},
   "source": [
    "Let us see what we have read:"
   ]
  },
  {
   "cell_type": "code",
   "execution_count": 7,
   "metadata": {
    "colab": {
     "base_uri": "https://localhost:8080/",
     "height": 68
    },
    "colab_type": "code",
    "id": "Ofc-wXYMESXW",
    "outputId": "5cbd5e88-7833-44b7-ef23-249306c3eb15"
   },
   "outputs": [
    {
     "data": {
      "text/plain": [
       "((50000, 784), (10000, 784), (50000, 10), (10000, 10))"
      ]
     },
     "execution_count": 7,
     "metadata": {},
     "output_type": "execute_result"
    }
   ],
   "source": [
    "X_train.shape, X_test.shape, Y_train.shape, Y_test.shape"
   ]
  },
  {
   "cell_type": "markdown",
   "metadata": {},
   "source": [
    "Below, we create a neural network with two hidden layers.\n",
    "- The first hidden layer has 60 nodes and uses the <a href=\"https://en.wikipedia.org/wiki/Rectifier_(neural_networks)\">ReLU function</a> \n",
    "  as activation function.\n",
    "- The second hidden layer uses 30 nodes and also uses the ReLu function.  \n",
    "- The output layer uses the <a href=\"https://en.wikipedia.org/wiki/Softmax_function\">softmax function</a> as \n",
    "  activation function.  This function is defined as follows:\n",
    "  $$ \\sigma(\\mathbf{z})_i := \\frac{e^{z_i}}{\\sum\\limits_{d=0}^{10} e^{z_d}}  $$\n",
    "  Here, $N$ is the number of output nodes and $z_i$ is the sum of the inputs of the $i$-th output neuron.\n",
    "  This function guarantees that the outputs of the 10 output nodes can be interpreted as probabilities, since \n",
    "  there sum is equal to $1$.\n",
    "- The <em style=\"color:blue\">loss function</em> used is the <em style=\"color:blue\">cross-entropy</em>.  \n",
    "  If a neuron outputs the value $a$, when it should output the value $y \\in \\{0,1\\}$, the cross entropy cost of \n",
    "  this neuron is defined as\n",
    "  $$ C(a, y) := - y \\cdot \\ln(a) - (1-y)\\cdot \\ln(1-a). $$\n",
    "- The cost function is minimzed using stochastic gradient descent with a learning rate of $0.3$."
   ]
  },
  {
   "cell_type": "code",
   "execution_count": 8,
   "metadata": {
    "colab": {
     "base_uri": "https://localhost:8080/",
     "height": 17156
    },
    "colab_type": "code",
    "id": "tksxAR3CuorW",
    "outputId": "b80fca9d-5f96-4f51-df34-28cdf5e80f9e"
   },
   "outputs": [
    {
     "name": "stderr",
     "output_type": "stream",
     "text": [
      "WARNING: Logging before flag parsing goes to stderr.\n",
      "W0326 15:47:32.480726 4569234880 deprecation_wrapper.py:119] From /Users/karlstroetmann/anaconda3/envs/ds/lib/python3.7/site-packages/keras/backend/tensorflow_backend.py:74: The name tf.get_default_graph is deprecated. Please use tf.compat.v1.get_default_graph instead.\n",
      "\n",
      "W0326 15:47:32.510921 4569234880 deprecation_wrapper.py:119] From /Users/karlstroetmann/anaconda3/envs/ds/lib/python3.7/site-packages/keras/backend/tensorflow_backend.py:517: The name tf.placeholder is deprecated. Please use tf.compat.v1.placeholder instead.\n",
      "\n",
      "W0326 15:47:32.513059 4569234880 deprecation_wrapper.py:119] From /Users/karlstroetmann/anaconda3/envs/ds/lib/python3.7/site-packages/keras/backend/tensorflow_backend.py:4138: The name tf.random_uniform is deprecated. Please use tf.random.uniform instead.\n",
      "\n",
      "W0326 15:47:32.568136 4569234880 deprecation_wrapper.py:119] From /Users/karlstroetmann/anaconda3/envs/ds/lib/python3.7/site-packages/keras/optimizers.py:790: The name tf.train.Optimizer is deprecated. Please use tf.compat.v1.train.Optimizer instead.\n",
      "\n",
      "W0326 15:47:32.577199 4569234880 deprecation_wrapper.py:119] From /Users/karlstroetmann/anaconda3/envs/ds/lib/python3.7/site-packages/keras/backend/tensorflow_backend.py:3295: The name tf.log is deprecated. Please use tf.math.log instead.\n",
      "\n"
     ]
    },
    {
     "name": "stdout",
     "output_type": "stream",
     "text": [
      "_________________________________________________________________\n",
      "Layer (type)                 Output Shape              Param #   \n",
      "=================================================================\n",
      "dense_1 (Dense)              (None, 60)                47100     \n",
      "_________________________________________________________________\n",
      "dense_2 (Dense)              (None, 30)                1830      \n",
      "_________________________________________________________________\n",
      "dense_3 (Dense)              (None, 10)                310       \n",
      "=================================================================\n",
      "Total params: 49,240\n",
      "Trainable params: 49,240\n",
      "Non-trainable params: 0\n",
      "_________________________________________________________________\n"
     ]
    }
   ],
   "source": [
    "model = keras.models.Sequential()\n",
    "model.add(keras.layers.Dense( 60, activation='relu', input_dim=784))\n",
    "model.add(keras.layers.Dense( 30, activation='relu'               ))\n",
    "model.add(keras.layers.Dense( 10, activation='softmax'            ))\n",
    "model.compile(loss       = 'categorical_crossentropy', \n",
    "              optimizer  = keras.optimizers.SGD(lr=0.3), \n",
    "              metrics    = ['accuracy'])\n",
    "model.summary()"
   ]
  },
  {
   "cell_type": "code",
   "execution_count": 9,
   "metadata": {
    "colab": {
     "base_uri": "https://localhost:8080/",
     "height": 17156
    },
    "colab_type": "code",
    "id": "tksxAR3CuorW",
    "outputId": "b80fca9d-5f96-4f51-df34-28cdf5e80f9e"
   },
   "outputs": [
    {
     "name": "stderr",
     "output_type": "stream",
     "text": [
      "W0326 15:49:44.651621 4569234880 deprecation.py:323] From /Users/karlstroetmann/anaconda3/envs/ds/lib/python3.7/site-packages/tensorflow/python/ops/math_grad.py:1250: add_dispatch_support.<locals>.wrapper (from tensorflow.python.ops.array_ops) is deprecated and will be removed in a future version.\n",
      "Instructions for updating:\n",
      "Use tf.where in 2.0, which has the same broadcast rule as np.where\n",
      "W0326 15:49:44.706430 4569234880 deprecation_wrapper.py:119] From /Users/karlstroetmann/anaconda3/envs/ds/lib/python3.7/site-packages/keras/backend/tensorflow_backend.py:986: The name tf.assign_add is deprecated. Please use tf.compat.v1.assign_add instead.\n",
      "\n"
     ]
    },
    {
     "name": "stdout",
     "output_type": "stream",
     "text": [
      "Train on 50000 samples, validate on 10000 samples\n",
      "Epoch 1/30\n",
      "50000/50000 [==============================] - 3s 58us/step - loss: 0.3712 - acc: 0.8862 - val_loss: 0.1769 - val_acc: 0.9467\n",
      "Epoch 2/30\n",
      "50000/50000 [==============================] - 2s 42us/step - loss: 0.1571 - acc: 0.9515 - val_loss: 0.1327 - val_acc: 0.9619\n",
      "Epoch 3/30\n",
      "50000/50000 [==============================] - 2s 43us/step - loss: 0.1172 - acc: 0.9644 - val_loss: 0.1298 - val_acc: 0.9603\n",
      "Epoch 4/30\n",
      "50000/50000 [==============================] - 2s 40us/step - loss: 0.0929 - acc: 0.9716 - val_loss: 0.1145 - val_acc: 0.9657\n",
      "Epoch 5/30\n",
      "50000/50000 [==============================] - 2s 41us/step - loss: 0.0796 - acc: 0.9744 - val_loss: 0.1024 - val_acc: 0.9680\n",
      "Epoch 6/30\n",
      "50000/50000 [==============================] - 2s 41us/step - loss: 0.0678 - acc: 0.9793 - val_loss: 0.1031 - val_acc: 0.9678\n",
      "Epoch 7/30\n",
      "50000/50000 [==============================] - 2s 40us/step - loss: 0.0595 - acc: 0.9810 - val_loss: 0.0978 - val_acc: 0.9719\n",
      "Epoch 8/30\n",
      "50000/50000 [==============================] - 2s 40us/step - loss: 0.0513 - acc: 0.9840 - val_loss: 0.1035 - val_acc: 0.9684\n",
      "Epoch 9/30\n",
      "50000/50000 [==============================] - 2s 40us/step - loss: 0.0449 - acc: 0.9857 - val_loss: 0.1008 - val_acc: 0.9699\n",
      "Epoch 10/30\n",
      "50000/50000 [==============================] - 2s 39us/step - loss: 0.0405 - acc: 0.9871 - val_loss: 0.1019 - val_acc: 0.9734\n",
      "Epoch 11/30\n",
      "50000/50000 [==============================] - 2s 41us/step - loss: 0.0349 - acc: 0.9887 - val_loss: 0.1073 - val_acc: 0.9721\n",
      "Epoch 12/30\n",
      "50000/50000 [==============================] - 2s 42us/step - loss: 0.0308 - acc: 0.9903 - val_loss: 0.1002 - val_acc: 0.9738\n",
      "Epoch 13/30\n",
      "50000/50000 [==============================] - 2s 44us/step - loss: 0.0272 - acc: 0.9914 - val_loss: 0.1094 - val_acc: 0.9715\n",
      "Epoch 14/30\n",
      "50000/50000 [==============================] - 2s 40us/step - loss: 0.0208 - acc: 0.9935 - val_loss: 0.0992 - val_acc: 0.9758\n",
      "Epoch 15/30\n",
      "50000/50000 [==============================] - 2s 38us/step - loss: 0.0191 - acc: 0.9941 - val_loss: 0.1051 - val_acc: 0.9733\n",
      "Epoch 16/30\n",
      "50000/50000 [==============================] - 2s 39us/step - loss: 0.0177 - acc: 0.9944 - val_loss: 0.1061 - val_acc: 0.9734\n",
      "Epoch 17/30\n",
      "50000/50000 [==============================] - 2s 40us/step - loss: 0.0292 - acc: 0.9918 - val_loss: 0.1027 - val_acc: 0.9739\n",
      "Epoch 18/30\n",
      "50000/50000 [==============================] - 2s 44us/step - loss: 0.0185 - acc: 0.9936 - val_loss: 0.1075 - val_acc: 0.9759\n",
      "Epoch 19/30\n",
      "50000/50000 [==============================] - 2s 39us/step - loss: 0.0161 - acc: 0.9950 - val_loss: 0.1143 - val_acc: 0.9743\n",
      "Epoch 20/30\n",
      "50000/50000 [==============================] - 2s 41us/step - loss: 0.0141 - acc: 0.9956 - val_loss: 0.1119 - val_acc: 0.9743\n",
      "Epoch 21/30\n",
      "50000/50000 [==============================] - 2s 41us/step - loss: 0.0099 - acc: 0.9970 - val_loss: 0.1114 - val_acc: 0.9762\n",
      "Epoch 22/30\n",
      "50000/50000 [==============================] - 2s 42us/step - loss: 0.0078 - acc: 0.9978 - val_loss: 0.1211 - val_acc: 0.9736\n",
      "Epoch 23/30\n",
      "50000/50000 [==============================] - 2s 42us/step - loss: 0.0042 - acc: 0.9990 - val_loss: 0.1117 - val_acc: 0.9773\n",
      "Epoch 24/30\n",
      "50000/50000 [==============================] - 2s 40us/step - loss: 0.0042 - acc: 0.9991 - val_loss: 0.1102 - val_acc: 0.9762\n",
      "Epoch 25/30\n",
      "50000/50000 [==============================] - 2s 39us/step - loss: 0.0023 - acc: 0.9998 - val_loss: 0.1119 - val_acc: 0.9767\n",
      "Epoch 26/30\n",
      "50000/50000 [==============================] - 2s 42us/step - loss: 0.0013 - acc: 1.0000 - val_loss: 0.1116 - val_acc: 0.9772\n",
      "Epoch 27/30\n",
      "50000/50000 [==============================] - 2s 41us/step - loss: 0.0010 - acc: 1.0000 - val_loss: 0.1120 - val_acc: 0.9770\n",
      "Epoch 28/30\n",
      "50000/50000 [==============================] - 2s 41us/step - loss: 8.1927e-04 - acc: 1.0000 - val_loss: 0.1123 - val_acc: 0.9774\n",
      "Epoch 29/30\n",
      "50000/50000 [==============================] - 2s 40us/step - loss: 7.1307e-04 - acc: 1.0000 - val_loss: 0.1132 - val_acc: 0.9780\n",
      "Epoch 30/30\n",
      "50000/50000 [==============================] - 2s 39us/step - loss: 6.3803e-04 - acc: 1.0000 - val_loss: 0.1142 - val_acc: 0.9782\n",
      "CPU times: user 1min 32s, sys: 6.81 s, total: 1min 39s\n",
      "Wall time: 1min 2s\n"
     ]
    }
   ],
   "source": [
    "%%time\n",
    "history = model.fit(X_train, Y_train, validation_data=(X_test, Y_test), epochs=30, batch_size=100, verbose=1)"
   ]
  },
  {
   "cell_type": "code",
   "execution_count": null,
   "metadata": {},
   "outputs": [],
   "source": []
  }
 ],
 "metadata": {
  "accelerator": "GPU",
  "colab": {
   "collapsed_sections": [],
   "name": "Neural network hyper-parameters.ipynb",
   "provenance": [],
   "version": "0.3.2"
  },
  "kernelspec": {
   "display_name": "Python 3",
   "language": "python",
   "name": "python3"
  },
  "language_info": {
   "codemirror_mode": {
    "name": "ipython",
    "version": 3
   },
   "file_extension": ".py",
   "mimetype": "text/x-python",
   "name": "python",
   "nbconvert_exporter": "python",
   "pygments_lexer": "ipython3",
   "version": "3.7.3"
  },
  "toc": {
   "base_numbering": 1,
   "nav_menu": {},
   "number_sections": true,
   "sideBar": true,
   "skip_h1_title": false,
   "title_cell": "Table of Contents",
   "title_sidebar": "Contents",
   "toc_cell": false,
   "toc_position": {},
   "toc_section_display": true,
   "toc_window_display": true
  }
 },
 "nbformat": 4,
 "nbformat_minor": 1
}
