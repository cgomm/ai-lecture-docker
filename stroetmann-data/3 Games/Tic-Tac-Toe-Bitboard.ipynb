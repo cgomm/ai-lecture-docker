{
 "cells": [
  {
   "cell_type": "code",
   "execution_count": null,
   "metadata": {},
   "outputs": [],
   "source": [
    "from IPython.core.display import HTML\n",
    "with open('../style.css') as f:\n",
    "    css = f.read()\n",
    "HTML(css)"
   ]
  },
  {
   "cell_type": "markdown",
   "metadata": {},
   "source": [
    "# Tic-Tac-Toe via Bitboards"
   ]
  },
  {
   "cell_type": "markdown",
   "metadata": {},
   "source": [
    "This notebook defines the game [tic-tac-toe](https://en.wikipedia.org/wiki/Tic-tac-toe).\n",
    "It is played on a $3 \\times 3$ board.  There are two players, which are called `X`and `O`.  Player `X` starts.  Player `X` always puts an `'X'` into an empty field on the board, while player `O` always puts an `'O'` in an empty field of the board.  The goal of the game for player `X` is to get three **Xs** into a row, column, or diagonal line, while player `O` needs to get three **Os** into a row, column, or diagonal line.\n",
    "\n",
    "In this notebook, the board is represented as a *bitboard*, i.e. the states are represented as integers.  If `s` is a state, the first nine bits of `s` specify the positions of the `X`es, while the second nine bits specify the positions of the `O`s.  Player `X` is encoded as the number `0`,  while player `O` is encoded as the number `1`."
   ]
  },
  {
   "cell_type": "code",
   "execution_count": null,
   "metadata": {},
   "outputs": [],
   "source": [
    "Players = [0, 1]"
   ]
  },
  {
   "cell_type": "markdown",
   "metadata": {},
   "source": [
    "States are represented as integers.  The first 9 bits encode the marks of the player `X`, the next 9 bits encode the marks of the player `O`.  Initially, the board is empty and hence no bit is set."
   ]
  },
  {
   "cell_type": "code",
   "execution_count": null,
   "metadata": {},
   "outputs": [],
   "source": [
    "Start = 0"
   ]
  },
  {
   "cell_type": "markdown",
   "metadata": {},
   "source": [
    "The function `set_bits` takes one parameter:\n",
    "* `Bits` is a list of numbers that specify bit positions in an integer.\n",
    "\n",
    "The function returns an integer such that the bits specified in `Bits` are set. Counting starts with $0$."
   ]
  },
  {
   "cell_type": "code",
   "execution_count": null,
   "metadata": {},
   "outputs": [],
   "source": [
    "def set_bits(Bits):\n",
    "    result = 0\n",
    "    for b in Bits:\n",
    "        result |= 1 << b\n",
    "    return result"
   ]
  },
  {
   "cell_type": "code",
   "execution_count": null,
   "metadata": {},
   "outputs": [],
   "source": [
    "assert set_bits([0, 1, 4]) == 2**0 + 2**1 + 2**4"
   ]
  },
  {
   "cell_type": "markdown",
   "metadata": {},
   "source": [
    "The function `set_bit(n)` returns a number that has exactly the $\\texttt{n}^\\textrm{th}$ bit set."
   ]
  },
  {
   "cell_type": "code",
   "execution_count": null,
   "metadata": {},
   "outputs": [],
   "source": [
    "set_bit = lambda n: 1 << n"
   ]
  },
  {
   "cell_type": "code",
   "execution_count": null,
   "metadata": {},
   "outputs": [],
   "source": [
    "assert set_bit(7) == 2 ** 7"
   ]
  },
  {
   "cell_type": "markdown",
   "metadata": {},
   "source": [
    "The function `to_board(state)` takes an integer `state` as its argument that represents a state of the game tic-tac-toe.  It converts this state into a string that represents the board corresponding to the state."
   ]
  },
  {
   "cell_type": "code",
   "execution_count": null,
   "metadata": {},
   "outputs": [],
   "source": [
    "def to_board(state):\n",
    "    result = '+-+-+-+\\n'\n",
    "    for cell in range(9):\n",
    "        if state & (2 ** cell) != 0:\n",
    "            result += '|X'\n",
    "        elif state & (2 ** (cell + 9)) != 0:\n",
    "            result += '|O'\n",
    "        else:\n",
    "            result += '| '\n",
    "        if (cell + 1) % 3 == 0:\n",
    "            result += '|\\n+-+-+-+\\n'\n",
    "    return result"
   ]
  },
  {
   "cell_type": "code",
   "execution_count": null,
   "metadata": {},
   "outputs": [],
   "source": [
    "print(to_board(set_bits([0,2,3,5,7,10,13,15])))"
   ]
  },
  {
   "cell_type": "markdown",
   "metadata": {},
   "source": [
    "Given a `state` that is represented as a number, the function `empty(state)` returns the set of indexes of those cells such that neither player `X` nor player `O` has placed a mark in the cell.  Note that there are 9 cells on the board.  Each of these cells can hold either an `'X'` or an `'O'`.  If the $i^\\textrm{th}$ cell is marked with a `'X'`, then the $i^\\textrm{th}$ bit of `state` is set.  If instead the $i^\\textrm{th}$ cell is marked with an `'O'`, then the $(9+i)^\\textrm{th}$ bit of `state` is set.  If the $i^\\textrm{th}$ cell is not yet marked, then both the $i^\\textrm{th}$ bit and the $(9+i)^\\textrm{th}$ are $0$."
   ]
  },
  {
   "cell_type": "code",
   "execution_count": null,
   "metadata": {},
   "outputs": [],
   "source": [
    "def empty(state):\n",
    "    Free  = { n for n in range(9) }\n",
    "    Free -= { n for n in range(9) if state & (1 << n) != 0 }\n",
    "    Free -= { n for n in range(9) if state & (1 << (9 + n)) != 0 }\n",
    "    return Free"
   ]
  },
  {
   "cell_type": "code",
   "execution_count": null,
   "metadata": {},
   "outputs": [],
   "source": [
    "state = set_bits([2, 3, 5, 9+1, 9+4, 9+8])\n",
    "print(to_board(state))\n",
    "empty(state)"
   ]
  },
  {
   "cell_type": "markdown",
   "metadata": {},
   "source": [
    "Given a `state` and the `player` who is next to move, the function `next_states(state, player)` computes the set of states that can be reached from `state`.\n",
    "Note that player `X` is encoded as the number $0$, while player `O` is encoded as the number $1$."
   ]
  },
  {
   "cell_type": "code",
   "execution_count": null,
   "metadata": {},
   "outputs": [],
   "source": [
    "def next_states(state, player):\n",
    "    Empty  = empty(state)\n",
    "    Result = []\n",
    "    for n in Empty:\n",
    "        next_state = state | set_bit(player * 9 + n)\n",
    "        Result.append(next_state)\n",
    "    return Result"
   ]
  },
  {
   "cell_type": "code",
   "execution_count": null,
   "metadata": {},
   "outputs": [],
   "source": [
    "state = set_bits([2,3,5,10,13,15])\n",
    "print(f'state:\\n{to_board(state)}')\n",
    "print('next states:')                  \n",
    "for s in next_states(state, 0):\n",
    "    print(to_board(s))"
   ]
  },
  {
   "cell_type": "markdown",
   "metadata": {},
   "source": [
    "The global variable `All_Lines` is a list of eight bit masks.  These masks can be used to test whether there are three identical marks in a row, column, or diagonal."
   ]
  },
  {
   "cell_type": "code",
   "execution_count": null,
   "metadata": {},
   "outputs": [],
   "source": [
    "All_Lines = [ set_bits([0,1,2]), # 1st row\n",
    "              set_bits([3,4,5]), # 2nd row\n",
    "              set_bits([6,7,8]), # 3rd row\n",
    "              set_bits([0,3,6]), # 1st column\n",
    "              set_bits([1,4,7]), # 2nd column\n",
    "              set_bits([2,5,8]), # 3rd column\n",
    "              set_bits([0,4,8]), # falling diagonal\n",
    "              set_bits([2,4,6]), # rising diagonal\n",
    "            ]"
   ]
  },
  {
   "cell_type": "code",
   "execution_count": null,
   "metadata": {},
   "outputs": [],
   "source": [
    "for state in All_Lines:\n",
    "    print(to_board(state))"
   ]
  },
  {
   "cell_type": "markdown",
   "metadata": {},
   "source": [
    "The function `utility` takes two arguments:\n",
    "- `state`  is an integer representing the board.\n",
    "- `player` is a player, player `'X'`  is coded as the number `0`, player `'O'` is coded as `1`.\n",
    " \n",
    "The function returns `1` if `player` has won the game, `-1` if the game is lost for `player`, `0` if its a draw, and `None` if the game has not yet been decided."
   ]
  },
  {
   "cell_type": "code",
   "execution_count": null,
   "metadata": {},
   "outputs": [],
   "source": [
    "def utility(state, player):\n",
    "    for mask in All_Lines:\n",
    "        if state & mask == mask:\n",
    "            return 1 - 2 * player  # player 'X' has won\n",
    "        if (state >> 9) & mask == mask:\n",
    "            return -1 + 2 * player # player 'O' has won\n",
    "    # 511 == 2**9 - 1 = 0b1_1111_1111  \n",
    "    if (state & 511) | (state >> 9) != 511: # the board is not yet filled\n",
    "        return None\n",
    "    # at this point, the board has been filled, but there is no winner hence its a draw\n",
    "    return 0 # it's a draw"
   ]
  },
  {
   "cell_type": "code",
   "execution_count": null,
   "metadata": {},
   "outputs": [],
   "source": [
    "s1 = set_bits([0, 2, 3, 6, 1+9,  4+9, 5+9]) # 'X' has won\n",
    "print(to_board(s1))\n",
    "utility(s1, 0)"
   ]
  },
  {
   "cell_type": "code",
   "execution_count": null,
   "metadata": {},
   "outputs": [],
   "source": [
    "s2 = set_bits([0, 2, 6, 8, 1+9, 4+9, 7+9]) # 'O' has won\n",
    "print(to_board(s2))\n",
    "utility(s2, 0)"
   ]
  },
  {
   "cell_type": "code",
   "execution_count": null,
   "metadata": {},
   "outputs": [],
   "source": [
    "s3 = set_bits([0, 2, 5, 6, 7, 1+9, 3+9, 4+9, 8+9]) # it's a draw\n",
    "print(to_board(s3))\n",
    "print(utility(s3, 0))\n",
    "s3"
   ]
  },
  {
   "cell_type": "code",
   "execution_count": null,
   "metadata": {},
   "outputs": [],
   "source": [
    "s4 = set_bits([0, 2, 5, 6, 1+9, 3+9, 4+9]) # it ain't over yet\n",
    "print(to_board(s4))\n",
    "print(utility(s4, 0))"
   ]
  },
  {
   "cell_type": "markdown",
   "metadata": {},
   "source": [
    "The function heuristic tries to guess the value of a state.  As it is never called in terminal states, it assumes that the game will be drawn."
   ]
  },
  {
   "cell_type": "code",
   "execution_count": null,
   "metadata": {},
   "outputs": [],
   "source": [
    "def heuristic(state, player):\n",
    "    return 0"
   ]
  },
  {
   "cell_type": "markdown",
   "metadata": {},
   "source": [
    "`finished(state)` is `True` if the game is over."
   ]
  },
  {
   "cell_type": "code",
   "execution_count": null,
   "metadata": {},
   "outputs": [],
   "source": [
    "finished = lambda state: utility(state, 0) != None"
   ]
  },
  {
   "cell_type": "code",
   "execution_count": null,
   "metadata": {},
   "outputs": [],
   "source": [
    "s = set_bits([0, 2, 5, 6, 7, 1+9, 3+9, 4+9, 8+9])\n",
    "print(to_board(s))\n",
    "finished(s)"
   ]
  },
  {
   "cell_type": "markdown",
   "metadata": {},
   "source": [
    "The function `get_move` asks the user to input a move in the format `r,c` where `r` is the row and the `c` is the column where the next symbol is to be placed."
   ]
  },
  {
   "cell_type": "code",
   "execution_count": null,
   "metadata": {},
   "outputs": [],
   "source": [
    "def get_move(state):\n",
    "    while True:\n",
    "        row, col = input('Enter move here: ').split(',')\n",
    "        row, col = int(row), int(col)\n",
    "        mask = set_bit(9 + row * 3 + col)\n",
    "        if state & mask == 0:\n",
    "            return state | mask\n",
    "        else:\n",
    "            print(\"Illegal input.  Please try again.\")           "
   ]
  },
  {
   "cell_type": "markdown",
   "metadata": {},
   "source": [
    "The function `final_msg(state)` informs the user about the result of the game once the game is finished."
   ]
  },
  {
   "cell_type": "code",
   "execution_count": null,
   "metadata": {},
   "outputs": [],
   "source": [
    "def final_msg(state):\n",
    "    if finished(state):\n",
    "        if utility(state, 1) == 1:\n",
    "            print('You have won!')\n",
    "        elif utility(state, 1) == -1:\n",
    "            print('You have lost!')\n",
    "        else:\n",
    "            print(\"It's a draw.\");\n",
    "        return True\n",
    "    return False"
   ]
  },
  {
   "cell_type": "markdown",
   "metadata": {},
   "source": [
    "# Drawing the Board"
   ]
  },
  {
   "cell_type": "code",
   "execution_count": null,
   "metadata": {},
   "outputs": [],
   "source": [
    "import ipycanvas as cnv"
   ]
  },
  {
   "cell_type": "code",
   "execution_count": null,
   "metadata": {},
   "outputs": [],
   "source": [
    "size = 150"
   ]
  },
  {
   "cell_type": "markdown",
   "metadata": {},
   "source": [
    "This function creates the canvas for the start state.  It draws an empty board which is later used for the game."
   ]
  },
  {
   "cell_type": "code",
   "execution_count": null,
   "metadata": {},
   "outputs": [],
   "source": [
    "def create_canvas():\n",
    "    canvas = cnv.Canvas(size=(size * 3, size * 3 + 50))\n",
    "    display(canvas)\n",
    "    return canvas"
   ]
  },
  {
   "cell_type": "markdown",
   "metadata": {},
   "source": [
    "The function `get_symbol(state, row, col)` takes three arguments:\n",
    "* `state` is an integer representing a tic-tac-toe board.\n",
    "* `row` is an integer in `range(3)` that specifies a row in the board.\n",
    "* `col` is an integer in `range(3)` that specifies a column in the board.\n",
    "\n",
    "The function returns the mark that is placed in the given `row`and `column`.  If this position is empty, a blank `' '` is returned. "
   ]
  },
  {
   "cell_type": "code",
   "execution_count": null,
   "metadata": {},
   "outputs": [],
   "source": [
    "def get_symbol(state, row, col):\n",
    "    mask = set_bits([row * 3 + col])\n",
    "    if mask & state == mask:\n",
    "        return 'X'\n",
    "    if mask & (state >> 9) == mask:\n",
    "        return 'O'\n",
    "    return ' '  "
   ]
  },
  {
   "cell_type": "markdown",
   "metadata": {},
   "source": [
    "This function takes three arguments:\n",
    "- `state` is the current state of the game.\n",
    "- `canvas` is a canvas used to draw the state.\n",
    "- `value` is the value of the game for player `X`.\n",
    "\n",
    "The function draws the given `State` onto `canvas`.  Below that, the `value` is printed."
   ]
  },
  {
   "cell_type": "code",
   "execution_count": null,
   "metadata": {},
   "outputs": [],
   "source": [
    "def draw(state, canvas, value):\n",
    "    canvas.clear()\n",
    "    n = 3\n",
    "    canvas.font          = '90px sans-serif'\n",
    "    canvas.text_align    = 'center'\n",
    "    canvas.text_baseline = 'middle'\n",
    "    for row in range(n):\n",
    "        for col in range(n):\n",
    "            x = col * size\n",
    "            y = row * size\n",
    "            canvas.line_width = 3.0\n",
    "            canvas.stroke_rect(x, y, size, size)\n",
    "            symbol = get_symbol(state, row, col)\n",
    "            if symbol != ' ':\n",
    "                x += size // 2\n",
    "                y += size // 2\n",
    "                if symbol == 'X':\n",
    "                    canvas.fill_style ='red'\n",
    "                else:\n",
    "                    canvas.fill_style ='blue'\n",
    "                canvas.fill_text(symbol, x, y)\n",
    "    canvas.font = '12px sans-serif'\n",
    "    canvas.fill_style = 'green'\n",
    "    for row in range(n):\n",
    "        for col in range(n):\n",
    "            x = col * size + 16\n",
    "            y = row * size + 141\n",
    "            canvas.fill_text(f'({row}, {col})', x, y)\n",
    "    canvas.font = '20px sans-serif'\n",
    "    canvas.fill_style = 'black'\n",
    "    x = 1.5 * size\n",
    "    y = 3.2 * size\n",
    "    canvas.fill_text(str(value), x, y)"
   ]
  },
  {
   "cell_type": "code",
   "execution_count": null,
   "metadata": {},
   "outputs": [],
   "source": [
    "draw(set_bits([0, 2, 5, 6, 1+9, 3+9, 4+9]), create_canvas(), -1)"
   ]
  },
  {
   "cell_type": "code",
   "execution_count": null,
   "metadata": {},
   "outputs": [],
   "source": []
  }
 ],
 "metadata": {
  "kernelspec": {
   "display_name": "Python 3",
   "language": "python",
   "name": "python3"
  },
  "language_info": {
   "codemirror_mode": {
    "name": "ipython",
    "version": 3
   },
   "file_extension": ".py",
   "mimetype": "text/x-python",
   "name": "python",
   "nbconvert_exporter": "python",
   "pygments_lexer": "ipython3",
   "version": "3.7.9"
  },
  "toc": {
   "base_numbering": 1,
   "nav_menu": {},
   "number_sections": true,
   "sideBar": true,
   "skip_h1_title": false,
   "title_cell": "Table of Contents",
   "title_sidebar": "Contents",
   "toc_cell": false,
   "toc_position": {},
   "toc_section_display": true,
   "toc_window_display": false
  },
  "varInspector": {
   "cols": {
    "lenName": 16,
    "lenType": 16,
    "lenVar": 40
   },
   "kernels_config": {
    "python": {
     "delete_cmd_postfix": "",
     "delete_cmd_prefix": "del ",
     "library": "var_list.py",
     "varRefreshCmd": "print(var_dic_list())"
    },
    "r": {
     "delete_cmd_postfix": ") ",
     "delete_cmd_prefix": "rm(",
     "library": "var_list.r",
     "varRefreshCmd": "cat(var_dic_list()) "
    }
   },
   "types_to_exclude": [
    "module",
    "function",
    "builtin_function_or_method",
    "instance",
    "_Feature"
   ],
   "window_display": false
  }
 },
 "nbformat": 4,
 "nbformat_minor": 2
}
