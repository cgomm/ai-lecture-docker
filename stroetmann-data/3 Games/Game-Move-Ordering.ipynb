{
 "cells": [
  {
   "cell_type": "code",
   "execution_count": 1,
   "metadata": {},
   "outputs": [
    {
     "data": {
      "text/html": [
       "<style>\n",
       ".container { width:100% }\n",
       "</style>"
      ],
      "text/plain": [
       "<IPython.core.display.HTML object>"
      ]
     },
     "metadata": {},
     "output_type": "display_data"
    }
   ],
   "source": [
    "%%HTML\n",
    "<style>\n",
    ".container { width:100% }\n",
    "</style>"
   ]
  },
  {
   "cell_type": "markdown",
   "metadata": {},
   "source": [
    "# Utilities"
   ]
  },
  {
   "cell_type": "markdown",
   "metadata": {},
   "source": [
    "The global variable `Cache` is used as a cache for the function `value`defined later."
   ]
  },
  {
   "cell_type": "code",
   "execution_count": 2,
   "metadata": {},
   "outputs": [],
   "source": [
    "Cache = {}"
   ]
  },
  {
   "cell_type": "markdown",
   "metadata": {},
   "source": [
    "# Alpha-Beta Pruning with Depth Limited Search and Move Ordering"
   ]
  },
  {
   "cell_type": "markdown",
   "metadata": {},
   "source": [
    "In order to have some variation in our game, we use random numbers to choose between optimal moves."
   ]
  },
  {
   "cell_type": "code",
   "execution_count": 3,
   "metadata": {},
   "outputs": [],
   "source": [
    "import random\n",
    "random.seed(2)"
   ]
  },
  {
   "cell_type": "markdown",
   "metadata": {},
   "source": [
    "Given a player `p`, the function `other(p)` computes the opponent of `p`.  This assumes that there are only two players and the set of all players is stored in the global variable `Players`."
   ]
  },
  {
   "cell_type": "code",
   "execution_count": 4,
   "metadata": {},
   "outputs": [],
   "source": [
    "def other(p):\n",
    "    return [o for o in Players if o != p][0]"
   ]
  },
  {
   "cell_type": "markdown",
   "metadata": {},
   "source": [
    "The module `heapq` implements heaps.  We use these as priority queues."
   ]
  },
  {
   "cell_type": "code",
   "execution_count": 5,
   "metadata": {},
   "outputs": [],
   "source": [
    "import heapq"
   ]
  },
  {
   "cell_type": "markdown",
   "metadata": {},
   "source": [
    "The function `value` takes six arguments:\n",
    "- `State` is the current state of the game,\n",
    "- `player` is a player,\n",
    "- `limit` determines the lookahead.  To be more precise, it is the number of <b style=\"color:blue\">half-moves</b> that are investigated to compute the value.  If 'limit' is 0, the game is evaluated using `heuristic`.\n",
    "- `heuristic` is a function that takes a state and estimates the value of the state.\n",
    "- `alpha` is the worst result that can happen to `player`.\n",
    "- `beta` is the best result that can happen to `player`.\n",
    "\n",
    "The function `value` returns the *value* that the given `State` has for `player` if both players play optimal game.  This values is an element from the set $\\{-1, 0, 1\\}$.  \n",
    "- If `player` can force a win, the return value is `1`.\n",
    "- If `player` can at best force a draw, the return value is `0`.\n",
    "- If `player` might loose even when playing optimal, the return value is `-1`.\n",
    "\n",
    "For reasons of efficiency, this function is *memoized*."
   ]
  },
  {
   "cell_type": "code",
   "execution_count": 6,
   "metadata": {},
   "outputs": [],
   "source": [
    "def value(State, player, limit, heuristic, alpha=-1, beta=1):\n",
    "    global Cache\n",
    "    if (State, limit) in Cache:\n",
    "        val, a, b = Cache[(State, limit)]\n",
    "        if a <= alpha and beta <= b:\n",
    "            return val\n",
    "        else:\n",
    "            alp = min(alpha, a)\n",
    "            bet = max(beta , b)\n",
    "            val = alphaBeta(State, player, limit, heuristic, alp, bet)\n",
    "            Cache[(State, limit)] = val, alp, bet\n",
    "            return val\n",
    "    else:\n",
    "        val = alphaBeta(State, player, limit, heuristic, alpha, beta)\n",
    "        Cache[(State, limit)] = val, alpha, beta\n",
    "        return val"
   ]
  },
  {
   "cell_type": "markdown",
   "metadata": {},
   "source": [
    "The function `value_cache` returns the value stored in the `Cache`. "
   ]
  },
  {
   "cell_type": "code",
   "execution_count": 7,
   "metadata": {},
   "outputs": [],
   "source": [
    "def value_cache(State, limit):\n",
    "    val, _, _ = Cache.get((State, limit), (0, -1, 1))\n",
    "    return val"
   ]
  },
  {
   "cell_type": "code",
   "execution_count": 8,
   "metadata": {},
   "outputs": [],
   "source": [
    "def alphaBeta(State, player, limit, heuristic, alpha=-1, beta=1):\n",
    "    if finished(State):\n",
    "        return utility(State, player)\n",
    "    if limit == 0:\n",
    "        return heuristic(State, player)\n",
    "    val        = alpha\n",
    "    NextStates = next_states(State, player)\n",
    "    Moves      = []  # empty priority queue\n",
    "    for ns in NextStates:\n",
    "        # no '-' in front of value as smallest value has highest priority\n",
    "        # limit-3 is the value from the previous iteration\n",
    "        heapq.heappush(Moves, (value_cache(ns, limit-3), ns))\n",
    "    while Moves != []:\n",
    "        _, ns = heapq.heappop(Moves)\n",
    "        val = max(val, -value(ns, other(player), limit-1, heuristic, -beta, -alpha))\n",
    "        if val >= beta:\n",
    "            return val\n",
    "        alpha = max(val, alpha)\n",
    "    return val"
   ]
  },
  {
   "cell_type": "markdown",
   "metadata": {},
   "source": [
    "The function `best_move` takes two arguments:\n",
    "- `State` is the current state of the game,\n",
    "- `player` is a player.\n",
    "\n",
    "The function `best_move` returns a pair of the form $(v, s)$ where $s$ is a state and $v$ is the value of this state.  The state $s$ is a state that is reached from `State` if `player` makes one of her optimal moves.  In order to have some variation in the game, the function randomly chooses any of the optimal moves."
   ]
  },
  {
   "cell_type": "code",
   "execution_count": 9,
   "metadata": {},
   "outputs": [],
   "source": [
    "def best_move(State, player, limit, heuristic):\n",
    "    NS        = next_states(State, player)\n",
    "    bestVal   = value(State, player, limit, heuristic)\n",
    "    BestMoves = [s for s in NS if -value(s, other(player), limit-1, heuristic) == bestVal]\n",
    "    BestState = random.choice(BestMoves)\n",
    "    return bestVal, BestState"
   ]
  },
  {
   "cell_type": "markdown",
   "metadata": {},
   "source": [
    "The next line is needed because we need the function `IPython.display.clear_output` to clear the output in a cell."
   ]
  },
  {
   "cell_type": "code",
   "execution_count": 10,
   "metadata": {},
   "outputs": [],
   "source": [
    "import IPython.display "
   ]
  },
  {
   "cell_type": "code",
   "execution_count": 11,
   "metadata": {},
   "outputs": [],
   "source": [
    "import time"
   ]
  },
  {
   "cell_type": "markdown",
   "metadata": {},
   "source": [
    "The function `play_game` plays on the given `canvas`.  The game played is specified indirectly by specifying the following:\n",
    "- `Start` is a global variable defining the start state of the game.\n",
    "- `next_states` is a function such that $\\texttt{next_states}(s, p)$ computes the set of all possible states that can be reached from state $s$ if player $p$ is next to move.\n",
    "- `finished` is a function such that $\\texttt{finished}(s)$ is true for a state $s$ if the game is over in state $s$.\n",
    "- `utility` is a function such that $\\texttt{utility}(s, p)$ returns either `-1`, `0`, or `1` in the *terminal state* $s$.  We have that\n",
    "  - $\\texttt{utility}(s, p)= -1$ iff the game is lost for player $p$ in state $s$, \n",
    "  - $\\texttt{utility}(s, p)=  0$ iff the game is drawn, and \n",
    "  - $\\texttt{utility}(s, p)=  1$ iff the game is won for player $p$ in state $s$."
   ]
  },
  {
   "cell_type": "code",
   "execution_count": 12,
   "metadata": {},
   "outputs": [],
   "source": [
    "def play_game(canvas, limit, heuristic):\n",
    "    global Cache\n",
    "    Cache   = {}\n",
    "    State   = Start\n",
    "    History = []\n",
    "    while (True):\n",
    "        firstPlayer = Players[0]\n",
    "        start       = time.time()\n",
    "        val, State  = best_move(State, firstPlayer, limit, heuristic)\n",
    "        stop        = time.time()\n",
    "        diff        = round(stop - start, 2)\n",
    "        History.append(diff)\n",
    "        draw(State, canvas, f'{round(diff, 2)} seconds, value = {round(val, 2)}.')\n",
    "        if finished(State):\n",
    "            final_msg(State)\n",
    "            break\n",
    "        IPython.display.clear_output(wait=True)\n",
    "        State = get_move(State)\n",
    "        draw(State, canvas, '')\n",
    "        if finished(State):\n",
    "            IPython.display.clear_output(wait=True)\n",
    "            final_msg(State)\n",
    "            break\n",
    "    for i, d in enumerate(History):\n",
    "        print(f'{i}: {d} seconds')"
   ]
  },
  {
   "cell_type": "markdown",
   "metadata": {},
   "source": [
    "# Play Tic-Tac-Toe"
   ]
  },
  {
   "cell_type": "code",
   "execution_count": null,
   "metadata": {},
   "outputs": [],
   "source": [
    "%run Tic-Tac-Toe.ipynb"
   ]
  },
  {
   "cell_type": "markdown",
   "metadata": {},
   "source": [
    "With memoization, computing the value of the start state takes 95 ms.  Without memoization, it takes 5 seconds."
   ]
  },
  {
   "cell_type": "code",
   "execution_count": null,
   "metadata": {},
   "outputs": [],
   "source": [
    "%%time\n",
    "val = value(Start, 'X', 6, heuristic)"
   ]
  },
  {
   "cell_type": "markdown",
   "metadata": {},
   "source": [
    "We check how many different states are stored in the `Cache`.  Without alpha-beta pruning, we had to inspect 5478 different states."
   ]
  },
  {
   "cell_type": "code",
   "execution_count": null,
   "metadata": {},
   "outputs": [],
   "source": [
    "len(Cache)"
   ]
  },
  {
   "cell_type": "markdown",
   "metadata": {},
   "source": [
    "Let's draw the board."
   ]
  },
  {
   "cell_type": "code",
   "execution_count": null,
   "metadata": {},
   "outputs": [],
   "source": [
    "canvas = create_canvas(Start)\n",
    "draw(Start, canvas, f'Current value of game for \"X\": {val}')"
   ]
  },
  {
   "cell_type": "markdown",
   "metadata": {},
   "source": [
    "Now its time to play.  In the input window that will pop up later, enter your move in the format \"row,col\"  with no space between row and column."
   ]
  },
  {
   "cell_type": "code",
   "execution_count": null,
   "metadata": {
    "scrolled": false
   },
   "outputs": [],
   "source": [
    "play_game(canvas, 6, heuristic)"
   ]
  },
  {
   "cell_type": "markdown",
   "metadata": {},
   "source": [
    "# Play Connect Four"
   ]
  },
  {
   "cell_type": "code",
   "execution_count": 13,
   "metadata": {},
   "outputs": [
    {
     "data": {
      "text/html": [
       "<style>\n",
       ".container { width:100% }\n",
       "</style>"
      ],
      "text/plain": [
       "<IPython.core.display.HTML object>"
      ]
     },
     "metadata": {},
     "output_type": "display_data"
    }
   ],
   "source": [
    "%run Connect-Four.ipynb"
   ]
  },
  {
   "cell_type": "code",
   "execution_count": 14,
   "metadata": {},
   "outputs": [
    {
     "name": "stdout",
     "output_type": "stream",
     "text": [
      "CPU times: user 1min 9s, sys: 174 ms, total: 1min 9s\n",
      "Wall time: 1min 9s\n"
     ]
    }
   ],
   "source": [
    "%%time\n",
    "val = value(Start, 'X', 10, heuristic)"
   ]
  },
  {
   "cell_type": "code",
   "execution_count": 15,
   "metadata": {},
   "outputs": [
    {
     "data": {
      "text/plain": [
       "203043"
      ]
     },
     "execution_count": 15,
     "metadata": {},
     "output_type": "execute_result"
    }
   ],
   "source": [
    "len(Cache)"
   ]
  },
  {
   "cell_type": "code",
   "execution_count": 16,
   "metadata": {},
   "outputs": [
    {
     "data": {
      "application/vnd.jupyter.widget-view+json": {
       "model_id": "e3fd01a1e9f24b8286e3dc5b2c3c18e7",
       "version_major": 2,
       "version_minor": 0
      },
      "text/plain": [
       "Canvas(height=400, width=350)"
      ]
     },
     "metadata": {},
     "output_type": "display_data"
    }
   ],
   "source": [
    "canvas = create_canvas(Start)\n",
    "draw(Start, canvas, f'Current value of game for \"X\": {round(val, 2)}')"
   ]
  },
  {
   "cell_type": "code",
   "execution_count": 17,
   "metadata": {},
   "outputs": [
    {
     "name": "stdout",
     "output_type": "stream",
     "text": [
      "Enter column here: 1\n",
      "You have lost!\n",
      "0: 44.71 seconds\n",
      "1: 16.64 seconds\n",
      "2: 14.24 seconds\n",
      "3: 7.86 seconds\n",
      "4: 15.74 seconds\n",
      "5: 10.31 seconds\n",
      "6: 10.6 seconds\n",
      "7: 6.89 seconds\n",
      "8: 1.8 seconds\n",
      "9: 1.18 seconds\n",
      "10: 1.24 seconds\n",
      "11: 0.4 seconds\n",
      "12: 0.33 seconds\n",
      "13: 0.29 seconds\n",
      "14: 0.05 seconds\n",
      "15: 0.04 seconds\n",
      "16: 0.0 seconds\n",
      "17: 0.0 seconds\n",
      "18: 0.0 seconds\n",
      "19: 0.0 seconds\n",
      "20: 0.0 seconds\n"
     ]
    }
   ],
   "source": [
    "play_game(canvas, 9, heuristic)"
   ]
  },
  {
   "cell_type": "code",
   "execution_count": null,
   "metadata": {},
   "outputs": [],
   "source": [
    "len(Cache)"
   ]
  },
  {
   "cell_type": "code",
   "execution_count": null,
   "metadata": {},
   "outputs": [],
   "source": []
  }
 ],
 "metadata": {
  "kernelspec": {
   "display_name": "Python 3",
   "language": "python",
   "name": "python3"
  },
  "language_info": {
   "codemirror_mode": {
    "name": "ipython",
    "version": 3
   },
   "file_extension": ".py",
   "mimetype": "text/x-python",
   "name": "python",
   "nbconvert_exporter": "python",
   "pygments_lexer": "ipython3",
   "version": "3.7.6"
  },
  "toc": {
   "base_numbering": 1,
   "nav_menu": {},
   "number_sections": true,
   "sideBar": true,
   "skip_h1_title": false,
   "title_cell": "Table of Contents",
   "title_sidebar": "Contents",
   "toc_cell": false,
   "toc_position": {},
   "toc_section_display": true,
   "toc_window_display": false
  },
  "varInspector": {
   "cols": {
    "lenName": 16,
    "lenType": 16,
    "lenVar": 40
   },
   "kernels_config": {
    "python": {
     "delete_cmd_postfix": "",
     "delete_cmd_prefix": "del ",
     "library": "var_list.py",
     "varRefreshCmd": "print(var_dic_list())"
    },
    "r": {
     "delete_cmd_postfix": ") ",
     "delete_cmd_prefix": "rm(",
     "library": "var_list.r",
     "varRefreshCmd": "cat(var_dic_list()) "
    }
   },
   "types_to_exclude": [
    "module",
    "function",
    "builtin_function_or_method",
    "instance",
    "_Feature"
   ],
   "window_display": false
  }
 },
 "nbformat": 4,
 "nbformat_minor": 2
}
