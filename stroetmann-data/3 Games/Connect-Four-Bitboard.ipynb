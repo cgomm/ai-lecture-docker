{
 "cells": [
  {
   "cell_type": "code",
   "execution_count": null,
   "metadata": {},
   "outputs": [],
   "source": [
    "from IPython.core.display import HTML\n",
    "with open('../style.css') as f:\n",
    "    css = f.read()\n",
    "HTML(css)"
   ]
  },
  {
   "cell_type": "markdown",
   "metadata": {},
   "source": [
    "# Utilities for Bitboards"
   ]
  },
  {
   "cell_type": "markdown",
   "metadata": {},
   "source": [
    "The function `board_2_bitmap` takes two parameters:\n",
    "- `board` is a numpy array representing a board.\n",
    "- `player` is an integer from the set $\\{1, -1\\}$.\n",
    "\n",
    "It returns an integer encoding the position of the player as a bitstring.\n",
    "\n",
    "```\n",
    "  48 49 50 51 52 53 54   55   \n",
    "+----------------------+ \n",
    "| 40 41 42 43 44 45 46 | 47   top row\n",
    "| 32 33 34 35 36 37 38 | 39\n",
    "| 24 25 26 27 28 29 30 | 31\n",
    "| 16 17 18 19 20 21 22 | 23\n",
    "|  8  9 10 11 12 13 14 | 15 \n",
    "|  0  1  2  3  4  5  6 |  7   bottom row\n",
    "+----------------------+\n",
    "```"
   ]
  },
  {
   "cell_type": "code",
   "execution_count": null,
   "metadata": {},
   "outputs": [],
   "source": [
    "top_line = (1 << 40) | (1 << 41) | (1 << 42) | (1 << 43) | (1 << 44) | (1 << 45) | (1 << 46)\n",
    "top_line"
   ]
  },
  {
   "cell_type": "code",
   "execution_count": null,
   "metadata": {},
   "outputs": [],
   "source": [
    "def bit_position(row, col):\n",
    "    return row * 8 + col"
   ]
  },
  {
   "cell_type": "code",
   "execution_count": null,
   "metadata": {},
   "outputs": [],
   "source": [
    "def get_bit(bitboard, row, col):\n",
    "    pos = bit_position(row, col)\n",
    "    return (bitboard >> pos) & 1"
   ]
  },
  {
   "cell_type": "code",
   "execution_count": null,
   "metadata": {},
   "outputs": [],
   "source": [
    "def set_bit(bitboard, row, col):\n",
    "    pos = bit_position(row, col)\n",
    "    return bitboard | (1 << pos)"
   ]
  },
  {
   "cell_type": "code",
   "execution_count": null,
   "metadata": {},
   "outputs": [],
   "source": [
    "def board_2_bitmap(board, player):\n",
    "    position = ''\n",
    "    for row in range(5+1):\n",
    "        for col in range(0, 6):\n",
    "            if board[row, col] == player:\n",
    "                position += '1'\n",
    "            else:\n",
    "                position += '0'\n",
    "        position += '0'\n",
    "    return int(position, 2)"
   ]
  },
  {
   "cell_type": "markdown",
   "metadata": {},
   "source": [
    "Given a `bitboard` representing the pieces of one player, check whether there are four pieces in a horizontal, vertical, or diagonal line."
   ]
  },
  {
   "cell_type": "code",
   "execution_count": null,
   "metadata": {},
   "outputs": [],
   "source": [
    "def has_four(bitboard):\n",
    "    shifts = [1, 7, 8, 9]\n",
    "    for s in shifts:\n",
    "        if bitboard & (bitboard >> s) & (bitboard >> (2 * s)) & (bitboard >> (3 * s)):\n",
    "            return True\n",
    "    return False"
   ]
  },
  {
   "cell_type": "markdown",
   "metadata": {},
   "source": [
    "# Connect Four"
   ]
  },
  {
   "cell_type": "markdown",
   "metadata": {},
   "source": [
    "This notebook defines the game <a href=\"https://en.wikipedia.org/wiki/Connect_Four\">Connect Four</a>.  You can play it online at:  <a href=\"http://www.connectfour.org/connect-4-online.php\">http://www.connectfour.org/connect-4-online.php</a>.\n",
    "    \n",
    "Connect Four is played on a $7 \\times 6$ board.  Instead of `Red` and `Yellow` we call the players `X`and `O`.  Player `X` starts.  Player `X` and `O` take turns to choose columns that are not yet filled.  When player `X` chooses column `c`,  the first non-empty field in column `c` is filled with an `\"X\"`.  Likewise, when player `O` chooses column `c`,  the first non-empty field in column `c` is filled with an `\"X\"`.  Rows are numbered from the bottom up, i.e. the bottom row is row $0$.  The goal of the game for player `X` is to get four consecutive <tt>X</tt>s into a row, column, or diagonal line, while player `O` needs to get four consecutive <tt>O</tt>s into a row, column, or diagonal line."
   ]
  },
  {
   "cell_type": "code",
   "execution_count": null,
   "metadata": {},
   "outputs": [],
   "source": [
    "Players = [0, 1]"
   ]
  },
  {
   "cell_type": "markdown",
   "metadata": {},
   "source": [
    "States are represented as pairs of bitboards.  The start state is the empty board.  "
   ]
  },
  {
   "cell_type": "code",
   "execution_count": 1,
   "metadata": {},
   "outputs": [
    {
     "data": {
      "text/plain": [
       "(0, 0)"
      ]
     },
     "execution_count": 1,
     "metadata": {},
     "output_type": "execute_result"
    }
   ],
   "source": [
    "Start = (0, 0)\n",
    "Start"
   ]
  },
  {
   "cell_type": "markdown",
   "metadata": {},
   "source": [
    "The function `find_empty` takes two arguments:\n",
    "- `State` is a description of the board,\n",
    "- `col`   specifies a column, i.e. it is an integer from the set $\\{0, \\cdots, 6\\}$.\n",
    "\n",
    "Given the `State` the function `find_empty(State, col)` returns the smallest $\\texttt{row} \\in \\{0, \\cdots, 5\\}$ such that \n",
    "\n",
    "```\n",
    "    State[row][col] == ' '\n",
    "```\n",
    "holds.  If the specified column is already completely filled, then instead `None` is returned."
   ]
  },
  {
   "cell_type": "code",
   "execution_count": null,
   "metadata": {},
   "outputs": [],
   "source": [
    "def find_empty(state, col):\n",
    "    b1, b2 = state\n",
    "    board = b1 | b2\n",
    "    for row in range(6):\n",
    "        if not get_bit(board, row, col):\n",
    "            return row\n",
    "    return 6"
   ]
  },
  {
   "cell_type": "markdown",
   "metadata": {},
   "source": [
    "Given a `State` and the `player` who has the next move, the function `next_states(State, player)` computes the set of states that can be reached from `State`."
   ]
  },
  {
   "cell_type": "code",
   "execution_count": null,
   "metadata": {},
   "outputs": [],
   "source": [
    "def next_states(state, player):\n",
    "    States = set()\n",
    "    board  = state[player]\n",
    "    for col in range(7):\n",
    "        row = find_empty(state, col)\n",
    "        if row != 6:\n",
    "            new_board = set_bit(board, row, col)\n",
    "            if player == 0:\n",
    "                new_state = (new_board, state[1])\n",
    "            else: \n",
    "                new_state = (state[0], new_board)\n",
    "            States.add(new_state) \n",
    "    return States"
   ]
  },
  {
   "cell_type": "markdown",
   "metadata": {},
   "source": [
    "The variable `All_Lines` collects the coordinates of all groups of four fields that are consecutive horizontally, vertically, or diagonally."
   ]
  },
  {
   "cell_type": "code",
   "execution_count": null,
   "metadata": {},
   "outputs": [],
   "source": [
    "# horizontal lines\n",
    "All_Lines  = [ [ (row, col+x) for x in range(3+1) ] for col in range(4)\n",
    "                                                    for row in range(6) \n",
    "             ]\n",
    "# vertical lines\n",
    "All_Lines += [ [ (row+x, col) for x in range(4) ] for col in range(7)\n",
    "                                                  for row in range(3) \n",
    "             ]\n",
    "# rising diagonals\n",
    "All_Lines += [ [ (row+x, col+x) for x in range(4) ] for col in range(4)\n",
    "                                                    for row in range(3)\n",
    "             ]\n",
    "# falling diagonals\n",
    "All_Lines += [ [ (row+x, col-x) for x in range(4) ] for col in range(3, 7)\n",
    "                                                    for row in range(3)\n",
    "             ]"
   ]
  },
  {
   "cell_type": "markdown",
   "metadata": {},
   "source": [
    "Given a `State` the function `top_line_filled(State)` checks whether all marks in the top line of the given board are filled."
   ]
  },
  {
   "cell_type": "code",
   "execution_count": null,
   "metadata": {},
   "outputs": [],
   "source": [
    "def top_line_filled(state):\n",
    "    b1, b2 = state\n",
    "    board  = b1 | b2\n",
    "    return top_line & board == top_line"
   ]
  },
  {
   "cell_type": "markdown",
   "metadata": {},
   "source": [
    "The function `utility` takes two arguments:\n",
    "- `State` is a tuple of tuple representing the board.\n",
    "- `player` is a player.\n",
    " \n",
    "The function returns `1` if `player` has won the game, `-1` if the game is lost for `player`, `0` if its a draw, and `None` if the game has not yet been decided."
   ]
  },
  {
   "cell_type": "code",
   "execution_count": null,
   "metadata": {},
   "outputs": [],
   "source": [
    "def utility(state, player):\n",
    "    b1, b2 = state\n",
    "    if has_four(b1):\n",
    "        return 1 - 2 * player\n",
    "    if has_four(b2):\n",
    "        return -1 + 2 * player\n",
    "    # no winner so far, check for a draw\n",
    "    if top_line_filled(state):  # no empty squares\n",
    "        return 0\n",
    "    return None"
   ]
  },
  {
   "cell_type": "markdown",
   "metadata": {},
   "source": [
    "The function heuristic tries to guess the value of a state.  As it is never called in terminal states, it assumes that the game will be drawn."
   ]
  },
  {
   "cell_type": "code",
   "execution_count": null,
   "metadata": {},
   "outputs": [],
   "source": [
    "def get_mark(state, row, col):\n",
    "    b1, b2 = state\n",
    "    if get_bit(b1, row, col):\n",
    "        return 'X'\n",
    "    if get_bit(b2, row, col):\n",
    "        return 'O'\n",
    "    return ' '"
   ]
  },
  {
   "cell_type": "code",
   "execution_count": null,
   "metadata": {},
   "outputs": [],
   "source": [
    "def heuristic(state, player):\n",
    "    b1, b2 = state\n",
    "    result = 0.0\n",
    "    # all lines are checked whether they contain either 3 or 2 identical nonempty marks \n",
    "    for Line in All_Lines:\n",
    "        List = []\n",
    "        for row, col in Line:\n",
    "            mark = get_mark(state, row, col)\n",
    "            if mark != ' ':\n",
    "                List.append(mark)\n",
    "        if len(List) == 3:\n",
    "            Chars = set(List)\n",
    "            if len(Chars) == 1:\n",
    "                if Chars == { player }: \n",
    "                    result += 1/10\n",
    "                else:\n",
    "                    result -= 1/10\n",
    "        if len(List) == 2:\n",
    "            Chars = set(List)\n",
    "            if len(Chars) == 1:\n",
    "                if Chars == { player }: \n",
    "                    result += 1/100\n",
    "                else:\n",
    "                    result -= 1/100\n",
    "    return result"
   ]
  },
  {
   "cell_type": "markdown",
   "metadata": {},
   "source": [
    "`finished(State)` is `True` if the game is over."
   ]
  },
  {
   "cell_type": "code",
   "execution_count": null,
   "metadata": {},
   "outputs": [],
   "source": [
    "def finished(state):\n",
    "    return utility(state, 0) != None"
   ]
  },
  {
   "cell_type": "markdown",
   "metadata": {},
   "source": [
    "The function `get_move` asks the user to input a move in the format `r,c` where `r` is the row and the `c` is the column where the next symbol is to be placed."
   ]
  },
  {
   "cell_type": "code",
   "execution_count": null,
   "metadata": {},
   "outputs": [],
   "source": [
    "def get_move(state):\n",
    "    b1, b2 = state\n",
    "    while True:\n",
    "        col = input(\"Enter column here: \")\n",
    "        col = int(col)\n",
    "        row = find_empty(state, col)\n",
    "        if row != 6:\n",
    "            b2 = set_bit(b2, row, col)\n",
    "            return b1, b2\n",
    "        else:\n",
    "            print(\"Don't cheat.  Please try again.\")           "
   ]
  },
  {
   "cell_type": "markdown",
   "metadata": {},
   "source": [
    "This function informs the user about the result of the game once the game is finished."
   ]
  },
  {
   "cell_type": "code",
   "execution_count": null,
   "metadata": {},
   "outputs": [],
   "source": [
    "def final_msg(State):\n",
    "    if finished(State):\n",
    "        if utility(State, 1) == 1:\n",
    "            print(\"You have won!\")\n",
    "        elif utility(State, 1) == -1:\n",
    "            print(\"You have lost!\")\n",
    "        else:\n",
    "            print(\"It's a draw.\");\n",
    "        return True\n",
    "    return False"
   ]
  },
  {
   "cell_type": "markdown",
   "metadata": {},
   "source": [
    "# Drawing the Board"
   ]
  },
  {
   "cell_type": "code",
   "execution_count": null,
   "metadata": {},
   "outputs": [],
   "source": [
    "import ipycanvas as cnv"
   ]
  },
  {
   "cell_type": "code",
   "execution_count": null,
   "metadata": {},
   "outputs": [],
   "source": [
    "size = 50"
   ]
  },
  {
   "cell_type": "markdown",
   "metadata": {},
   "source": [
    "This function creates the canvas for the start state.  It draws an empty board which is later used for the game."
   ]
  },
  {
   "cell_type": "code",
   "execution_count": null,
   "metadata": {},
   "outputs": [],
   "source": [
    "def create_canvas(Start):\n",
    "    n = len(Start)\n",
    "    canvas = cnv.Canvas(size=(size * 7, size * 8))\n",
    "    display(canvas)\n",
    "    return canvas"
   ]
  },
  {
   "cell_type": "code",
   "execution_count": null,
   "metadata": {},
   "outputs": [],
   "source": [
    "import math "
   ]
  },
  {
   "cell_type": "markdown",
   "metadata": {},
   "source": [
    "The function `draw` takes three arguments:\n",
    "- `State` is the current state of the game.\n",
    "- `canvas` is a canvas used to draw the state.\n",
    "- `value` is the value of the game for player `X`.\n",
    "\n",
    "The function draws the given `State` onto `canvas`.  Below that, the `value` is printed."
   ]
  },
  {
   "cell_type": "code",
   "execution_count": null,
   "metadata": {},
   "outputs": [],
   "source": [
    "def draw(state, canvas, value):\n",
    "    b1, b2 = state\n",
    "    canvas.clear()\n",
    "    canvas.font = '36px sans-serif'\n",
    "    canvas.text_align    = 'center'\n",
    "    canvas.text_baseline = 'middle'\n",
    "    for row in range(6):\n",
    "        for col in range(7):\n",
    "            x = col * size\n",
    "            y = row * size\n",
    "            canvas.line_width = 3.0\n",
    "            canvas.stroke_rect(x, y, size, size)\n",
    "            x += size // 2\n",
    "            y += size // 2\n",
    "            s1 = get_bit(b1, 5 - row, col)\n",
    "            s2 = get_bit(b2, 5 - row, col)\n",
    "            if s1 != 0:\n",
    "                canvas.fill_style ='red'\n",
    "                canvas.fill_arc(x, y, 0.4*size, 0, 2*math.pi)\n",
    "            if s2 != 0:\n",
    "                canvas.fill_style ='blue'\n",
    "                canvas.fill_arc(x, y, 0.4*size, 0, 2*math.pi)\n",
    "    canvas.font = '20px sans-serif'\n",
    "    canvas.fill_style = 'black'\n",
    "    for i in range(7):\n",
    "        x = (i + 0.5) * size\n",
    "        y = 6.4 * size\n",
    "        canvas.fill_text(str(i), x, y) \n",
    "    x = 3.5 * size\n",
    "    y = 7.4 * size\n",
    "    canvas.fill_text(str(value), x, y)"
   ]
  },
  {
   "cell_type": "code",
   "execution_count": null,
   "metadata": {},
   "outputs": [],
   "source": []
  }
 ],
 "metadata": {
  "kernelspec": {
   "display_name": "Python 3",
   "language": "python",
   "name": "python3"
  },
  "language_info": {
   "codemirror_mode": {
    "name": "ipython",
    "version": 3
   },
   "file_extension": ".py",
   "mimetype": "text/x-python",
   "name": "python",
   "nbconvert_exporter": "python",
   "pygments_lexer": "ipython3",
   "version": "3.7.9"
  },
  "toc": {
   "base_numbering": 1,
   "nav_menu": {},
   "number_sections": true,
   "sideBar": true,
   "skip_h1_title": false,
   "title_cell": "Table of Contents",
   "title_sidebar": "Contents",
   "toc_cell": false,
   "toc_position": {},
   "toc_section_display": true,
   "toc_window_display": false
  },
  "varInspector": {
   "cols": {
    "lenName": 16,
    "lenType": 16,
    "lenVar": 40
   },
   "kernels_config": {
    "python": {
     "delete_cmd_postfix": "",
     "delete_cmd_prefix": "del ",
     "library": "var_list.py",
     "varRefreshCmd": "print(var_dic_list())"
    },
    "r": {
     "delete_cmd_postfix": ") ",
     "delete_cmd_prefix": "rm(",
     "library": "var_list.r",
     "varRefreshCmd": "cat(var_dic_list()) "
    }
   },
   "types_to_exclude": [
    "module",
    "function",
    "builtin_function_or_method",
    "instance",
    "_Feature"
   ],
   "window_display": false
  }
 },
 "nbformat": 4,
 "nbformat_minor": 2
}
